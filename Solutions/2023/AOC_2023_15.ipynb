{
 "cells": [
  {
   "cell_type": "code",
   "execution_count": 1,
   "metadata": {
    "cellView": "form",
    "id": "OY-OfycLtnkF"
   },
   "outputs": [],
   "source": [
    "from pathlib import Path\n",
    "import os\n",
    "\n",
    "yr = 2023\n",
    "d = 15\n",
    "\n",
    "inp_path = os.path.join(Path(os.path.abspath(\"\")).parents[1], \n",
    "             'Input', '{}'.format(yr), \n",
    "             '{}.txt'.format(d))\n",
    "\n",
    "\n",
    "with open(inp_path, 'r') as file:\n",
    "    inp = file.read()"
   ]
  },
  {
   "cell_type": "code",
   "execution_count": 2,
   "metadata": {
    "id": "nF0Lxgy4trQH"
   },
   "outputs": [],
   "source": [
    "def format_input(inp):\n",
    "    return inp.split(',')"
   ]
  },
  {
   "cell_type": "code",
   "execution_count": 3,
   "metadata": {
    "id": "MtB-HQIZva6M"
   },
   "outputs": [],
   "source": [
    "def HASH(seq):\n",
    "  s = 0\n",
    "  for c in seq:\n",
    "    s += ord(c)\n",
    "    s *= 17\n",
    "    s %= 256\n",
    "  return s\n",
    "\n",
    "def sum_of_HASH(formatted_input):\n",
    "  return sum([HASH(seq) for seq in formatted_input])"
   ]
  },
  {
   "cell_type": "code",
   "execution_count": 4,
   "metadata": {
    "id": "4lrI6NEMwcjg"
   },
   "outputs": [],
   "source": [
    "def HASHMAP(formatted_input):\n",
    "  boxes = {i: [] for i in range(256)}\n",
    "  for inp in formatted_input:\n",
    "    n = None\n",
    "    cur_label = inp[:-2] if inp[-2] == '=' else inp[:-1]\n",
    "    cur_box = HASH(cur_label)\n",
    "    operator = inp[-2] if inp[-1].isnumeric() else inp[-1]\n",
    "    labels_in_cur_box = [lens[0] for lens in boxes[cur_box]]\n",
    "    cur_box_label_index = labels_in_cur_box.index(cur_label) if cur_label in labels_in_cur_box else None\n",
    "    assert(operator in ('=', '-'))\n",
    "    if operator == '=':\n",
    "      n = inp[-1]\n",
    "      if cur_box_label_index is not None:\n",
    "        boxes[cur_box][cur_box_label_index] = (cur_label, n)\n",
    "      else:\n",
    "        boxes[cur_box].append((cur_label, n))\n",
    "    elif operator == '-':\n",
    "      if cur_label in labels_in_cur_box:\n",
    "        boxes[cur_box] = [x for x in boxes[cur_box] if x[0] != cur_label]\n",
    "      else:\n",
    "        pass\n",
    "  return boxes\n",
    "\n",
    "def sum_of_HASHMAP(formatted_input):\n",
    "  m = HASHMAP(formatted_input)\n",
    "  s = 0\n",
    "  for bi in range(256):\n",
    "    for li, lens in enumerate(m[bi]):\n",
    "      s += (bi+1)*(li+1)*int(lens[1])\n",
    "  return s"
   ]
  },
  {
   "cell_type": "code",
   "execution_count": 5,
   "metadata": {
    "colab": {
     "base_uri": "https://localhost:8080/"
    },
    "id": "YkUfvL3RyqQs",
    "outputId": "2bff0b78-dc8d-4cad-a431-ca7feec71a29"
   },
   "outputs": [
    {
     "name": "stdout",
     "output_type": "stream",
     "text": [
      "516804\n",
      "231844\n",
      "\n",
      "RUNTIME:  0.007979154586791992\n"
     ]
    }
   ],
   "source": [
    "import time\n",
    "\n",
    "t = time.time()\n",
    "\n",
    "formatted_input = format_input(inp)\n",
    "\n",
    "print(sum_of_HASH(formatted_input))\n",
    "print(sum_of_HASHMAP(formatted_input))\n",
    "\n",
    "print('\\nRUNTIME: ', time.time()-t)"
   ]
  }
 ],
 "metadata": {
  "colab": {
   "provenance": []
  },
  "kernelspec": {
   "display_name": "Python 3 (ipykernel)",
   "language": "python",
   "name": "python3"
  },
  "language_info": {
   "codemirror_mode": {
    "name": "ipython",
    "version": 3
   },
   "file_extension": ".py",
   "mimetype": "text/x-python",
   "name": "python",
   "nbconvert_exporter": "python",
   "pygments_lexer": "ipython3",
   "version": "3.9.18"
  }
 },
 "nbformat": 4,
 "nbformat_minor": 4
}
