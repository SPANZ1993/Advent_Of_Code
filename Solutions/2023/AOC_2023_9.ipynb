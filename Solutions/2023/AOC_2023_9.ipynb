{
 "cells": [
  {
   "cell_type": "code",
   "execution_count": 1,
   "metadata": {
    "id": "iQybmRuc8K3c"
   },
   "outputs": [],
   "source": [
    "from pathlib import Path\n",
    "import os\n",
    "\n",
    "yr = 2023\n",
    "d = 9\n",
    "\n",
    "inp_path = os.path.join(Path(os.path.abspath(\"\")).parents[1], \n",
    "             'Input', '{}'.format(yr), \n",
    "             '{}.txt'.format(d))\n",
    "\n",
    "\n",
    "with open(inp_path, 'r') as file:\n",
    "    inp = file.read()"
   ]
  },
  {
   "cell_type": "code",
   "execution_count": 2,
   "metadata": {
    "id": "G6awwq7s9bNY"
   },
   "outputs": [],
   "source": [
    "def format_input(inp):\n",
    "  res = []\n",
    "  for l in inp.split('\\n'):\n",
    "    res.append([int(n) for n in l.split(' ')])\n",
    "  return res"
   ]
  },
  {
   "cell_type": "code",
   "execution_count": 3,
   "metadata": {
    "id": "kweYh64C9slf"
   },
   "outputs": [],
   "source": [
    "def extrapolate(seq, reverse=False):\n",
    "  import numpy as np\n",
    "  from copy import deepcopy\n",
    "\n",
    "  diffs = [deepcopy(seq) if not reverse else deepcopy(list(reversed(seq)))]\n",
    "  while not all([n==0 for n in diffs[-1]]):\n",
    "    diffs.append(list(np.diff(diffs[-1])))\n",
    "  for i in reversed(range(len(diffs))):\n",
    "    if i == len(diffs)-1:\n",
    "      diffs[i].append(0)\n",
    "    else:\n",
    "      diffs[i].append(diffs[i][-1]+diffs[i+1][-1])\n",
    "  return diffs[0][-1]\n",
    "\n",
    "def sum_history(formatted_input, reverse=False):\n",
    "  import numpy as np\n",
    "  return np.array([extrapolate(s, reverse) for s in formatted_input]).sum(dtype=np.int64)"
   ]
  },
  {
   "cell_type": "code",
   "execution_count": 4,
   "metadata": {
    "colab": {
     "base_uri": "https://localhost:8080/"
    },
    "id": "E7bRUEXD_tFG",
    "outputId": "ebb6e4ac-c6f2-4e89-b58e-79922d6840e2",
    "scrolled": true
   },
   "outputs": [
    {
     "name": "stdout",
     "output_type": "stream",
     "text": [
      "2174807968\n",
      "1208\n",
      "\n",
      "RUNTIME:  0.1077120304107666\n"
     ]
    }
   ],
   "source": [
    "import time\n",
    "\n",
    "formatted_input = format_input(inp)\n",
    "\n",
    "t = time.time()\n",
    "\n",
    "print(sum_history(formatted_input))\n",
    "print(sum_history(formatted_input, reverse=True))\n",
    "\n",
    "print('\\nRUNTIME: ', time.time()-t)"
   ]
  }
 ],
 "metadata": {
  "colab": {
   "provenance": []
  },
  "kernelspec": {
   "display_name": "Python 3 (ipykernel)",
   "language": "python",
   "name": "python3"
  },
  "language_info": {
   "codemirror_mode": {
    "name": "ipython",
    "version": 3
   },
   "file_extension": ".py",
   "mimetype": "text/x-python",
   "name": "python",
   "nbconvert_exporter": "python",
   "pygments_lexer": "ipython3",
   "version": "3.9.18"
  }
 },
 "nbformat": 4,
 "nbformat_minor": 4
}
