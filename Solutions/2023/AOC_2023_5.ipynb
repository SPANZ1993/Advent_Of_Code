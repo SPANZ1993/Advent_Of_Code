{
 "cells": [
  {
   "cell_type": "code",
   "execution_count": 1,
   "metadata": {
    "cellView": "form",
    "id": "AbDKj90QqHA3"
   },
   "outputs": [],
   "source": [
    "from pathlib import Path\n",
    "import os\n",
    "\n",
    "yr = 2023\n",
    "d = 5\n",
    "\n",
    "inp_path = os.path.join(Path(os.path.abspath(\"\")).parents[1], \n",
    "             'Input', '{}'.format(yr), \n",
    "             '{}.txt'.format(d))\n",
    "\n",
    "\n",
    "with open(inp_path, 'r') as file:\n",
    "    inp = file.read()"
   ]
  },
  {
   "cell_type": "code",
   "execution_count": 2,
   "metadata": {
    "id": "CI8F1zfzrFxG"
   },
   "outputs": [],
   "source": [
    "def format_input(inp):\n",
    "  lines = inp.split('\\n')\n",
    "  seed_nums = [int(n) for n in lines[0].split(' ') if n.isnumeric()]\n",
    "\n",
    "\n",
    "  output = [seed_nums]\n",
    "  cur_dict = None\n",
    "  for l in lines[1:]:\n",
    "    if '-' in l:\n",
    "      if cur_dict is not None:\n",
    "        output.append(cur_dict)\n",
    "      cur_dict = {}\n",
    "    if len(l.split(' ')) != 0 and l.split(' ')[0].isnumeric():\n",
    "      cur_nums = [int(n) for n in l.split(' ')]\n",
    "      cur_dict[cur_nums[1]] = {}\n",
    "      cur_dict[cur_nums[1]]['dest'] = cur_nums[0]\n",
    "      cur_dict[cur_nums[1]]['range'] = cur_nums[2]\n",
    "  output.append(cur_dict)\n",
    "\n",
    "  return tuple(output)\n",
    "\n",
    "\n"
   ]
  },
  {
   "cell_type": "code",
   "execution_count": 3,
   "metadata": {
    "id": "hdhxkFPExyEg"
   },
   "outputs": [],
   "source": [
    "def get_value(q, d):\n",
    "  for k, v in d.items():\n",
    "    if q >= k and q <= k+v['range']-1:\n",
    "      return q-k+v['dest']\n",
    "  else:\n",
    "    return q\n",
    "\n",
    "def get_value_chained(q, *args):\n",
    "  for d in args:\n",
    "    q = get_value(q, d)\n",
    "  return q\n",
    "\n",
    "def get_seed_locs(seed_nums, *args):\n",
    "  seed_locs = []\n",
    "  for sv in seed_nums:\n",
    "    seed_locs.append(get_value_chained(sv, *args))\n",
    "  return seed_locs"
   ]
  },
  {
   "cell_type": "code",
   "execution_count": 4,
   "metadata": {
    "id": "QtDbvPp19qQP"
   },
   "outputs": [],
   "source": [
    "def get_potential_values(q, qr, d):\n",
    "  qmax = q+qr-1\n",
    "  potential_dests = []\n",
    "  found_ranges = []\n",
    "  for k, v in d.items():\n",
    "    # If our query overlaps with the current range\n",
    "    if qmax >= k and q <= k+v['range']-1:\n",
    "      min_dest = max(v['dest'], v['dest']+(q-k))\n",
    "      max_dest = min(v['dest']+v['range']-1,\n",
    "                     v['dest']+v['range']-1-(k+v['range']-1-qmax))\n",
    "      min_q_overlap = max(k, q)\n",
    "      max_q_overlap = min(k+v['range']-1, qmax)\n",
    "\n",
    "      potential_dests.append((min_dest, max_dest))\n",
    "      found_ranges.append((min_q_overlap, max_q_overlap))\n",
    "\n",
    "  found_ranges = sorted(found_ranges, key=lambda x: x[0])\n",
    "\n",
    "\n",
    "  # For all ranges in our query that we didn't find a match for in our\n",
    "  # dictionary, map those ranges to themselves in our potential destinations\n",
    "  unfound_ranges = []\n",
    "  for i, fr in enumerate(found_ranges):\n",
    "    if i==len(found_ranges)-1:\n",
    "      if fr[1] != qmax:\n",
    "        unfound_ranges.append((fr[1]+1, qmax))\n",
    "    elif fr[1] != found_ranges[i+1][0]:\n",
    "      unfound_ranges.append((fr[1]+1, found_ranges[i+1][0]-1))\n",
    "    if i==0:\n",
    "      if fr[0] != q:\n",
    "        unfound_ranges.append((q, fr[0]-1))\n",
    "  if len(found_ranges)==0:\n",
    "    unfound_ranges = [(q,qmax)]\n",
    "\n",
    "\n",
    "  unfound_ranges = [ur for ur in unfound_ranges if ur[0]<=ur[1]]\n",
    "  for ur in unfound_ranges:\n",
    "    potential_dests.append(ur)\n",
    "\n",
    "\n",
    "  # Convert Destinations to be destinations with ranges\n",
    "  potential_dests = [(pd[0], pd[1]-pd[0]+1) for pd in potential_dests]\n",
    "\n",
    "  return sorted(potential_dests, key=lambda x: x[0])\n",
    "\n",
    "\n",
    "def get_potential_values_chained(q, qr, *args):\n",
    "  potential_vals = [(q,qr)]\n",
    "  next_potential_vals = []\n",
    "\n",
    "  for d in args:\n",
    "    for pv in potential_vals:\n",
    "      cur_pvs = get_potential_values(pv[0], pv[1], d)\n",
    "      for cpv in cur_pvs:\n",
    "        next_potential_vals.append(cpv)\n",
    "    potential_vals = sorted(next_potential_vals, key=lambda x: x[0])\n",
    "    next_potential_vals = []\n",
    "  return potential_vals\n",
    "\n",
    "\n",
    "def get_seed_range_locs(seed_nums, *args):\n",
    "  seed_ranges = [(seed_nums[i], seed_nums[i+1])\n",
    "                   for i in range(0,len(seed_nums),2)]\n",
    "  seed_locs = []\n",
    "  for sr in seed_ranges:\n",
    "    cur_seed_locs = get_potential_values_chained(sr[0], sr[1], *args)\n",
    "    for csl in cur_seed_locs:\n",
    "      seed_locs.append(csl)\n",
    "  return seed_locs"
   ]
  },
  {
   "cell_type": "code",
   "execution_count": 5,
   "metadata": {
    "colab": {
     "base_uri": "https://localhost:8080/"
    },
    "id": "-9ariHR_1DdP",
    "outputId": "b8daad90-7789-4dca-df4a-fb4b0020d253"
   },
   "outputs": [
    {
     "name": "stdout",
     "output_type": "stream",
     "text": [
      "662197086\n",
      "52510809\n",
      "\n",
      "RUNTIME:  0.0029914379119873047\n"
     ]
    }
   ],
   "source": [
    "import time\n",
    "\n",
    "t = time.time()\n",
    "\n",
    "(seed_nums, seed_2_soil, soil_2_fertilizer, fertilier_2_water, water_2_light,\n",
    "light_2_temperature, temperature_2_humidity,\n",
    "humidity_2_location) = format_input(inp)\n",
    "\n",
    "print(min(get_seed_locs(seed_nums,\n",
    "              seed_2_soil,\n",
    "              soil_2_fertilizer,\n",
    "              fertilier_2_water,\n",
    "              water_2_light,\n",
    "              light_2_temperature,\n",
    "              temperature_2_humidity,\n",
    "              humidity_2_location)))\n",
    "\n",
    "print(min(get_seed_range_locs(seed_nums,\n",
    "              seed_2_soil,\n",
    "              soil_2_fertilizer,\n",
    "              fertilier_2_water,\n",
    "              water_2_light,\n",
    "              light_2_temperature,\n",
    "              temperature_2_humidity,\n",
    "              humidity_2_location), key=lambda x: x[0])[0])\n",
    "\n",
    "print(\"\\nRUNTIME: \", time.time()-t)"
   ]
  }
 ],
 "metadata": {
  "colab": {
   "provenance": []
  },
  "kernelspec": {
   "display_name": "Python 3 (ipykernel)",
   "language": "python",
   "name": "python3"
  },
  "language_info": {
   "codemirror_mode": {
    "name": "ipython",
    "version": 3
   },
   "file_extension": ".py",
   "mimetype": "text/x-python",
   "name": "python",
   "nbconvert_exporter": "python",
   "pygments_lexer": "ipython3",
   "version": "3.8.18"
  }
 },
 "nbformat": 4,
 "nbformat_minor": 4
}
