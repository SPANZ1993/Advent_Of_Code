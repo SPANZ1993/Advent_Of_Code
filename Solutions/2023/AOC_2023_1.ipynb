{
 "cells": [
  {
   "cell_type": "code",
   "execution_count": 15,
   "metadata": {
    "cellView": "form",
    "id": "51FCaftJU_Xo"
   },
   "outputs": [],
   "source": [
    "from pathlib import Path\n",
    "import os\n",
    "\n",
    "yr = 2023\n",
    "d = 1\n",
    "\n",
    "inp_path = os.path.join(Path(os.path.abspath(\"\")).parents[1], \n",
    "             'Input', '{}'.format(yr), \n",
    "             '{}.txt'.format(d))\n",
    "\n",
    "\n",
    "with open(inp_path, 'r') as file:\n",
    "    inp = file.read()"
   ]
  },
  {
   "cell_type": "code",
   "execution_count": 16,
   "metadata": {
    "id": "nrDlLxHlV776"
   },
   "outputs": [],
   "source": [
    "def find_code(l, include_text_digits=False, debug=False):\n",
    "  str_2_nums = {'1': 1,\n",
    "                '2': 2,\n",
    "                '3': 3,\n",
    "                '4': 4,\n",
    "                '5': 5,\n",
    "                '6': 6,\n",
    "                '7': 7,\n",
    "                '8': 8,\n",
    "                '9': 9,\n",
    "                '0': 0\n",
    "                }\n",
    "  if include_text_digits:\n",
    "    str_2_nums.update({'one': 1,\n",
    "                       'two': 2,\n",
    "                       'three': 3,\n",
    "                       'four': 4,\n",
    "                       'five': 5,\n",
    "                       'six': 6,\n",
    "                       'seven': 7,\n",
    "                       'eight': 8,\n",
    "                       'nine': 9,\n",
    "                       'zero': 0})\n",
    "\n",
    "\n",
    "  def check_substring(substr, search):\n",
    "    if len(substr) < len(search):\n",
    "      return False\n",
    "    if substr.startswith(search):\n",
    "      return True\n",
    "\n",
    "\n",
    "  first = None\n",
    "  last = None\n",
    "  if debug:\n",
    "    print(l)\n",
    "  for i in range(len(l)):\n",
    "    if first is None:\n",
    "      for nstr, n in str_2_nums.items():\n",
    "        if check_substring(l[i:], nstr):\n",
    "          first = n\n",
    "    if last is None:\n",
    "      for nstr, n in str_2_nums.items():\n",
    "        if check_substring(l[-i-1:], nstr):\n",
    "          last = n\n",
    "  if debug:\n",
    "    print (first, last)\n",
    "  return (10*first)+last"
   ]
  },
  {
   "cell_type": "code",
   "execution_count": 17,
   "metadata": {
    "colab": {
     "base_uri": "https://localhost:8080/"
    },
    "id": "mxKg8A1sbgQL",
    "outputId": "4aa53d17-efb8-442c-c5f5-fb9a83b8e0e3"
   },
   "outputs": [
    {
     "name": "stdout",
     "output_type": "stream",
     "text": [
      "56506\n",
      "56017\n",
      "\n",
      "RUNTIME:  0.1216740608215332\n"
     ]
    }
   ],
   "source": [
    "import time\n",
    "\n",
    "t = time.time()\n",
    "\n",
    "print(sum([find_code(l) for l in inp.split('\\n')]))\n",
    "print(sum([find_code(l, include_text_digits=True) for l in inp.split('\\n')]))\n",
    "\n",
    "\n",
    "print(\"\\nRUNTIME: \", time.time()-t)"
   ]
  }
 ],
 "metadata": {
  "colab": {
   "provenance": []
  },
  "kernelspec": {
   "display_name": "Python 3 (ipykernel)",
   "language": "python",
   "name": "python3"
  },
  "language_info": {
   "codemirror_mode": {
    "name": "ipython",
    "version": 3
   },
   "file_extension": ".py",
   "mimetype": "text/x-python",
   "name": "python",
   "nbconvert_exporter": "python",
   "pygments_lexer": "ipython3",
   "version": "3.8.18"
  }
 },
 "nbformat": 4,
 "nbformat_minor": 4
}
