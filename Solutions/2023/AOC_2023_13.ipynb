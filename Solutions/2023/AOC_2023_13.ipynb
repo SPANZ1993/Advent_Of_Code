{
 "cells": [
  {
   "cell_type": "markdown",
   "metadata": {},
   "source": [
    "# --- Day 13: Point of Incidence ---\n",
    "With your help, the hot springs team locates an appropriate spring which launches you neatly and precisely up to the edge of Lava Island.\n",
    "\n",
    "There's just one problem: you don't see any lava.\n",
    "\n",
    "You do see a lot of ash and igneous rock; there are even what look like gray mountains scattered around. After a while, you make your way to a nearby cluster of mountains only to discover that the valley between them is completely full of large mirrors. Most of the mirrors seem to be aligned in a consistent way; perhaps you should head in that direction?\n",
    "\n",
    "As you move through the valley of mirrors, you find that several of them have fallen from the large metal frames keeping them in place. The mirrors are extremely flat and shiny, and many of the fallen mirrors have lodged into the ash at strange angles. Because the terrain is all one color, it's hard to tell where it's safe to walk or where you're about to run into a mirror.\n",
    "\n",
    "You note down the patterns of ash (.) and rocks (#) that you see as you walk (your puzzle input); perhaps by carefully analyzing these patterns, you can figure out where the mirrors are!\n",
    "\n",
    "For example:\n",
    "```\n",
    "#.##..##.\n",
    "..#.##.#.\n",
    "##......#\n",
    "##......#\n",
    "..#.##.#.\n",
    "..##..##.\n",
    "#.#.##.#.\n",
    "\n",
    "#...##..#\n",
    "#....#..#\n",
    "..##..###\n",
    "#####.##.\n",
    "#####.##.\n",
    "..##..###\n",
    "#....#..#\n",
    "```\n",
    "To find the reflection in each pattern, you need to find a perfect reflection across either a horizontal line between two rows or across a vertical line between two columns.\n",
    "\n",
    "In the first pattern, the reflection is across a vertical line between two columns; arrows on each of the two columns point at the line between the columns:\n",
    "```\n",
    "123456789\n",
    "    ><   \n",
    "#.##..##.\n",
    "..#.##.#.\n",
    "##......#\n",
    "##......#\n",
    "..#.##.#.\n",
    "..##..##.\n",
    "#.#.##.#.\n",
    "    ><   \n",
    "123456789\n",
    "```\n",
    "In this pattern, the line of reflection is the vertical line between columns 5 and 6. Because the vertical line is not perfectly in the middle of the pattern, part of the pattern (column 1) has nowhere to reflect onto and can be ignored; every other column has a reflected column within the pattern and must match exactly: column 2 matches column 9, column 3 matches 8, 4 matches 7, and 5 matches 6.\n",
    "\n",
    "The second pattern reflects across a horizontal line instead:\n",
    "```\n",
    "1 #...##..# 1\n",
    "2 #....#..# 2\n",
    "3 ..##..### 3\n",
    "4v#####.##.v4\n",
    "5^#####.##.^5\n",
    "6 ..##..### 6\n",
    "7 #....#..# 7\n",
    "```\n",
    "This pattern reflects across the horizontal line between rows 4 and 5. Row 1 would reflect with a hypothetical row 8, but since that's not in the pattern, row 1 doesn't need to match anything. The remaining rows match: row 2 matches row 7, row 3 matches row 6, and row 4 matches row 5.\n",
    "\n",
    "To summarize your pattern notes, add up the number of columns to the left of each vertical line of reflection; to that, also add 100 multiplied by the number of rows above each horizontal line of reflection. In the above example, the first pattern's vertical line has 5 columns to its left and the second pattern's horizontal line has 4 rows above it, a total of 405.\n",
    "\n",
    "Find the line of reflection in each of the patterns in your notes. What number do you get after summarizing all of your notes?\n",
    "\n",
    "\n",
    "## --- Part Two ---\n",
    "You resume walking through the valley of mirrors and - SMACK! - run directly into one. Hopefully nobody was watching, because that must have been pretty embarrassing.\n",
    "\n",
    "Upon closer inspection, you discover that every mirror has exactly one smudge: exactly one . or # should be the opposite type.\n",
    "\n",
    "In each pattern, you'll need to locate and fix the smudge that causes a different reflection line to be valid. (The old reflection line won't necessarily continue being valid after the smudge is fixed.)\n",
    "\n",
    "Here's the above example again:\n",
    "```\n",
    "#.##..##.\n",
    "..#.##.#.\n",
    "##......#\n",
    "##......#\n",
    "..#.##.#.\n",
    "..##..##.\n",
    "#.#.##.#.\n",
    "\n",
    "#...##..#\n",
    "#....#..#\n",
    "..##..###\n",
    "#####.##.\n",
    "#####.##.\n",
    "..##..###\n",
    "#....#..#\n",
    "```\n",
    "The first pattern's smudge is in the top-left corner. If the top-left # were instead ., it would have a different, horizontal line of reflection:\n",
    "```\n",
    "1 ..##..##. 1\n",
    "2 ..#.##.#. 2\n",
    "3v##......#v3\n",
    "4^##......#^4\n",
    "5 ..#.##.#. 5\n",
    "6 ..##..##. 6\n",
    "7 #.#.##.#. 7\n",
    "```\n",
    "With the smudge in the top-left corner repaired, a new horizontal line of reflection between rows 3 and 4 now exists. Row 7 has no corresponding reflected row and can be ignored, but every other row matches exactly: row 1 matches row 6, row 2 matches row 5, and row 3 matches row 4.\n",
    "\n",
    "In the second pattern, the smudge can be fixed by changing the fifth symbol on row 2 from . to #:\n",
    "```\n",
    "1v#...##..#v1\n",
    "2^#...##..#^2\n",
    "3 ..##..### 3\n",
    "4 #####.##. 4\n",
    "5 #####.##. 5\n",
    "6 ..##..### 6\n",
    "7 #....#..# 7\n",
    "```\n",
    "Now, the pattern has a different horizontal line of reflection between rows 1 and 2.\n",
    "\n",
    "Summarize your notes as before, but instead use the new different reflection lines. In this example, the first pattern's new horizontal line has 3 rows above it and the second pattern's new horizontal line has 1 row above it, summarizing to the value 400.\n",
    "\n",
    "In each pattern, fix the smudge and find the different line of reflection. What number do you get after summarizing the new reflection line in each pattern in your notes?"
   ]
  },
  {
   "cell_type": "code",
   "execution_count": 1,
   "metadata": {},
   "outputs": [],
   "source": [
    "from pathlib import Path\n",
    "import os\n",
    "\n",
    "yr = 2023\n",
    "d = 13\n",
    "\n",
    "inp_path = os.path.join(Path(os.path.abspath(\"\")).parents[1], \n",
    "             'Input', '{}'.format(yr), \n",
    "             '{}.txt'.format(d))\n",
    "\n",
    "\n",
    "with open(inp_path, 'r') as file:\n",
    "    inp = file.read()"
   ]
  },
  {
   "cell_type": "code",
   "execution_count": 2,
   "metadata": {
    "id": "R47AOmQO-2-m"
   },
   "outputs": [],
   "source": [
    "import numpy as np\n",
    "\n",
    "def format_input(inp):\n",
    "  cur_pattern = []\n",
    "  patterns = []\n",
    "  for l in inp.split('\\n'):\n",
    "    if len(l) != 0:\n",
    "      cur_pattern.append(list(l.replace('.', '0').replace('#', '1')))\n",
    "    else:\n",
    "      patterns.append(np.array(cur_pattern, dtype=int))\n",
    "      cur_pattern = []\n",
    "  patterns.append(np.array(cur_pattern, dtype=int))\n",
    "  return patterns"
   ]
  },
  {
   "cell_type": "code",
   "execution_count": 3,
   "metadata": {
    "colab": {
     "base_uri": "https://localhost:8080/"
    },
    "id": "YKKRj6pjAdOY",
    "outputId": "f9e006c6-f6b1-48ed-88c4-9f667fcb0154"
   },
   "outputs": [],
   "source": [
    "def check_for_symmetry(pattern, index=1, how='vertical', smudged=False):\n",
    "\n",
    "  if how=='horizontal':\n",
    "    h1 = pattern.T[:,:index]\n",
    "    h2 = pattern.T[:,index:]\n",
    "  elif how=='vertical':\n",
    "    h1 = pattern[:,:index]\n",
    "    h2 = pattern[:,index:]\n",
    "\n",
    "  if h1.shape[1] > h2.shape[1]:\n",
    "    h1 = h1[:,h1.shape[1]-h2.shape[1]:]\n",
    "  elif h1.shape[1] < h2.shape[1]:\n",
    "    h2 = h2[:,:-(h2.shape[1]-h1.shape[1])]\n",
    "\n",
    "  if not smudged:\n",
    "    return np.all(h1[:,::-1] == h2)\n",
    "  else:\n",
    "    # If we're one off from a symmetry, we found a smudge\n",
    "    return np.sum((h1[:,::-1] != h2).flatten().astype(int))==1"
   ]
  },
  {
   "cell_type": "code",
   "execution_count": 4,
   "metadata": {
    "id": "p6y_cha9AotE"
   },
   "outputs": [],
   "source": [
    "def find_all_symmetries(pattern, how='vertical', smudged=False):\n",
    "  if how=='vertical':\n",
    "    r = pattern.shape[1]\n",
    "  elif how=='horizontal':\n",
    "    r = pattern.shape[0]\n",
    "\n",
    "  symmetries = []\n",
    "  for i in range(1, r):\n",
    "    if check_for_symmetry(pattern, i, how, smudged):\n",
    "      symmetries.append(i)\n",
    "  return symmetries"
   ]
  },
  {
   "cell_type": "code",
   "execution_count": 5,
   "metadata": {
    "id": "DJxVF7fPGiUs"
   },
   "outputs": [],
   "source": [
    "def sum_of_symmetries(formatted_input, smudged=False):\n",
    "  s = 0\n",
    "  for pattern in formatted_input:\n",
    "    hsym = find_all_symmetries(pattern, 'horizontal', smudged)\n",
    "    vsym = find_all_symmetries(pattern, 'vertical', smudged)\n",
    "    s += (sum(hsym)*100) + sum(vsym)\n",
    "  return s"
   ]
  },
  {
   "cell_type": "code",
   "execution_count": 6,
   "metadata": {
    "colab": {
     "base_uri": "https://localhost:8080/"
    },
    "id": "SYm5E9lfHXId",
    "outputId": "fe6161c7-9575-4f93-fea3-78c7c3e22846"
   },
   "outputs": [
    {
     "name": "stdout",
     "output_type": "stream",
     "text": [
      "33356\n",
      "28475\n",
      "\n",
      "RUNTIME:  0.035903215408325195\n"
     ]
    }
   ],
   "source": [
    "import time\n",
    "\n",
    "t = time.time()\n",
    "\n",
    "formatted_input = format_input(inp)\n",
    "\n",
    "print(sum_of_symmetries(formatted_input))\n",
    "print(sum_of_symmetries(formatted_input, smudged=True))\n",
    "\n",
    "print('\\nRUNTIME: ', time.time()-t)"
   ]
  }
 ],
 "metadata": {
  "colab": {
   "provenance": []
  },
  "kernelspec": {
   "display_name": "Python 3 (ipykernel)",
   "language": "python",
   "name": "python3"
  },
  "language_info": {
   "codemirror_mode": {
    "name": "ipython",
    "version": 3
   },
   "file_extension": ".py",
   "mimetype": "text/x-python",
   "name": "python",
   "nbconvert_exporter": "python",
   "pygments_lexer": "ipython3",
   "version": "3.9.18"
  }
 },
 "nbformat": 4,
 "nbformat_minor": 4
}
