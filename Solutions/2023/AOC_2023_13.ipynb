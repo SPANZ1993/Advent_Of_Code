{
 "cells": [
  {
   "cell_type": "code",
   "execution_count": 1,
   "metadata": {},
   "outputs": [],
   "source": [
    "from pathlib import Path\n",
    "import os\n",
    "\n",
    "yr = 2023\n",
    "d = 13\n",
    "\n",
    "inp_path = os.path.join(Path(os.path.abspath(\"\")).parents[1], \n",
    "             'Input', '{}'.format(yr), \n",
    "             '{}.txt'.format(d))\n",
    "\n",
    "\n",
    "with open(inp_path, 'r') as file:\n",
    "    inp = file.read()"
   ]
  },
  {
   "cell_type": "code",
   "execution_count": 2,
   "metadata": {
    "id": "R47AOmQO-2-m"
   },
   "outputs": [],
   "source": [
    "import numpy as np\n",
    "\n",
    "def format_input(inp):\n",
    "  cur_pattern = []\n",
    "  patterns = []\n",
    "  for l in inp.split('\\n'):\n",
    "    if len(l) != 0:\n",
    "      cur_pattern.append(list(l.replace('.', '0').replace('#', '1')))\n",
    "    else:\n",
    "      patterns.append(np.array(cur_pattern, dtype=int))\n",
    "      cur_pattern = []\n",
    "  patterns.append(np.array(cur_pattern, dtype=int))\n",
    "  return patterns"
   ]
  },
  {
   "cell_type": "code",
   "execution_count": 3,
   "metadata": {
    "colab": {
     "base_uri": "https://localhost:8080/"
    },
    "id": "YKKRj6pjAdOY",
    "outputId": "f9e006c6-f6b1-48ed-88c4-9f667fcb0154"
   },
   "outputs": [],
   "source": [
    "def check_for_symmetry(pattern, index=1, how='vertical', smudged=False):\n",
    "\n",
    "  if how=='horizontal':\n",
    "    h1 = pattern.T[:,:index]\n",
    "    h2 = pattern.T[:,index:]\n",
    "  elif how=='vertical':\n",
    "    h1 = pattern[:,:index]\n",
    "    h2 = pattern[:,index:]\n",
    "\n",
    "  if h1.shape[1] > h2.shape[1]:\n",
    "    h1 = h1[:,h1.shape[1]-h2.shape[1]:]\n",
    "  elif h1.shape[1] < h2.shape[1]:\n",
    "    h2 = h2[:,:-(h2.shape[1]-h1.shape[1])]\n",
    "\n",
    "  if not smudged:\n",
    "    return np.all(h1[:,::-1] == h2)\n",
    "  else:\n",
    "    # If we're one off from a symmetry, we found a smudge\n",
    "    return np.sum((h1[:,::-1] != h2).flatten().astype(int))==1"
   ]
  },
  {
   "cell_type": "code",
   "execution_count": 4,
   "metadata": {
    "id": "p6y_cha9AotE"
   },
   "outputs": [],
   "source": [
    "def find_all_symmetries(pattern, how='vertical', smudged=False):\n",
    "  if how=='vertical':\n",
    "    r = pattern.shape[1]\n",
    "  elif how=='horizontal':\n",
    "    r = pattern.shape[0]\n",
    "\n",
    "  symmetries = []\n",
    "  for i in range(1, r):\n",
    "    if check_for_symmetry(pattern, i, how, smudged):\n",
    "      symmetries.append(i)\n",
    "  return symmetries"
   ]
  },
  {
   "cell_type": "code",
   "execution_count": 5,
   "metadata": {
    "id": "DJxVF7fPGiUs"
   },
   "outputs": [],
   "source": [
    "def sum_of_symmetries(formatted_input, smudged=False):\n",
    "  s = 0\n",
    "  for pattern in formatted_input:\n",
    "    hsym = find_all_symmetries(pattern, 'horizontal', smudged)\n",
    "    vsym = find_all_symmetries(pattern, 'vertical', smudged)\n",
    "    s += (sum(hsym)*100) + sum(vsym)\n",
    "  return s"
   ]
  },
  {
   "cell_type": "code",
   "execution_count": 6,
   "metadata": {
    "colab": {
     "base_uri": "https://localhost:8080/"
    },
    "id": "SYm5E9lfHXId",
    "outputId": "fe6161c7-9575-4f93-fea3-78c7c3e22846"
   },
   "outputs": [
    {
     "name": "stdout",
     "output_type": "stream",
     "text": [
      "33356\n",
      "28475\n",
      "\n",
      "RUNTIME:  0.035903215408325195\n"
     ]
    }
   ],
   "source": [
    "import time\n",
    "\n",
    "t = time.time()\n",
    "\n",
    "formatted_input = format_input(inp)\n",
    "\n",
    "print(sum_of_symmetries(formatted_input))\n",
    "print(sum_of_symmetries(formatted_input, smudged=True))\n",
    "\n",
    "print('\\nRUNTIME: ', time.time()-t)"
   ]
  }
 ],
 "metadata": {
  "colab": {
   "provenance": []
  },
  "kernelspec": {
   "display_name": "Python 3 (ipykernel)",
   "language": "python",
   "name": "python3"
  },
  "language_info": {
   "codemirror_mode": {
    "name": "ipython",
    "version": 3
   },
   "file_extension": ".py",
   "mimetype": "text/x-python",
   "name": "python",
   "nbconvert_exporter": "python",
   "pygments_lexer": "ipython3",
   "version": "3.9.18"
  }
 },
 "nbformat": 4,
 "nbformat_minor": 4
}
