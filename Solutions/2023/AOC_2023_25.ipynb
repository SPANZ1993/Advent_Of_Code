{
 "cells": [
  {
   "cell_type": "code",
   "execution_count": 1,
   "metadata": {
    "id": "1DZ4e-AFPjwQ"
   },
   "outputs": [],
   "source": [
    "from pathlib import Path\n",
    "import os\n",
    "\n",
    "yr = 2023\n",
    "d = 25\n",
    "\n",
    "inp_path = os.path.join(Path(os.path.abspath(\"\")).parents[1], \n",
    "             'Input', '{}'.format(yr), \n",
    "             '{}.txt'.format(d))\n",
    "\n",
    "\n",
    "with open(inp_path, 'r') as file:\n",
    "    inp = file.read()"
   ]
  },
  {
   "cell_type": "code",
   "execution_count": 2,
   "metadata": {
    "id": "-D6Bod_iPnPR"
   },
   "outputs": [],
   "source": [
    "def format_input(inp):\n",
    "  formatted_input = {'Nodes': [], 'Edges': []}\n",
    "  for l in inp.splitlines():\n",
    "    s = l.split(':')[0].strip()\n",
    "    ds = list(l.split(':')[1].split(' '))[1:]\n",
    "    if s not in formatted_input['Nodes']:\n",
    "      formatted_input['Nodes'].append(s)\n",
    "    for d in ds:\n",
    "      if (d, s) not in formatted_input['Edges'] and (s, d) not in formatted_input['Edges']:\n",
    "        formatted_input['Edges'].append((s,d))\n",
    "  for e in formatted_input['Edges']:\n",
    "    for el in e:\n",
    "      if el not in formatted_input['Nodes']:\n",
    "        formatted_input['Nodes'].append(el)\n",
    "  for e in formatted_input['Edges']:\n",
    "    while tuple(reversed(e)) in formatted_input['Edges']:\n",
    "      formatted_input['Edges'].remove(tuple(reversed(e)))\n",
    "\n",
    "  assert(len(set(formatted_input['Edges'])) == len(formatted_input['Edges']))\n",
    "\n",
    "  formatted_input['Nodes'] = list(sorted(formatted_input['Nodes']))\n",
    "  formatted_input['Edges'] = list(sorted(formatted_input['Edges']))\n",
    "\n",
    "  return formatted_input"
   ]
  },
  {
   "cell_type": "code",
   "execution_count": 3,
   "metadata": {
    "id": "2pqcgM6rZyb6"
   },
   "outputs": [],
   "source": [
    "def randomized_contraction(formatted_input):\n",
    "  '''\n",
    "  Naive way of solving using randomized edge deletion.\n",
    "\n",
    "  Nice for small graphs but need to run iteratively in\n",
    "  order to find optimal solution and probability of\n",
    "  success is\n",
    "  1/(n**2) where n is number of nodes.\n",
    "  Not practical for 1000+ nodes but could work if you let it\n",
    "  run for a week or did some uber-threading\n",
    "  '''\n",
    "  import copy\n",
    "  import random\n",
    "\n",
    "  G = copy.deepcopy(formatted_input)\n",
    "\n",
    "  while len(G['Nodes']) != 2:\n",
    "\n",
    "    cur_edge = random.choice(G['Edges'])\n",
    "\n",
    "    # Prune the edge and any duplicates\n",
    "    while cur_edge in G['Edges']:\n",
    "      G['Edges'].remove(cur_edge)\n",
    "    while tuple(reversed(cur_edge)) in G['Edges']:\n",
    "      G['Edges'].remove(tuple(reversed(cur_edge)))\n",
    "\n",
    "    # Any edge that contains the destination for this\n",
    "    # edge will now point to the source of this edge\n",
    "    to_remove = []\n",
    "    for e in G['Edges']:\n",
    "      if cur_edge[1] in e:\n",
    "        to_remove.append(e)\n",
    "        other_n = [n for n in e if n != cur_edge[1]][0]\n",
    "        G['Edges'].append((cur_edge[0], other_n))\n",
    "    for e in to_remove:\n",
    "      G['Edges'].remove(e)\n",
    "\n",
    "    if cur_edge[1] not in G['Nodes']:\n",
    "      print(cur_edge[1])\n",
    "    assert(cur_edge[1] in G['Nodes'])\n",
    "    G['Nodes'].remove(cur_edge[1])\n",
    "  return G"
   ]
  },
  {
   "cell_type": "code",
   "execution_count": 4,
   "metadata": {
    "id": "hz_SfL1sr8fv"
   },
   "outputs": [],
   "source": [
    "def spectral_partition(formatted_input):\n",
    "  '''\n",
    "  Implementation of spectral graph\n",
    "  partitioning algorithm based on the work\n",
    "  of Miroslav Fiedler\n",
    "  '''\n",
    "  import numpy as np\n",
    "  import copy\n",
    "\n",
    "  def incidence_matrix(G):\n",
    "    arr = np.zeros((len(G['Nodes']), len(G['Edges'])))\n",
    "    for i, n in enumerate(G['Nodes']):\n",
    "      for j, e in enumerate(G['Edges']):\n",
    "        if n in e:\n",
    "          arr[i,j] = 1 if n==e[0] else -1\n",
    "    return arr\n",
    "\n",
    "  G = copy.deepcopy(formatted_input)\n",
    "\n",
    "  incidence = incidence_matrix(G)\n",
    "  laplacian = np.matmul(incidence, incidence.T)\n",
    "\n",
    "  eigs = np.linalg.eig(laplacian)\n",
    "\n",
    "  # Get the Eigenvector Corresponding to the 2nd Largest Eigenvalue\n",
    "  eig_vals = eigs[1][:,np.argsort(eigs[0])[1]]\n",
    "\n",
    "  labels = {n: int(ev > 0) for n, ev in zip(G['Nodes'], eig_vals)}\n",
    "\n",
    "  # Find edges that bridge labeled sections\n",
    "  cut_edges = [e for e in G['Edges'] if labels[e[0]] + labels[e[1]]==1]\n",
    "\n",
    "  return cut_edges, labels\n",
    "\n",
    "\n",
    "def product_of_groups(formatted_input):\n",
    "  import numpy as np\n",
    "  _, labels = spectral_partition(formatted_input)\n",
    "  label_vals = np.array(list(labels.values()))\n",
    "  return np.multiply(np.sum(label_vals==0), np.sum(label_vals==1))"
   ]
  },
  {
   "cell_type": "code",
   "execution_count": 5,
   "metadata": {
    "colab": {
     "base_uri": "https://localhost:8080/"
    },
    "id": "MZvAXgEFjnWf",
    "outputId": "fcb9471f-31b9-4597-b01b-ea99e73ca978"
   },
   "outputs": [
    {
     "name": "stdout",
     "output_type": "stream",
     "text": [
      "548960\n",
      "\n",
      "RUNTIME:  1.6834969520568848\n"
     ]
    }
   ],
   "source": [
    "import time\n",
    "\n",
    "t = time.time()\n",
    "\n",
    "formatted_input = format_input(inp)\n",
    "\n",
    "print(product_of_groups(formatted_input))\n",
    "\n",
    "print(\"\\nRUNTIME: \", time.time()-t)"
   ]
  }
 ],
 "metadata": {
  "colab": {
   "provenance": []
  },
  "kernelspec": {
   "display_name": "Python 3 (ipykernel)",
   "language": "python",
   "name": "python3"
  },
  "language_info": {
   "codemirror_mode": {
    "name": "ipython",
    "version": 3
   },
   "file_extension": ".py",
   "mimetype": "text/x-python",
   "name": "python",
   "nbconvert_exporter": "python",
   "pygments_lexer": "ipython3",
   "version": "3.9.18"
  }
 },
 "nbformat": 4,
 "nbformat_minor": 4
}
