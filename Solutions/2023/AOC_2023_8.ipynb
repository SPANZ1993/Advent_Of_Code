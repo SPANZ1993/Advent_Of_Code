{
 "cells": [
  {
   "cell_type": "markdown",
   "metadata": {},
   "source": [
    "# --- Day 8: Haunted Wasteland ---\n",
    "You're still riding a camel across Desert Island when you spot a sandstorm quickly approaching. When you turn to warn the Elf, she disappears before your eyes! To be fair, she had just finished warning you about ghosts a few minutes ago.\n",
    "\n",
    "One of the camel's pouches is labeled \"maps\" - sure enough, it's full of documents (your puzzle input) about how to navigate the desert. At least, you're pretty sure that's what they are; one of the documents contains a list of left/right instructions, and the rest of the documents seem to describe some kind of network of labeled nodes.\n",
    "\n",
    "It seems like you're meant to use the left/right instructions to navigate the network. Perhaps if you have the camel follow the same instructions, you can escape the haunted wasteland!\n",
    "\n",
    "After examining the maps for a bit, two nodes stick out: AAA and ZZZ. You feel like AAA is where you are now, and you have to follow the left/right instructions until you reach ZZZ.\n",
    "\n",
    "This format defines each node of the network individually. For example:\n",
    "```\n",
    "RL\n",
    "\n",
    "AAA = (BBB, CCC)\n",
    "BBB = (DDD, EEE)\n",
    "CCC = (ZZZ, GGG)\n",
    "DDD = (DDD, DDD)\n",
    "EEE = (EEE, EEE)\n",
    "GGG = (GGG, GGG)\n",
    "ZZZ = (ZZZ, ZZZ)\n",
    "```\n",
    "Starting with AAA, you need to look up the next element based on the next left/right instruction in your input. In this example, start with AAA and go right (R) by choosing the right element of AAA, CCC. Then, L means to choose the left element of CCC, ZZZ. By following the left/right instructions, you reach ZZZ in 2 steps.\n",
    "\n",
    "Of course, you might not find ZZZ right away. If you run out of left/right instructions, repeat the whole sequence of instructions as necessary: RL really means RLRLRLRLRLRLRLRL... and so on. For example, here is a situation that takes 6 steps to reach ZZZ:\n",
    "```\n",
    "LLR\n",
    "\n",
    "AAA = (BBB, BBB)\n",
    "BBB = (AAA, ZZZ)\n",
    "ZZZ = (ZZZ, ZZZ)\n",
    "```\n",
    "Starting at AAA, follow the left/right instructions. How many steps are required to reach ZZZ?\n",
    "\n",
    "\n",
    "## --- Part Two ---\n",
    "The sandstorm is upon you and you aren't any closer to escaping the wasteland. You had the camel follow the instructions, but you've barely left your starting position. It's going to take significantly more steps to escape!\n",
    "\n",
    "What if the map isn't for people - what if the map is for ghosts? Are ghosts even bound by the laws of spacetime? Only one way to find out.\n",
    "\n",
    "After examining the maps a bit longer, your attention is drawn to a curious fact: the number of nodes with names ending in A is equal to the number ending in Z! If you were a ghost, you'd probably just start at every node that ends with A and follow all of the paths at the same time until they all simultaneously end up at nodes that end with Z.\n",
    "\n",
    "For example:\n",
    "```\n",
    "LR\n",
    "\n",
    "11A = (11B, XXX)\n",
    "11B = (XXX, 11Z)\n",
    "11Z = (11B, XXX)\n",
    "22A = (22B, XXX)\n",
    "22B = (22C, 22C)\n",
    "22C = (22Z, 22Z)\n",
    "22Z = (22B, 22B)\n",
    "XXX = (XXX, XXX)\n",
    "```\n",
    "Here, there are two starting nodes, 11A and 22A (because they both end with A). As you follow each left/right instruction, use that instruction to simultaneously navigate away from both nodes you're currently on. Repeat this process until all of the nodes you're currently on end with Z. (If only some of the nodes you're on end with Z, they act like any other node and you continue as normal.) In this example, you would proceed as follows:\n",
    "\n",
    "Step 0: You are at 11A and 22A.\n",
    "Step 1: You choose all of the left paths, leading you to 11B and 22B.\n",
    "Step 2: You choose all of the right paths, leading you to 11Z and 22C.\n",
    "Step 3: You choose all of the left paths, leading you to 11B and 22Z.\n",
    "Step 4: You choose all of the right paths, leading you to 11Z and 22B.\n",
    "Step 5: You choose all of the left paths, leading you to 11B and 22C.\n",
    "Step 6: You choose all of the right paths, leading you to 11Z and 22Z.\n",
    "So, in this example, you end up entirely on nodes that end in Z after 6 steps.\n",
    "\n",
    "Simultaneously start on every node that ends with A. How many steps does it take before you're only on nodes that end with Z?"
   ]
  },
  {
   "cell_type": "code",
   "execution_count": 1,
   "metadata": {
    "id": "3xttv_ex5guA"
   },
   "outputs": [],
   "source": [
    "from pathlib import Path\n",
    "import os\n",
    "\n",
    "yr = 2023\n",
    "d = 8\n",
    "\n",
    "inp_path = os.path.join(Path(os.path.abspath(\"\")).parents[1], \n",
    "             'Input', '{}'.format(yr), \n",
    "             '{}.txt'.format(d))\n",
    "\n",
    "\n",
    "with open(inp_path, 'r') as file:\n",
    "    inp = file.read()"
   ]
  },
  {
   "cell_type": "code",
   "execution_count": 2,
   "metadata": {
    "id": "Y6tOV0DJ6_8e"
   },
   "outputs": [],
   "source": [
    "def format_input(inp):\n",
    "  directions = list(inp.split('\\n')[0])\n",
    "\n",
    "  maps = {}\n",
    "  for l in inp.split('\\n'):\n",
    "    if len(l)!=0 and l[4] == '=':\n",
    "      n = l[:3]\n",
    "      ln = l[7:10]\n",
    "      rn = l[12:15]\n",
    "      maps[n] = {'L':ln, 'R': rn}\n",
    "\n",
    "  return {'directions': directions, 'maps': maps}\n"
   ]
  },
  {
   "cell_type": "code",
   "execution_count": 3,
   "metadata": {
    "id": "zUW-kfqJ7pj5"
   },
   "outputs": [],
   "source": [
    "def find_number_of_steps(formatted_input, start='AAA', end='ZZZ'):\n",
    "  dirs = formatted_input['directions']\n",
    "  maps = formatted_input['maps']\n",
    "  count = 0\n",
    "  cur = start\n",
    "  while cur != end:\n",
    "    cur = maps[cur][dirs[count%len(dirs)]]\n",
    "    count += 1\n",
    "  return count\n",
    "\n",
    "# Naive Solution\n",
    "def find_number_of_steps_multi_naive(formatted_input,\n",
    "                               start_cond=lambda x: x[2]=='A',\n",
    "                               end_cond=lambda x: x[2]=='Z'):\n",
    "  dirs = formatted_input['directions']\n",
    "  maps = formatted_input['maps']\n",
    "  count = 0\n",
    "  curs = [n for n in maps.keys() if start_cond(n)]\n",
    "  while not all([end_cond(n) for n in curs]):\n",
    "    for i in range(len(curs)):\n",
    "      curs[i] = maps[curs[i]][dirs[count%len(dirs)]]\n",
    "    count += 1\n",
    "    if count%100000==0:\n",
    "      print(count)\n",
    "  return count\n",
    "\n",
    "\n",
    "def find_number_of_steps_multi(formatted_input,\n",
    "                               start_cond=lambda x: x[2]=='A',\n",
    "                               end_cond=lambda x: x[2]=='Z'\n",
    "                               ):\n",
    "  from copy import deepcopy\n",
    "  from math import lcm\n",
    "\n",
    "\n",
    "  dirs = formatted_input['directions']\n",
    "  maps = formatted_input['maps']\n",
    "  potential_starts = [n for n in maps.keys() if start_cond(n)]\n",
    "  n_moves = []\n",
    "\n",
    "  for s in potential_starts:\n",
    "    cur = deepcopy(s)\n",
    "    count = 0\n",
    "    while not end_cond(cur):\n",
    "      cur = maps[cur][dirs[count%len(dirs)]]\n",
    "      count+=1\n",
    "    n_moves.append(count)\n",
    "  return lcm(*n_moves)\n"
   ]
  },
  {
   "cell_type": "code",
   "execution_count": 4,
   "metadata": {
    "colab": {
     "base_uri": "https://localhost:8080/"
    },
    "id": "4JPzMqI02aom",
    "outputId": "d607fd08-b0b4-4c00-957d-5b21635ebc1a"
   },
   "outputs": [
    {
     "name": "stdout",
     "output_type": "stream",
     "text": [
      "20569\n",
      "21366921060721\n",
      "\n",
      "RUNTIME:  0.030916452407836914\n"
     ]
    }
   ],
   "source": [
    "import time\n",
    "\n",
    "formatted_input = format_input(inp)\n",
    "\n",
    "t = time.time()\n",
    "\n",
    "print(find_number_of_steps(formatted_input))\n",
    "print(find_number_of_steps_multi(formatted_input))\n",
    "\n",
    "print('\\nRUNTIME: ', time.time()-t)"
   ]
  }
 ],
 "metadata": {
  "colab": {
   "provenance": []
  },
  "kernelspec": {
   "display_name": "Python 3 (ipykernel)",
   "language": "python",
   "name": "python3"
  },
  "language_info": {
   "codemirror_mode": {
    "name": "ipython",
    "version": 3
   },
   "file_extension": ".py",
   "mimetype": "text/x-python",
   "name": "python",
   "nbconvert_exporter": "python",
   "pygments_lexer": "ipython3",
   "version": "3.9.18"
  }
 },
 "nbformat": 4,
 "nbformat_minor": 4
}
