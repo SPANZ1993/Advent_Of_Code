{
 "cells": [
  {
   "cell_type": "code",
   "execution_count": 1,
   "metadata": {
    "id": "3xttv_ex5guA"
   },
   "outputs": [],
   "source": [
    "from pathlib import Path\n",
    "import os\n",
    "\n",
    "yr = 2023\n",
    "d = 8\n",
    "\n",
    "inp_path = os.path.join(Path(os.path.abspath(\"\")).parents[1], \n",
    "             'Input', '{}'.format(yr), \n",
    "             '{}.txt'.format(d))\n",
    "\n",
    "\n",
    "with open(inp_path, 'r') as file:\n",
    "    inp = file.read()"
   ]
  },
  {
   "cell_type": "code",
   "execution_count": 2,
   "metadata": {
    "id": "Y6tOV0DJ6_8e"
   },
   "outputs": [],
   "source": [
    "def format_input(inp):\n",
    "  directions = list(inp.split('\\n')[0])\n",
    "\n",
    "  maps = {}\n",
    "  for l in inp.split('\\n'):\n",
    "    if len(l)!=0 and l[4] == '=':\n",
    "      n = l[:3]\n",
    "      ln = l[7:10]\n",
    "      rn = l[12:15]\n",
    "      maps[n] = {'L':ln, 'R': rn}\n",
    "\n",
    "  return {'directions': directions, 'maps': maps}\n"
   ]
  },
  {
   "cell_type": "code",
   "execution_count": 3,
   "metadata": {
    "id": "zUW-kfqJ7pj5"
   },
   "outputs": [],
   "source": [
    "def find_number_of_steps(formatted_input, start='AAA', end='ZZZ'):\n",
    "  dirs = formatted_input['directions']\n",
    "  maps = formatted_input['maps']\n",
    "  count = 0\n",
    "  cur = start\n",
    "  while cur != end:\n",
    "    cur = maps[cur][dirs[count%len(dirs)]]\n",
    "    count += 1\n",
    "  return count\n",
    "\n",
    "# Naive Solution\n",
    "def find_number_of_steps_multi_naive(formatted_input,\n",
    "                               start_cond=lambda x: x[2]=='A',\n",
    "                               end_cond=lambda x: x[2]=='Z'):\n",
    "  dirs = formatted_input['directions']\n",
    "  maps = formatted_input['maps']\n",
    "  count = 0\n",
    "  curs = [n for n in maps.keys() if start_cond(n)]\n",
    "  while not all([end_cond(n) for n in curs]):\n",
    "    for i in range(len(curs)):\n",
    "      curs[i] = maps[curs[i]][dirs[count%len(dirs)]]\n",
    "    count += 1\n",
    "    if count%100000==0:\n",
    "      print(count)\n",
    "  return count\n",
    "\n",
    "\n",
    "def find_number_of_steps_multi(formatted_input,\n",
    "                               start_cond=lambda x: x[2]=='A',\n",
    "                               end_cond=lambda x: x[2]=='Z'\n",
    "                               ):\n",
    "  from copy import deepcopy\n",
    "  from math import lcm\n",
    "\n",
    "\n",
    "  dirs = formatted_input['directions']\n",
    "  maps = formatted_input['maps']\n",
    "  potential_starts = [n for n in maps.keys() if start_cond(n)]\n",
    "  n_moves = []\n",
    "\n",
    "  for s in potential_starts:\n",
    "    cur = deepcopy(s)\n",
    "    count = 0\n",
    "    while not end_cond(cur):\n",
    "      cur = maps[cur][dirs[count%len(dirs)]]\n",
    "      count+=1\n",
    "    n_moves.append(count)\n",
    "  return lcm(*n_moves)\n"
   ]
  },
  {
   "cell_type": "code",
   "execution_count": 4,
   "metadata": {
    "colab": {
     "base_uri": "https://localhost:8080/"
    },
    "id": "4JPzMqI02aom",
    "outputId": "d607fd08-b0b4-4c00-957d-5b21635ebc1a"
   },
   "outputs": [
    {
     "name": "stdout",
     "output_type": "stream",
     "text": [
      "20569\n",
      "21366921060721\n",
      "\n",
      "RUNTIME:  0.030916452407836914\n"
     ]
    }
   ],
   "source": [
    "import time\n",
    "\n",
    "formatted_input = format_input(inp)\n",
    "\n",
    "t = time.time()\n",
    "\n",
    "print(find_number_of_steps(formatted_input))\n",
    "print(find_number_of_steps_multi(formatted_input))\n",
    "\n",
    "print('\\nRUNTIME: ', time.time()-t)"
   ]
  }
 ],
 "metadata": {
  "colab": {
   "provenance": []
  },
  "kernelspec": {
   "display_name": "Python 3 (ipykernel)",
   "language": "python",
   "name": "python3"
  },
  "language_info": {
   "codemirror_mode": {
    "name": "ipython",
    "version": 3
   },
   "file_extension": ".py",
   "mimetype": "text/x-python",
   "name": "python",
   "nbconvert_exporter": "python",
   "pygments_lexer": "ipython3",
   "version": "3.9.18"
  }
 },
 "nbformat": 4,
 "nbformat_minor": 4
}
