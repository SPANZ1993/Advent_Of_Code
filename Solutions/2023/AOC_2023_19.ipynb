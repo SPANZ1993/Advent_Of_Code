{
 "cells": [
  {
   "cell_type": "code",
   "execution_count": 1,
   "metadata": {},
   "outputs": [],
   "source": [
    "from pathlib import Path\n",
    "import os\n",
    "\n",
    "yr = 2023\n",
    "d = 19\n",
    "\n",
    "inp_path = os.path.join(Path(os.path.abspath(\"\")).parents[1], \n",
    "             'Input', '{}'.format(yr), \n",
    "             '{}.txt'.format(d))\n",
    "\n",
    "\n",
    "with open(inp_path, 'r') as file:\n",
    "    inp = file.read()"
   ]
  },
  {
   "cell_type": "code",
   "execution_count": 2,
   "metadata": {
    "id": "HwOm040KoEQI"
   },
   "outputs": [],
   "source": [
    "def format_input(inp):\n",
    "  formatted_input = {'workflows': {}, 'parts': []}\n",
    "  done_with_workflows = False\n",
    "  for l in inp.splitlines():\n",
    "    if len(l) == 0:\n",
    "      done_with_workflows = True\n",
    "      continue\n",
    "    if not done_with_workflows:\n",
    "      workflow_name = l.split('{')[0]\n",
    "      workflow_info = l.split('{')[1].replace('}','')\n",
    "      workflow_instructions = workflow_info.split(',')\n",
    "      cur_workflow_tests = []\n",
    "      for inst in workflow_instructions:\n",
    "        if '>' in inst:\n",
    "          comp = '>'\n",
    "          c = inst.split('>')[0]\n",
    "          val = int(inst.split('>')[1].split(':')[0])\n",
    "          dest = inst.split('>')[1].split(':')[1]\n",
    "          workflow_func = lambda x, c=c, val=val: x[c]>val\n",
    "        elif '<' in inst:\n",
    "          comp = '<'\n",
    "          c = inst.split('<')[0]\n",
    "          val = int(inst.split('<')[1].split(':')[0])\n",
    "          dest = inst.split('<')[1].split(':')[1]\n",
    "          workflow_func = lambda x, c=c, val=val: x[c]<val\n",
    "        else:\n",
    "          c = None\n",
    "          comp = None\n",
    "          val = None\n",
    "          dest = inst\n",
    "          workflow_func = lambda x: True\n",
    "        cur_workflow_tests.append({'test': workflow_func,\n",
    "                                   'dest': dest,\n",
    "                                   'c': c,\n",
    "                                   'comp': comp,\n",
    "                                   'val': val})\n",
    "      formatted_input['workflows'][workflow_name] = cur_workflow_tests\n",
    "    else:\n",
    "      part = {s.split('=')[0]: int(s.split('=')[1])\n",
    "              for s in l.replace('}','').replace('{','').split(',')}\n",
    "      formatted_input['parts'].append(part)\n",
    "  return formatted_input"
   ]
  },
  {
   "cell_type": "code",
   "execution_count": 3,
   "metadata": {
    "id": "h1Q0Z1KsomjO"
   },
   "outputs": [],
   "source": [
    "def process_part(workflows, part, debug=False):\n",
    "  '''\n",
    "  Workflows are saved as lists of dictionaries\n",
    "  containing lambda functions that perform the test\n",
    "  as well as destination values which denote\n",
    "  where the part will be sent to upon a positive\n",
    "  test result (this will be either 'A', 'R', or\n",
    "  another workflow). Starting at the 'in'\n",
    "  workflow, send the part through the workflows until\n",
    "  we arrive at 'A', or 'R'\n",
    "  '''\n",
    "  def apply_workflow(workflow, part):\n",
    "    for w in workflow:\n",
    "      if w['test'](part):\n",
    "        return w['dest']\n",
    "\n",
    "  res = apply_workflow(workflows['in'], part)\n",
    "  while res not in ['A', 'R']:\n",
    "    res = apply_workflow(workflows[res], part)\n",
    "  return res=='A'"
   ]
  },
  {
   "cell_type": "code",
   "execution_count": 4,
   "metadata": {
    "id": "RJ1T8ObRvY8V"
   },
   "outputs": [],
   "source": [
    "def sum_of_accepted(formatted_input):\n",
    "  '''\n",
    "  Just process each part and add up their category values\n",
    "  '''\n",
    "  s = 0\n",
    "  for p in formatted_input['parts']:\n",
    "    if process_part(formatted_input['workflows'], p):\n",
    "      s += sum(p.values())\n",
    "  return s"
   ]
  },
  {
   "cell_type": "code",
   "execution_count": 5,
   "metadata": {
    "id": "nR_33PiiUGql"
   },
   "outputs": [],
   "source": [
    "def find_distinct_combos(formatted_input):\n",
    "  '''\n",
    "  Start with the full possible ranges (1-4000 for all 4 categories)\n",
    "  Work through the workflows recursively:\n",
    "    To process one workflow loop over the tests within each workflow\n",
    "    in order keeping a rolling sum of potential combos.\n",
    "    At each test IF the test sends you to 'A', add the total number of combos\n",
    "    yielded by the current possible ranges that trigger that test. IF the test\n",
    "    sends you to 'R', add 0 to the sum since those are not accepted combos, IF\n",
    "    the current test sends you to another workflow, then add the result of\n",
    "    recursing on that workflow to our rolling sum with only the ranges from our\n",
    "    current range that trigger that workflow.\n",
    "    At the end of each iteration of the test loop, set the current ranges that\n",
    "    we are examining to only include those ranges that are NOT triggered by\n",
    "    the previous test.\n",
    "  '''\n",
    "  import numpy as np\n",
    "  from copy import deepcopy\n",
    "\n",
    "  def trim_range(test, ranges, negate=False):\n",
    "    '''\n",
    "    Given a dictionary of ranges trim those ranges to either contain only the\n",
    "    ranges that trigger the current test, or (if negate==True) only\n",
    "    the ranges that do NOT trigger the current test\n",
    "    '''\n",
    "    ranges = deepcopy(ranges)\n",
    "\n",
    "    r = test['c']\n",
    "    if r is None:\n",
    "      return ranges\n",
    "\n",
    "    val = test['val']\n",
    "    comp = test['comp']\n",
    "    cur_r = ranges[r]\n",
    "    if comp == '>':\n",
    "      cur_r = (val+1, cur_r[1]) if not negate else (cur_r[0], val)\n",
    "    elif comp == '<':\n",
    "      cur_r = (cur_r[0], val-1) if not negate else (val, cur_r[1])\n",
    "    else:\n",
    "      raise Exception('Trying to Trim with an Invalid Comparison')\n",
    "    ranges[r] = cur_r\n",
    "    return ranges\n",
    "\n",
    "  def count_of_ranges(ranges):\n",
    "    '''\n",
    "    Get the total number of combos yielded by a specific set of ranges\n",
    "    '''\n",
    "    return np.prod(np.array([(ranges[r][1]-ranges[r][0]+1) for r in 'xmas']), dtype=np.ulonglong)\n",
    "\n",
    "\n",
    "  def _find_distinct_combos(workflows, cur_workflow, cur_ranges):\n",
    "    '''\n",
    "    This is the function that we will recurse over\n",
    "    '''\n",
    "\n",
    "    # Not sure if we need this but just to be safe\n",
    "    if any([(cur_ranges[r][1]-cur_ranges[r][0])<0 for r in 'xmas']):\n",
    "      return 0\n",
    "\n",
    "    # Just doing this to avoid overflows on our sum\n",
    "    s = np.array([0], dtype=np.ulonglong)\n",
    "    for t in workflows[cur_workflow]:\n",
    "      if t['dest'] == 'A':\n",
    "        # Add the number of combos in the given ranges and trim our ranges\n",
    "        s[0] += count_of_ranges(trim_range(t, cur_ranges))\n",
    "      elif t['dest'] == 'R':\n",
    "        # These aren't valid combos so just pass\n",
    "        s[0] += 0\n",
    "      else:\n",
    "        # Add the result of the recursion\n",
    "        s[0] += _find_distinct_combos(workflows,\n",
    "                                   cur_workflow=t['dest'],\n",
    "                                   cur_ranges=trim_range(t, cur_ranges))\n",
    "\n",
    "      # If we made it to the current test in the workflow\n",
    "      # then we need to adjust our ranges to exclude combos that\n",
    "      # got caught by the previous test\n",
    "      cur_ranges = trim_range(t, cur_ranges, negate=True)\n",
    "    return s[0]\n",
    "\n",
    "\n",
    "  workflows = formatted_input['workflows']\n",
    "\n",
    "  return _find_distinct_combos(workflows,\n",
    "                               cur_workflow = 'in',\n",
    "                               cur_ranges = {'x':(1,4000),\n",
    "                                            'm':(1,4000),\n",
    "                                            'a':(1,4000),\n",
    "                                            's':(1,4000)}\n",
    "                              )"
   ]
  },
  {
   "cell_type": "code",
   "execution_count": 6,
   "metadata": {
    "colab": {
     "base_uri": "https://localhost:8080/"
    },
    "id": "dDddXiXqaH82",
    "outputId": "e16adb04-4d1d-4801-968c-20a221d8cac7"
   },
   "outputs": [
    {
     "name": "stdout",
     "output_type": "stream",
     "text": [
      "263678\n",
      "125455345557345\n",
      "\n",
      "RUNTIME:  0.10571646690368652\n"
     ]
    }
   ],
   "source": [
    "import time\n",
    "\n",
    "t = time.time()\n",
    "\n",
    "formatted_input = format_input(inp)\n",
    "\n",
    "print(sum_of_accepted(formatted_input))\n",
    "print(find_distinct_combos(formatted_input))\n",
    "\n",
    "\n",
    "print('\\nRUNTIME: ', time.time()-t)"
   ]
  }
 ],
 "metadata": {
  "colab": {
   "provenance": []
  },
  "kernelspec": {
   "display_name": "Python 3 (ipykernel)",
   "language": "python",
   "name": "python3"
  },
  "language_info": {
   "codemirror_mode": {
    "name": "ipython",
    "version": 3
   },
   "file_extension": ".py",
   "mimetype": "text/x-python",
   "name": "python",
   "nbconvert_exporter": "python",
   "pygments_lexer": "ipython3",
   "version": "3.9.18"
  }
 },
 "nbformat": 4,
 "nbformat_minor": 4
}
