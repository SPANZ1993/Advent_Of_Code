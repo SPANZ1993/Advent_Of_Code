{
 "cells": [
  {
   "cell_type": "code",
   "execution_count": 1,
   "metadata": {
    "id": "ra3qqj_1P-Wu"
   },
   "outputs": [],
   "source": [
    "from pathlib import Path\n",
    "import os\n",
    "\n",
    "yr = 2023\n",
    "d = 11\n",
    "\n",
    "inp_path = os.path.join(Path(os.path.abspath(\"\")).parents[1], \n",
    "             'Input', '{}'.format(yr), \n",
    "             '{}.txt'.format(d))\n",
    "\n",
    "\n",
    "with open(inp_path, 'r') as file:\n",
    "    inp = file.read()"
   ]
  },
  {
   "cell_type": "code",
   "execution_count": 2,
   "metadata": {
    "id": "UtsbTh3lQ3rB"
   },
   "outputs": [],
   "source": [
    "def format_input(inp):\n",
    "  import numpy as np\n",
    "\n",
    "  arr = np.array([list(x) for x in inp.split('\\n')], dtype='<U4')\n",
    "  cnt = 1\n",
    "  for i in range(arr.shape[0]):\n",
    "    for j in range(arr.shape[1]):\n",
    "      if arr[i,j] == '#':\n",
    "        arr[i,j] = str(cnt)\n",
    "        cnt += 1\n",
    "  return arr"
   ]
  },
  {
   "cell_type": "code",
   "execution_count": 3,
   "metadata": {
    "id": "fa-CCLBpZPgx"
   },
   "outputs": [],
   "source": [
    "def get_all_distances_expand(formatted_input, expand_num=2):\n",
    "  from tqdm.notebook import tqdm\n",
    "  from itertools import combinations\n",
    "  import numpy as np\n",
    "\n",
    "  def manhattan_distance(p1, p2):\n",
    "    return np.sum(np.abs(np.array(p1)-np.array(p2)))\n",
    "\n",
    "  def get_coords_from_num(num):\n",
    "    return list(zip(*np.where(formatted_input == num)))[0]\n",
    "\n",
    "\n",
    "  rows_to_expand = [i for i in range(formatted_input.shape[0])\n",
    "  if all([x=='.' for x in formatted_input[i]])]\n",
    "  columns_to_expand = [i for i in range(formatted_input.shape[1])\n",
    "  if all([x=='.' for x in formatted_input.T[i]])]\n",
    "\n",
    "  def expand_locs(l1, l2):\n",
    "    row_locs = [l1[0], l2[0]]\n",
    "    col_locs = [l1[1], l2[1]]\n",
    "    row_expand_sum = (sum([int(min(row_locs) < r and r < max(row_locs))\n",
    "     for r in rows_to_expand]) * (expand_num-1))\n",
    "    col_expand_sum = (sum([int(min(col_locs) < r and r < max(col_locs))\n",
    "     for r in columns_to_expand]) * (expand_num-1))\n",
    "\n",
    "    row_locs[row_locs.index(max(row_locs))] = max(row_locs) + row_expand_sum\n",
    "    col_locs[col_locs.index(max(col_locs))] = max(col_locs) + col_expand_sum\n",
    "\n",
    "    return (row_locs[0], col_locs[0]), (row_locs[1], col_locs[1])\n",
    "\n",
    "\n",
    "  m = max([int(x) for x in formatted_input.flatten() if x.isnumeric()])\n",
    "  pairs = combinations(list(range(1,m+1)), 2)\n",
    "  s = np.array([0], dtype=np.ulonglong) # This will probably get pretty big\n",
    "  for p in tqdm(list(pairs)):\n",
    "    l1 = get_coords_from_num(str(p[0]))\n",
    "    l2 = get_coords_from_num(str(p[1]))\n",
    "    l1, l2 = expand_locs(get_coords_from_num(str(p[0])),\n",
    "                         get_coords_from_num(str(p[1])))\n",
    "    s[0] += manhattan_distance(l1, l2)\n",
    "  return s[0]"
   ]
  },
  {
   "cell_type": "code",
   "execution_count": 4,
   "metadata": {
    "colab": {
     "base_uri": "https://localhost:8080/",
     "height": 335,
     "referenced_widgets": [
      "cf11da2f781e411c893821b05b9b5249",
      "ddeb0acc48ee4f189649dc0aece12ce1",
      "d25f2b2aadf8479cbc8356a878ffe85f",
      "1e10176bd38b439ba1308e456c4b9bcf",
      "78ebb72c4d4b46619bffab46b5727d22",
      "82cd84c3788b485993e28bbb01d43539",
      "c3be2d97dcd7497c81f288d2210aa3e8",
      "c4465a7ec39b43efb46f0ce17b2fe928",
      "89fc1552d8ea4feea482bf8fed391e40",
      "3c971a0bfb5f450aaa6bd0df27825b1c",
      "c47dfcdb150c48ca892122e8ffa446ca"
     ]
    },
    "id": "DFkWByRIdRBe",
    "outputId": "100ba8cc-50b7-4b01-d6f1-854062d1973c"
   },
   "outputs": [
    {
     "data": {
      "application/vnd.jupyter.widget-view+json": {
       "model_id": "66b09ecc2de9445f9dc111ca9155921c",
       "version_major": 2,
       "version_minor": 0
      },
      "text/plain": [
       "  0%|          | 0/106030 [00:00<?, ?it/s]"
      ]
     },
     "metadata": {},
     "output_type": "display_data"
    },
    {
     "name": "stdout",
     "output_type": "stream",
     "text": [
      "10490062\n"
     ]
    },
    {
     "data": {
      "application/vnd.jupyter.widget-view+json": {
       "model_id": "8a94cc71bb744be79d71928f5463ced6",
       "version_major": 2,
       "version_minor": 0
      },
      "text/plain": [
       "  0%|          | 0/106030 [00:00<?, ?it/s]"
      ]
     },
     "metadata": {},
     "output_type": "display_data"
    },
    {
     "name": "stdout",
     "output_type": "stream",
     "text": [
      "382979724122\n",
      "\n",
      "RUNTIME:  60.19018769264221\n"
     ]
    }
   ],
   "source": [
    "import time\n",
    "\n",
    "t = time.time()\n",
    "\n",
    "formatted_input = format_input(inp)\n",
    "\n",
    "print(get_all_distances_expand(formatted_input, expand_num=2))\n",
    "print(get_all_distances_expand(formatted_input, expand_num=1000000))\n",
    "\n",
    "print('\\nRUNTIME: ', time.time()-t)"
   ]
  }
 ],
 "metadata": {
  "colab": {
   "provenance": []
  },
  "kernelspec": {
   "display_name": "Python 3 (ipykernel)",
   "language": "python",
   "name": "python3"
  },
  "language_info": {
   "codemirror_mode": {
    "name": "ipython",
    "version": 3
   },
   "file_extension": ".py",
   "mimetype": "text/x-python",
   "name": "python",
   "nbconvert_exporter": "python",
   "pygments_lexer": "ipython3",
   "version": "3.9.18"
  },
  "widgets": {
   "application/vnd.jupyter.widget-state+json": {
    "1e10176bd38b439ba1308e456c4b9bcf": {
     "model_module": "@jupyter-widgets/controls",
     "model_module_version": "1.5.0",
     "model_name": "HTMLModel",
     "state": {
      "_dom_classes": [],
      "_model_module": "@jupyter-widgets/controls",
      "_model_module_version": "1.5.0",
      "_model_name": "HTMLModel",
      "_view_count": null,
      "_view_module": "@jupyter-widgets/controls",
      "_view_module_version": "1.5.0",
      "_view_name": "HTMLView",
      "description": "",
      "description_tooltip": null,
      "layout": "IPY_MODEL_3c971a0bfb5f450aaa6bd0df27825b1c",
      "placeholder": "​",
      "style": "IPY_MODEL_c47dfcdb150c48ca892122e8ffa446ca",
      "value": " 1361/106030 [00:04&lt;10:31, 165.63it/s]"
     }
    },
    "3c971a0bfb5f450aaa6bd0df27825b1c": {
     "model_module": "@jupyter-widgets/base",
     "model_module_version": "1.2.0",
     "model_name": "LayoutModel",
     "state": {
      "_model_module": "@jupyter-widgets/base",
      "_model_module_version": "1.2.0",
      "_model_name": "LayoutModel",
      "_view_count": null,
      "_view_module": "@jupyter-widgets/base",
      "_view_module_version": "1.2.0",
      "_view_name": "LayoutView",
      "align_content": null,
      "align_items": null,
      "align_self": null,
      "border": null,
      "bottom": null,
      "display": null,
      "flex": null,
      "flex_flow": null,
      "grid_area": null,
      "grid_auto_columns": null,
      "grid_auto_flow": null,
      "grid_auto_rows": null,
      "grid_column": null,
      "grid_gap": null,
      "grid_row": null,
      "grid_template_areas": null,
      "grid_template_columns": null,
      "grid_template_rows": null,
      "height": null,
      "justify_content": null,
      "justify_items": null,
      "left": null,
      "margin": null,
      "max_height": null,
      "max_width": null,
      "min_height": null,
      "min_width": null,
      "object_fit": null,
      "object_position": null,
      "order": null,
      "overflow": null,
      "overflow_x": null,
      "overflow_y": null,
      "padding": null,
      "right": null,
      "top": null,
      "visibility": null,
      "width": null
     }
    },
    "78ebb72c4d4b46619bffab46b5727d22": {
     "model_module": "@jupyter-widgets/base",
     "model_module_version": "1.2.0",
     "model_name": "LayoutModel",
     "state": {
      "_model_module": "@jupyter-widgets/base",
      "_model_module_version": "1.2.0",
      "_model_name": "LayoutModel",
      "_view_count": null,
      "_view_module": "@jupyter-widgets/base",
      "_view_module_version": "1.2.0",
      "_view_name": "LayoutView",
      "align_content": null,
      "align_items": null,
      "align_self": null,
      "border": null,
      "bottom": null,
      "display": null,
      "flex": null,
      "flex_flow": null,
      "grid_area": null,
      "grid_auto_columns": null,
      "grid_auto_flow": null,
      "grid_auto_rows": null,
      "grid_column": null,
      "grid_gap": null,
      "grid_row": null,
      "grid_template_areas": null,
      "grid_template_columns": null,
      "grid_template_rows": null,
      "height": null,
      "justify_content": null,
      "justify_items": null,
      "left": null,
      "margin": null,
      "max_height": null,
      "max_width": null,
      "min_height": null,
      "min_width": null,
      "object_fit": null,
      "object_position": null,
      "order": null,
      "overflow": null,
      "overflow_x": null,
      "overflow_y": null,
      "padding": null,
      "right": null,
      "top": null,
      "visibility": null,
      "width": null
     }
    },
    "82cd84c3788b485993e28bbb01d43539": {
     "model_module": "@jupyter-widgets/base",
     "model_module_version": "1.2.0",
     "model_name": "LayoutModel",
     "state": {
      "_model_module": "@jupyter-widgets/base",
      "_model_module_version": "1.2.0",
      "_model_name": "LayoutModel",
      "_view_count": null,
      "_view_module": "@jupyter-widgets/base",
      "_view_module_version": "1.2.0",
      "_view_name": "LayoutView",
      "align_content": null,
      "align_items": null,
      "align_self": null,
      "border": null,
      "bottom": null,
      "display": null,
      "flex": null,
      "flex_flow": null,
      "grid_area": null,
      "grid_auto_columns": null,
      "grid_auto_flow": null,
      "grid_auto_rows": null,
      "grid_column": null,
      "grid_gap": null,
      "grid_row": null,
      "grid_template_areas": null,
      "grid_template_columns": null,
      "grid_template_rows": null,
      "height": null,
      "justify_content": null,
      "justify_items": null,
      "left": null,
      "margin": null,
      "max_height": null,
      "max_width": null,
      "min_height": null,
      "min_width": null,
      "object_fit": null,
      "object_position": null,
      "order": null,
      "overflow": null,
      "overflow_x": null,
      "overflow_y": null,
      "padding": null,
      "right": null,
      "top": null,
      "visibility": null,
      "width": null
     }
    },
    "89fc1552d8ea4feea482bf8fed391e40": {
     "model_module": "@jupyter-widgets/controls",
     "model_module_version": "1.5.0",
     "model_name": "ProgressStyleModel",
     "state": {
      "_model_module": "@jupyter-widgets/controls",
      "_model_module_version": "1.5.0",
      "_model_name": "ProgressStyleModel",
      "_view_count": null,
      "_view_module": "@jupyter-widgets/base",
      "_view_module_version": "1.2.0",
      "_view_name": "StyleView",
      "bar_color": null,
      "description_width": ""
     }
    },
    "c3be2d97dcd7497c81f288d2210aa3e8": {
     "model_module": "@jupyter-widgets/controls",
     "model_module_version": "1.5.0",
     "model_name": "DescriptionStyleModel",
     "state": {
      "_model_module": "@jupyter-widgets/controls",
      "_model_module_version": "1.5.0",
      "_model_name": "DescriptionStyleModel",
      "_view_count": null,
      "_view_module": "@jupyter-widgets/base",
      "_view_module_version": "1.2.0",
      "_view_name": "StyleView",
      "description_width": ""
     }
    },
    "c4465a7ec39b43efb46f0ce17b2fe928": {
     "model_module": "@jupyter-widgets/base",
     "model_module_version": "1.2.0",
     "model_name": "LayoutModel",
     "state": {
      "_model_module": "@jupyter-widgets/base",
      "_model_module_version": "1.2.0",
      "_model_name": "LayoutModel",
      "_view_count": null,
      "_view_module": "@jupyter-widgets/base",
      "_view_module_version": "1.2.0",
      "_view_name": "LayoutView",
      "align_content": null,
      "align_items": null,
      "align_self": null,
      "border": null,
      "bottom": null,
      "display": null,
      "flex": null,
      "flex_flow": null,
      "grid_area": null,
      "grid_auto_columns": null,
      "grid_auto_flow": null,
      "grid_auto_rows": null,
      "grid_column": null,
      "grid_gap": null,
      "grid_row": null,
      "grid_template_areas": null,
      "grid_template_columns": null,
      "grid_template_rows": null,
      "height": null,
      "justify_content": null,
      "justify_items": null,
      "left": null,
      "margin": null,
      "max_height": null,
      "max_width": null,
      "min_height": null,
      "min_width": null,
      "object_fit": null,
      "object_position": null,
      "order": null,
      "overflow": null,
      "overflow_x": null,
      "overflow_y": null,
      "padding": null,
      "right": null,
      "top": null,
      "visibility": null,
      "width": null
     }
    },
    "c47dfcdb150c48ca892122e8ffa446ca": {
     "model_module": "@jupyter-widgets/controls",
     "model_module_version": "1.5.0",
     "model_name": "DescriptionStyleModel",
     "state": {
      "_model_module": "@jupyter-widgets/controls",
      "_model_module_version": "1.5.0",
      "_model_name": "DescriptionStyleModel",
      "_view_count": null,
      "_view_module": "@jupyter-widgets/base",
      "_view_module_version": "1.2.0",
      "_view_name": "StyleView",
      "description_width": ""
     }
    },
    "cf11da2f781e411c893821b05b9b5249": {
     "model_module": "@jupyter-widgets/controls",
     "model_module_version": "1.5.0",
     "model_name": "HBoxModel",
     "state": {
      "_dom_classes": [],
      "_model_module": "@jupyter-widgets/controls",
      "_model_module_version": "1.5.0",
      "_model_name": "HBoxModel",
      "_view_count": null,
      "_view_module": "@jupyter-widgets/controls",
      "_view_module_version": "1.5.0",
      "_view_name": "HBoxView",
      "box_style": "",
      "children": [
       "IPY_MODEL_ddeb0acc48ee4f189649dc0aece12ce1",
       "IPY_MODEL_d25f2b2aadf8479cbc8356a878ffe85f",
       "IPY_MODEL_1e10176bd38b439ba1308e456c4b9bcf"
      ],
      "layout": "IPY_MODEL_78ebb72c4d4b46619bffab46b5727d22"
     }
    },
    "d25f2b2aadf8479cbc8356a878ffe85f": {
     "model_module": "@jupyter-widgets/controls",
     "model_module_version": "1.5.0",
     "model_name": "FloatProgressModel",
     "state": {
      "_dom_classes": [],
      "_model_module": "@jupyter-widgets/controls",
      "_model_module_version": "1.5.0",
      "_model_name": "FloatProgressModel",
      "_view_count": null,
      "_view_module": "@jupyter-widgets/controls",
      "_view_module_version": "1.5.0",
      "_view_name": "ProgressView",
      "bar_style": "danger",
      "description": "",
      "description_tooltip": null,
      "layout": "IPY_MODEL_c4465a7ec39b43efb46f0ce17b2fe928",
      "max": 106030,
      "min": 0,
      "orientation": "horizontal",
      "style": "IPY_MODEL_89fc1552d8ea4feea482bf8fed391e40",
      "value": 1361
     }
    },
    "ddeb0acc48ee4f189649dc0aece12ce1": {
     "model_module": "@jupyter-widgets/controls",
     "model_module_version": "1.5.0",
     "model_name": "HTMLModel",
     "state": {
      "_dom_classes": [],
      "_model_module": "@jupyter-widgets/controls",
      "_model_module_version": "1.5.0",
      "_model_name": "HTMLModel",
      "_view_count": null,
      "_view_module": "@jupyter-widgets/controls",
      "_view_module_version": "1.5.0",
      "_view_name": "HTMLView",
      "description": "",
      "description_tooltip": null,
      "layout": "IPY_MODEL_82cd84c3788b485993e28bbb01d43539",
      "placeholder": "​",
      "style": "IPY_MODEL_c3be2d97dcd7497c81f288d2210aa3e8",
      "value": "  1%"
     }
    }
   }
  }
 },
 "nbformat": 4,
 "nbformat_minor": 4
}
