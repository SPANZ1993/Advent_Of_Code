{
 "cells": [
  {
   "cell_type": "code",
   "execution_count": 1,
   "metadata": {},
   "outputs": [],
   "source": [
    "from pathlib import Path\n",
    "import os\n",
    "\n",
    "yr = 2023\n",
    "d = 18\n",
    "\n",
    "inp_path = os.path.join(Path(os.path.abspath(\"\")).parents[1], \n",
    "             'Input', '{}'.format(yr), \n",
    "             '{}.txt'.format(d))\n",
    "\n",
    "\n",
    "with open(inp_path, 'r') as file:\n",
    "    inp = file.read()"
   ]
  },
  {
   "cell_type": "code",
   "execution_count": 2,
   "metadata": {
    "id": "cmLEHeXm1if3"
   },
   "outputs": [],
   "source": [
    "import numpy as  np\n",
    "\n",
    "def format_input(inp):\n",
    "  formatted_input = []\n",
    "  for l in inp.splitlines():\n",
    "    spl = l.split(' ')\n",
    "    formatted_input.append((spl[0],\n",
    "                            int(spl[1]),\n",
    "                            spl[2].replace('(', '').replace(')', ''))\n",
    "    )\n",
    "  return formatted_input"
   ]
  },
  {
   "cell_type": "code",
   "execution_count": 3,
   "metadata": {
    "id": "9fuG7B_42HvY"
   },
   "outputs": [],
   "source": [
    "def dig_trench(formatted_input, use_hex_instructions=False):\n",
    "  import numpy as np\n",
    "\n",
    "  if use_hex_instructions:\n",
    "    directions = [{0:'R', 1:'D', 2:'L', 3:'U'}[int(x[2][-1])] for x in formatted_input]\n",
    "    lengths = [int(x[2][1:-1], 16) for x in formatted_input]\n",
    "  else:\n",
    "    directions = [x[0] for x in formatted_input]\n",
    "    lengths = [x[1] for x in formatted_input]\n",
    "\n",
    "  assert(len(directions)==len(lengths))\n",
    "\n",
    "\n",
    "    \n",
    "  dir_2_delta = {'U': [-1,0], 'D': [1,0], 'L': [0,-1], 'R': [0,1]}\n",
    "\n",
    "  max_vert = max(sum([l for d, l in zip(directions, lengths) if d=='U']), sum([l for d, l in zip(directions, lengths) if d=='D']))\n",
    "  max_horiz = max(sum([l for d, l in zip(directions, lengths) if d=='L']), sum([l for d, l in zip(directions, lengths) if d=='R']))\n",
    "\n",
    "  arr = np.full(((2*max_vert+1), (2*max_horiz+1)), '.', dtype=str)\n",
    "\n",
    "  origin = (max_vert//2, max_horiz//2)\n",
    "  arr[origin] = '#'\n",
    "\n",
    "  cur = origin\n",
    "  for d, l in zip(directions, lengths):\n",
    "    for _ in range(l):\n",
    "      cur = tuple(np.add(list(cur), dir_2_delta[d]))\n",
    "      arr[cur] = '#'\n",
    "\n",
    "  min_horiz_trench_loc = min([i for i in range(arr.shape[0]) if '#' in arr[i,:]])\n",
    "  max_horiz_trench_loc = max([i for i in range(arr.shape[0]) if '#' in arr[i,:]])\n",
    "  min_vert_trench_loc = min([i for i in range(arr.shape[1]) if '#' in arr[:,i]])\n",
    "  max_vert_trench_loc = max([i for i in range(arr.shape[1]) if '#' in arr[:,i]])\n",
    "\n",
    "  arr = arr[min_horiz_trench_loc-1:max_horiz_trench_loc+2, min_vert_trench_loc-1:max_vert_trench_loc+2]\n",
    "  return arr\n",
    "\n",
    "def fill_trench(arr):\n",
    "\n",
    "\n",
    "  def to_north(l):\n",
    "    return (l[0]-1, l[1])\n",
    "\n",
    "  def to_south(l):\n",
    "    return (l[0]+1, l[1])\n",
    "\n",
    "  def to_east(l):\n",
    "    return (l[0], l[1]+1)\n",
    "\n",
    "  def to_west(l):\n",
    "    return (l[0], l[1]-1)\n",
    "\n",
    "\n",
    "  def is_on_map(l):\n",
    "    # Is this location out of the bounds of the map\n",
    "    return ((l[0]>=0 and l[0]<arr.shape[0])\n",
    "            and (l[1]>=0 and l[1]<arr.shape[1]))\n",
    "\n",
    "  def find_outside_neighbors(loc):\n",
    "    return [p for p in [x for x in\n",
    "      [to_north(loc), to_south(loc), to_east(loc), to_west(loc)]\n",
    "                        if is_on_map(x)]\n",
    "      if arr[p] in ['.']]\n",
    "\n",
    "\n",
    "  # Points we've already examined\n",
    "  known_outside = []\n",
    "  hknown_outside = {}\n",
    "  # Points that are on our current frontier of search\n",
    "  queue = []\n",
    "  hqueue = {}\n",
    "\n",
    "  loc = (0,0)\n",
    "  if loc not in known_outside and arr[loc] == '.':\n",
    "    cur_loc = loc\n",
    "    to_queue = [x for x in find_outside_neighbors(cur_loc)\n",
    "    if (x not in hknown_outside and x not in hqueue)]\n",
    "    queue += to_queue\n",
    "    for l in to_queue:\n",
    "      hqueue[l] = True\n",
    "    known_outside.append(cur_loc)\n",
    "    hknown_outside[cur_loc] = True\n",
    "    while len(queue)!=0:\n",
    "      cur_loc = queue.pop()\n",
    "      del hqueue[cur_loc]\n",
    "      to_queue = [x for x in find_outside_neighbors(cur_loc)\n",
    "      if (x not in hknown_outside and x not in hqueue)]\n",
    "      queue += to_queue\n",
    "      for l in to_queue:\n",
    "        hqueue[l] = True\n",
    "      known_outside.append(cur_loc)\n",
    "      hknown_outside[cur_loc] = True\n",
    "      # print(len(known_outside))\n",
    "\n",
    "  known_outside = set(known_outside)\n",
    "  for i in range(arr.shape[0]):\n",
    "    for j in range(arr.shape[1]):\n",
    "      if (i,j) not in known_outside:\n",
    "        arr[(i,j)] = '#'\n",
    "\n",
    "  return arr"
   ]
  },
  {
   "cell_type": "code",
   "execution_count": 4,
   "metadata": {
    "id": "Qjoy_Y7UDX8u"
   },
   "outputs": [],
   "source": [
    "def get_trench_volume_naive(formatted_input, use_hex_instructions=False):\n",
    "  '''\n",
    "  Build trench and use floodfill to determine which spaces are in/out\n",
    "  Then count inner spaces\n",
    "  '''\n",
    "  return sum(fill_trench(dig_trench(formatted_input, use_hex_instructions=use_hex_instructions)).flatten()=='#')"
   ]
  },
  {
   "cell_type": "code",
   "execution_count": 5,
   "metadata": {
    "id": "3jtpSzFtJKYy"
   },
   "outputs": [],
   "source": [
    "def get_trench_volume_shoelace(formatted_input, use_hex_instructions=False):\n",
    "  '''\n",
    "  Use Shoelace Theorem to get number of inner spaces.\n",
    "  Add border spaces according to Pick's Theorem.\n",
    "  '''\n",
    "  if use_hex_instructions:\n",
    "    directions = [{0:'R', 1:'D', 2:'L', 3:'U'}[int(x[2][-1])] for x in formatted_input]\n",
    "    lengths = [int(x[2][1:-1], 16) for x in formatted_input]\n",
    "  else:\n",
    "    directions = [x[0] for x in formatted_input]\n",
    "    lengths = [x[1] for x in formatted_input]\n",
    "\n",
    "  assert(len(directions)==len(lengths))\n",
    "\n",
    "  # Shoelace Theorem\n",
    "  dir_2_delta = {'U': [-1,0], 'D': [1,0], 'L': [0,-1], 'R': [0,1]}\n",
    "  s = np.zeros(1, dtype=np.longlong)\n",
    "  cur_loc = (0,0)\n",
    "  for i in range(len(lengths)):\n",
    "    next_loc = tuple(np.array(dir_2_delta[directions[(i+1)%(len(lengths))]])\n",
    "                    * lengths[(i+1)%(len(lengths))] + np.array(cur_loc))\n",
    "    s[0] += np.subtract(np.prod([cur_loc[0],next_loc[1]], dtype=np.longlong), np.prod([cur_loc[1], next_loc[0]], dtype=np.longlong))\n",
    "    cur_loc = next_loc\n",
    "  s[0] /= 2\n",
    "\n",
    "  # Pick's Theorem\n",
    "  return int(abs(s[0]) + sum(lengths)/2 + 1)\n"
   ]
  },
  {
   "cell_type": "code",
   "execution_count": 6,
   "metadata": {
    "colab": {
     "base_uri": "https://localhost:8080/"
    },
    "id": "zYvQ8L0Wh19P",
    "outputId": "63224ac8-fb2d-4c5c-8a8a-8b07e77e189d"
   },
   "outputs": [
    {
     "name": "stdout",
     "output_type": "stream",
     "text": [
      "49061\n",
      "92556825427032\n",
      "\n",
      "RUNTIME:  0.538588285446167\n"
     ]
    }
   ],
   "source": [
    "import time\n",
    "\n",
    "t = time.time()\n",
    "\n",
    "formatted_input = format_input(inp)\n",
    "\n",
    "print(get_trench_volume_naive(formatted_input, use_hex_instructions=False))\n",
    "print(get_trench_volume_shoelace(formatted_input, use_hex_instructions=True))\n",
    "\n",
    "print('\\nRUNTIME: ', time.time()-t)"
   ]
  },
  {
   "cell_type": "code",
   "execution_count": 7,
   "metadata": {
    "colab": {
     "base_uri": "https://localhost:8080/"
    },
    "id": "KTmtXP0-8xtM",
    "outputId": "3b70dd1a-b7cf-4c76-9086-a08f7e1a346c"
   },
   "outputs": [],
   "source": [
    "# print('\\n'.join([''.join(x) for x in fill_trench(dig_trench(formatted_input))]))"
   ]
  }
 ],
 "metadata": {
  "colab": {
   "provenance": []
  },
  "kernelspec": {
   "display_name": "Python 3 (ipykernel)",
   "language": "python",
   "name": "python3"
  },
  "language_info": {
   "codemirror_mode": {
    "name": "ipython",
    "version": 3
   },
   "file_extension": ".py",
   "mimetype": "text/x-python",
   "name": "python",
   "nbconvert_exporter": "python",
   "pygments_lexer": "ipython3",
   "version": "3.9.18"
  }
 },
 "nbformat": 4,
 "nbformat_minor": 4
}
