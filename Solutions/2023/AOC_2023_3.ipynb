{
 "cells": [
  {
   "cell_type": "markdown",
   "metadata": {},
   "source": [
    "# --- Day 3: Gear Ratios ---\n",
    "You and the Elf eventually reach a gondola lift station; he says the gondola lift will take you up to the water source, but this is as far as he can bring you. You go inside.\n",
    "\n",
    "It doesn't take long to find the gondolas, but there seems to be a problem: they're not moving.\n",
    "\n",
    "\"Aaah!\"\n",
    "\n",
    "You turn around to see a slightly-greasy Elf with a wrench and a look of surprise. \"Sorry, I wasn't expecting anyone! The gondola lift isn't working right now; it'll still be a while before I can fix it.\" You offer to help.\n",
    "\n",
    "The engineer explains that an engine part seems to be missing from the engine, but nobody can figure out which one. If you can add up all the part numbers in the engine schematic, it should be easy to work out which part is missing.\n",
    "\n",
    "The engine schematic (your puzzle input) consists of a visual representation of the engine. There are lots of numbers and symbols you don't really understand, but apparently any number adjacent to a symbol, even diagonally, is a \"part number\" and should be included in your sum. (Periods (.) do not count as a symbol.)\n",
    "\n",
    "Here is an example engine schematic:\n",
    "```\n",
    "467..114..\n",
    "...*......\n",
    "..35..633.\n",
    "......#...\n",
    "617*......\n",
    ".....+.58.\n",
    "..592.....\n",
    "......755.\n",
    "...$.*....\n",
    ".664.598..\n",
    "\n",
    "```\n",
    "In this schematic, two numbers are not part numbers because they are not adjacent to a symbol: 114 (top right) and 58 (middle right). Every other number is adjacent to a symbol and so is a part number; their sum is 4361.\n",
    "\n",
    "Of course, the actual engine schematic is much larger. What is the sum of all of the part numbers in the engine schematic?\n",
    "\n",
    "\n",
    "## --- Part Two ---\n",
    "The engineer finds the missing part and installs it in the engine! As the engine springs to life, you jump in the closest gondola, finally ready to ascend to the water source.\n",
    "\n",
    "You don't seem to be going very fast, though. Maybe something is still wrong? Fortunately, the gondola has a phone labeled \"help\", so you pick it up and the engineer answers.\n",
    "\n",
    "Before you can explain the situation, she suggests that you look out the window. There stands the engineer, holding a phone in one hand and waving with the other. You're going so slowly that you haven't even left the station. You exit the gondola.\n",
    "\n",
    "The missing part wasn't the only issue - one of the gears in the engine is wrong. A gear is any * symbol that is adjacent to exactly two part numbers. Its gear ratio is the result of multiplying those two numbers together.\n",
    "\n",
    "This time, you need to find the gear ratio of every gear and add them all up so that the engineer can figure out which gear needs to be replaced.\n",
    "\n",
    "Consider the same engine schematic again:\n",
    "```\n",
    "467..114..\n",
    "...*......\n",
    "..35..633.\n",
    "......#...\n",
    "617*......\n",
    ".....+.58.\n",
    "..592.....\n",
    "......755.\n",
    "...$.*....\n",
    ".664.598..\n",
    "\n",
    "```\n",
    "In this schematic, there are two gears. The first is in the top left; it has part numbers 467 and 35, so its gear ratio is 16345. The second gear is in the lower right; its gear ratio is 451490. (The * adjacent to 617 is not a gear because it is only adjacent to one part number.) Adding up all of the gear ratios produces 467835.\n",
    "\n",
    "What is the sum of all of the gear ratios in your engine schematic?"
   ]
  },
  {
   "cell_type": "code",
   "execution_count": 1,
   "metadata": {
    "cellView": "form",
    "id": "OYGjZNUW1TKA"
   },
   "outputs": [],
   "source": [
    "from pathlib import Path\n",
    "import os\n",
    "\n",
    "yr = 2023\n",
    "d = 3\n",
    "\n",
    "inp_path = os.path.join(Path(os.path.abspath(\"\")).parents[1], \n",
    "             'Input', '{}'.format(yr), \n",
    "             '{}.txt'.format(d))\n",
    "\n",
    "\n",
    "with open(inp_path, 'r') as file:\n",
    "    inp = file.read()"
   ]
  },
  {
   "cell_type": "code",
   "execution_count": 2,
   "metadata": {
    "id": "-KpnUt_B1b3l"
   },
   "outputs": [],
   "source": [
    "def is_number(c):\n",
    "  numbers = ['0','1','2','3','4','5','6','7','8','9']\n",
    "  return c in numbers\n",
    "\n",
    "def is_symbol(c):\n",
    "  return (c is not None and isinstance(c,str)\n",
    "  and len(c)==1\n",
    "  and not is_number(c)\n",
    "  and c != '.')\n",
    "\n",
    "\n",
    "def format_input(inp):\n",
    "  '''Turn text input into a dictionary'''\n",
    "\n",
    "  d = {}\n",
    "  for i, l in enumerate(inp.split('\\n')):\n",
    "    for j, c in enumerate(l):\n",
    "      if c != '.':\n",
    "          d[(i,j)] = c\n",
    "  return d\n"
   ]
  },
  {
   "cell_type": "code",
   "execution_count": 3,
   "metadata": {
    "id": "JCaK9hCr1t_H"
   },
   "outputs": [],
   "source": [
    "def get_part_numbers(formatted_inp):\n",
    "\n",
    "  max_i =  max([x[0] for x in formatted_inp.keys()])\n",
    "  max_j = max([x[1] for x in formatted_inp.keys()])\n",
    "\n",
    "  def check_adjacent_symbols(i, j):\n",
    "    for ii in [i-1,i,i+1]:\n",
    "      for jj in [j-1, j, j+1]:\n",
    "        if not (ii == i and jj == j):\n",
    "          if is_symbol(formatted_inp.get((ii,jj), None)):\n",
    "            return True\n",
    "    return False\n",
    "\n",
    "  found_part_numbers = []\n",
    "  found_part_number_indices = []\n",
    "  for i in range(max_i+1):\n",
    "    for j in range(max_j+1):\n",
    "      if is_number(formatted_inp.get((i,j), None)):\n",
    "        k = j\n",
    "        cur_number_chars = []\n",
    "        cur_number_char_indices = []\n",
    "        adjacent_symbol = False\n",
    "        while (is_number(formatted_inp.get((i,k), None))\n",
    "        and (i,k) not in found_part_number_indices):\n",
    "          cur_number_chars.append(formatted_inp[(i,k)])\n",
    "          cur_number_char_indices.append((i,k))\n",
    "          if(check_adjacent_symbols(i, k)):\n",
    "            adjacent_symbol = True\n",
    "          k += 1\n",
    "        if adjacent_symbol:\n",
    "          found_part_numbers.append(int(''.join(cur_number_chars)))\n",
    "          for pni in cur_number_char_indices:\n",
    "            found_part_number_indices.append(pni)\n",
    "  return found_part_numbers\n"
   ]
  },
  {
   "cell_type": "code",
   "execution_count": 4,
   "metadata": {
    "id": "ZCEYG6KjMdZL"
   },
   "outputs": [],
   "source": [
    "def get_part_ratios(formatted_inp):\n",
    "\n",
    "  def is_gear(x):\n",
    "    return x == '*'\n",
    "\n",
    "  max_i =  max([x[0] for x in formatted_inp.keys()])\n",
    "  max_j = max([x[1] for x in formatted_inp.keys()])\n",
    "\n",
    "  def check_adjacent_symbols(i, j):\n",
    "    for ii in [i-1,i,i+1]:\n",
    "      for jj in [j-1, j, j+1]:\n",
    "        if not (ii == i and jj == j):\n",
    "          if is_gear(formatted_inp.get((ii,jj), None)):\n",
    "            return ((ii,jj))\n",
    "    return False\n",
    "\n",
    "  gear_to_numbers = {}\n",
    "  found_part_numbers = []\n",
    "  found_part_number_indices = []\n",
    "  for i in range(max_i+1):\n",
    "    for j in range(max_j+1):\n",
    "      if is_number(formatted_inp.get((i,j), None)):\n",
    "        k = j\n",
    "        cur_number_chars = []\n",
    "        cur_number_char_indices = []\n",
    "        adjacent_symbol = False\n",
    "        adjacent_gear_loc = None\n",
    "        while (is_number(formatted_inp.get((i,k), None))\n",
    "        and (i,k) not in found_part_number_indices):\n",
    "          cur_number_chars.append(formatted_inp[(i,k)])\n",
    "          cur_number_char_indices.append((i,k))\n",
    "          if(check_adjacent_symbols(i, k) is not False):\n",
    "            adjacent_symbol = True\n",
    "            adjacent_gear_loc = check_adjacent_symbols(i, k)\n",
    "          k += 1\n",
    "        if adjacent_symbol:\n",
    "          found_part_numbers.append(int(''.join(cur_number_chars)))\n",
    "          if adjacent_gear_loc not in gear_to_numbers.keys():\n",
    "            gear_to_numbers[adjacent_gear_loc] = []\n",
    "          gear_to_numbers[adjacent_gear_loc].append(int(''.join(cur_number_chars)))\n",
    "          for pni in cur_number_char_indices:\n",
    "            found_part_number_indices.append(pni)\n",
    "  # Filter out only gears with 2 adjacent numbers\n",
    "  gear_to_numbers = dict(filter(lambda p: len(p[1])==2, gear_to_numbers.items()))\n",
    "\n",
    "  gear_ratios = [x[0] * x[1] for x  in gear_to_numbers.values()]\n",
    "  return gear_ratios"
   ]
  },
  {
   "cell_type": "code",
   "execution_count": 5,
   "metadata": {
    "colab": {
     "base_uri": "https://localhost:8080/"
    },
    "id": "lsYjq88cPXfS",
    "outputId": "573241ef-30c9-4a14-bf79-c9e3930204bf"
   },
   "outputs": [
    {
     "name": "stdout",
     "output_type": "stream",
     "text": [
      "546563\n",
      "91031374\n",
      "\n",
      "RUNTIME:  0.35807132720947266\n"
     ]
    }
   ],
   "source": [
    "import time\n",
    "\n",
    "t = time.time()\n",
    "\n",
    "formatted_inp = format_input(inp)\n",
    "\n",
    "print(sum(get_part_numbers(formatted_inp)))\n",
    "print(sum(get_part_ratios(formatted_inp)))\n",
    "\n",
    "print(\"\\nRUNTIME: \", time.time()-t)"
   ]
  }
 ],
 "metadata": {
  "colab": {
   "provenance": []
  },
  "kernelspec": {
   "display_name": "Python 3 (ipykernel)",
   "language": "python",
   "name": "python3"
  },
  "language_info": {
   "codemirror_mode": {
    "name": "ipython",
    "version": 3
   },
   "file_extension": ".py",
   "mimetype": "text/x-python",
   "name": "python",
   "nbconvert_exporter": "python",
   "pygments_lexer": "ipython3",
   "version": "3.9.18"
  }
 },
 "nbformat": 4,
 "nbformat_minor": 4
}
