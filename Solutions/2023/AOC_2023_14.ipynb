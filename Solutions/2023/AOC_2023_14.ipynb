{
 "cells": [
  {
   "cell_type": "code",
   "execution_count": 1,
   "metadata": {},
   "outputs": [],
   "source": [
    "from pathlib import Path\n",
    "import os\n",
    "\n",
    "yr = 2023\n",
    "d = 14\n",
    "\n",
    "inp_path = os.path.join(Path(os.path.abspath(\"\")).parents[1], \n",
    "             'Input', '{}'.format(yr), \n",
    "             '{}.txt'.format(d))\n",
    "\n",
    "\n",
    "with open(inp_path, 'r') as file:\n",
    "    inp = file.read()"
   ]
  },
  {
   "cell_type": "code",
   "execution_count": 2,
   "metadata": {
    "id": "DP-lFga1MkdT"
   },
   "outputs": [],
   "source": [
    "import numpy as np\n",
    "def format_input(inp):\n",
    "  formatted_input = []\n",
    "  for l in inp.split('\\n'):\n",
    "    formatted_input.append(list(l))\n",
    "  return np.array(formatted_input, dtype=str)"
   ]
  },
  {
   "cell_type": "code",
   "execution_count": 3,
   "metadata": {
    "id": "yKy1dE0wSuKt"
   },
   "outputs": [],
   "source": [
    "def roll_single(arr, rev=False):\n",
    "  '''\n",
    "  Roll the rocks in a single row/column\n",
    "  '''\n",
    "  roll_to_loc = 0\n",
    "\n",
    "  if rev:\n",
    "    arr = list(reversed(arr))\n",
    "  for i in range(len(arr)):\n",
    "    if arr[i]=='#':\n",
    "      roll_to_loc=i+1\n",
    "    elif arr[i]=='O':\n",
    "      arr[i] = '.'\n",
    "      arr[roll_to_loc] = 'O'\n",
    "      roll_to_loc += 1\n",
    "  if rev:\n",
    "    return list(reversed(arr))\n",
    "  else:\n",
    "    return arr"
   ]
  },
  {
   "cell_type": "code",
   "execution_count": 4,
   "metadata": {
    "id": "ctiwDBnXSyFY"
   },
   "outputs": [],
   "source": [
    "def roll(arr, dir='up', cp=True):\n",
    "  '''\n",
    "  Roll all the rocks\n",
    "  '''\n",
    "  if cp:\n",
    "    import copy\n",
    "    arr = copy.deepcopy(arr)\n",
    "  if dir == 'up':\n",
    "    for i in range(arr.shape[1]):\n",
    "      arr[:,i] = roll_single(arr[:,i])\n",
    "  elif dir == 'down':\n",
    "    for i in range(arr.shape[1]):\n",
    "      arr[:,i] = roll_single(arr[:,i], rev=True)\n",
    "  elif dir == 'left':\n",
    "    for i in range(arr.T.shape[0]):\n",
    "      arr.T[:,i] = roll_single(arr.T[:,i])\n",
    "  elif dir == 'right':\n",
    "    for i in range(arr.T.shape[0]):\n",
    "      arr.T[:,i] = roll_single(arr.T[:,i], rev=True)\n",
    "  return arr"
   ]
  },
  {
   "cell_type": "code",
   "execution_count": 5,
   "metadata": {
    "id": "yFIaRWOeUlxw"
   },
   "outputs": [],
   "source": [
    "def calculate_load(arr):\n",
    "  '''\n",
    "  Calculate the load of the current rock configuration\n",
    "  '''\n",
    "  s = 0\n",
    "  for i in range(arr.shape[0]):\n",
    "    s += (sum([x=='O' for x in arr[arr.shape[0]-1-i]])) * (i+1)\n",
    "  return s"
   ]
  },
  {
   "cell_type": "code",
   "execution_count": 6,
   "metadata": {
    "id": "EeJMNd8rWHEU"
   },
   "outputs": [],
   "source": [
    "def roll_north_and_calculate_load(arr):\n",
    "  return calculate_load(roll(arr))"
   ]
  },
  {
   "cell_type": "code",
   "execution_count": 7,
   "metadata": {
    "id": "Vglz83VsXnTJ"
   },
   "outputs": [],
   "source": [
    "def spin_cycle(arr, cp=True):\n",
    "  '''\n",
    "  Do a full spin cycle\n",
    "  '''\n",
    "  return roll(roll(roll(roll(arr, dir='up', cp=cp), dir='left', cp=False), dir='down', cp=False), dir='right', cp=False)"
   ]
  },
  {
   "cell_type": "code",
   "execution_count": 8,
   "metadata": {
    "id": "oFwWUmZqdWpE"
   },
   "outputs": [],
   "source": [
    "def arr_to_str(arr):\n",
    "  '''\n",
    "  Convert the array that represents the platform to a string\n",
    "  '''\n",
    "  return ''.join([''.join(x) for x in arr])\n",
    "\n",
    "def arr_to_hash(arr):\n",
    "  '''\n",
    "  Hash the platform array with arr_to_str() as an intermediate step\n",
    "  '''\n",
    "  return hash(arr_to_str(arr))"
   ]
  },
  {
   "cell_type": "code",
   "execution_count": 9,
   "metadata": {
    "id": "1a9PROfBc50-"
   },
   "outputs": [],
   "source": [
    "def find_spin_cycle_loop(arr, cp=True):\n",
    "  '''\n",
    "  Run the spin cycle until you get back\n",
    "  to a configuration you've seen before\n",
    "\n",
    "  return the hashes of the array after each cycle,\n",
    "  as well as the arrays themselves\n",
    "  '''\n",
    "  if cp:\n",
    "    import copy\n",
    "    arr = copy.deepcopy(arr)\n",
    "  hashes = [arr_to_hash(arr)]\n",
    "  hash_2_arr = {arr_to_hash(arr): arr}\n",
    "  while(len(set(hashes))==len(hashes)):\n",
    "    arr = spin_cycle(arr, cp=True)\n",
    "    hashes.append(arr_to_hash(arr))\n",
    "    hash_2_arr[arr_to_hash(arr)] = arr\n",
    "  return hashes, hash_2_arr\n"
   ]
  },
  {
   "cell_type": "code",
   "execution_count": 10,
   "metadata": {
    "id": "qTUqyoOrfV7y"
   },
   "outputs": [],
   "source": [
    "def spin_cycle_and_calculate_load(arr, n, cp=True):\n",
    "  '''\n",
    "  Figure out how long it takes to get into a cycle\n",
    "  and use some modular arithmetic to determine what the\n",
    "  configuration will be like after n spin cycles\n",
    "\n",
    "  return the load of that configuration\n",
    "  '''\n",
    "  if cp:\n",
    "    import copy\n",
    "    arr = copy.deepcopy(arr)\n",
    "  hashes, hash_2_arr = find_spin_cycle_loop(arr, cp=False)\n",
    "  n_before_loop = hashes.index(hashes[-1]) - 1\n",
    "  loop_size = len(hashes) - n_before_loop - 2\n",
    "  n_hash = hashes[(n_before_loop + (n-n_before_loop)%loop_size)]\n",
    "  n_arr = hash_2_arr[n_hash]\n",
    "  return calculate_load(hash_2_arr[n_hash])"
   ]
  },
  {
   "cell_type": "code",
   "execution_count": 11,
   "metadata": {
    "colab": {
     "base_uri": "https://localhost:8080/"
    },
    "id": "HgOmHwcVif0m",
    "outputId": "a65a5fc5-e201-402c-e12c-7af6fabf9708"
   },
   "outputs": [
    {
     "name": "stdout",
     "output_type": "stream",
     "text": [
      "112048\n",
      "105606\n",
      "\n",
      "RUNTIME:  3.393922805786133\n"
     ]
    }
   ],
   "source": [
    "import time\n",
    "\n",
    "t = time.time()\n",
    "\n",
    "formatted_input = format_input(inp)\n",
    "\n",
    "print(roll_north_and_calculate_load(formatted_input))\n",
    "print(spin_cycle_and_calculate_load(formatted_input, 1000000000))\n",
    "\n",
    "print('\\nRUNTIME: ', time.time()-t)"
   ]
  }
 ],
 "metadata": {
  "colab": {
   "provenance": []
  },
  "kernelspec": {
   "display_name": "Python 3 (ipykernel)",
   "language": "python",
   "name": "python3"
  },
  "language_info": {
   "codemirror_mode": {
    "name": "ipython",
    "version": 3
   },
   "file_extension": ".py",
   "mimetype": "text/x-python",
   "name": "python",
   "nbconvert_exporter": "python",
   "pygments_lexer": "ipython3",
   "version": "3.9.18"
  }
 },
 "nbformat": 4,
 "nbformat_minor": 4
}
