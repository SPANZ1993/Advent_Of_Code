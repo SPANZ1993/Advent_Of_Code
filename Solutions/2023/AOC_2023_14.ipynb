{
 "cells": [
  {
   "cell_type": "markdown",
   "metadata": {},
   "source": [
    "# --- Day 14: Parabolic Reflector Dish ---\n",
    "You reach the place where all of the mirrors were pointing: a massive parabolic reflector dish attached to the side of another large mountain.\n",
    "\n",
    "The dish is made up of many small mirrors, but while the mirrors themselves are roughly in the shape of a parabolic reflector dish, each individual mirror seems to be pointing in slightly the wrong direction. If the dish is meant to focus light, all it's doing right now is sending it in a vague direction.\n",
    "\n",
    "This system must be what provides the energy for the lava! If you focus the reflector dish, maybe you can go where it's pointing and use the light to fix the lava production.\n",
    "\n",
    "Upon closer inspection, the individual mirrors each appear to be connected via an elaborate system of ropes and pulleys to a large metal platform below the dish. The platform is covered in large rocks of various shapes. Depending on their position, the weight of the rocks deforms the platform, and the shape of the platform controls which ropes move and ultimately the focus of the dish.\n",
    "\n",
    "In short: if you move the rocks, you can focus the dish. The platform even has a control panel on the side that lets you tilt it in one of four directions! The rounded rocks (O) will roll when the platform is tilted, while the cube-shaped rocks (#) will stay in place. You note the positions of all of the empty spaces (.) and rocks (your puzzle input). For example:\n",
    "```\n",
    "O....#....\n",
    "O.OO#....#\n",
    ".....##...\n",
    "OO.#O....O\n",
    ".O.....O#.\n",
    "O.#..O.#.#\n",
    "..O..#O..O\n",
    ".......O..\n",
    "#....###..\n",
    "#OO..#....\n",
    "```\n",
    "Start by tilting the lever so all of the rocks will slide north as far as they will go:\n",
    "```\n",
    "OOOO.#.O..\n",
    "OO..#....#\n",
    "OO..O##..O\n",
    "O..#.OO...\n",
    "........#.\n",
    "..#....#.#\n",
    "..O..#.O.O\n",
    "..O.......\n",
    "#....###..\n",
    "#....#....\n",
    "```\n",
    "You notice that the support beams along the north side of the platform are damaged; to ensure the platform doesn't collapse, you should calculate the total load on the north support beams.\n",
    "\n",
    "The amount of load caused by a single rounded rock (O) is equal to the number of rows from the rock to the south edge of the platform, including the row the rock is on. (Cube-shaped rocks (#) don't contribute to load.) So, the amount of load caused by each rock in each row is as follows:\n",
    "```\n",
    "OOOO.#.O.. 10\n",
    "OO..#....#  9\n",
    "OO..O##..O  8\n",
    "O..#.OO...  7\n",
    "........#.  6\n",
    "..#....#.#  5\n",
    "..O..#.O.O  4\n",
    "..O.......  3\n",
    "#....###..  2\n",
    "#....#....  1\n",
    "```\n",
    "The total load is the sum of the load caused by all of the rounded rocks. In this example, the total load is 136.\n",
    "\n",
    "Tilt the platform so that the rounded rocks all roll north. Afterward, what is the total load on the north support beams?\n",
    "\n",
    "\n",
    "## --- Part Two ---\n",
    "The parabolic reflector dish deforms, but not in a way that focuses the beam. To do that, you'll need to move the rocks to the edges of the platform. Fortunately, a button on the side of the control panel labeled \"spin cycle\" attempts to do just that!\n",
    "\n",
    "Each cycle tilts the platform four times so that the rounded rocks roll north, then west, then south, then east. After each tilt, the rounded rocks roll as far as they can before the platform tilts in the next direction. After one cycle, the platform will have finished rolling the rounded rocks in those four directions in that order.\n",
    "\n",
    "Here's what happens in the example above after each of the first few cycles:\n",
    "\n",
    "After 1 cycle:\n",
    "```\n",
    ".....#....\n",
    "....#...O#\n",
    "...OO##...\n",
    ".OO#......\n",
    ".....OOO#.\n",
    ".O#...O#.#\n",
    "....O#....\n",
    "......OOOO\n",
    "#...O###..\n",
    "#..OO#....\n",
    "```\n",
    "After 2 cycles:\n",
    "```\n",
    ".....#....\n",
    "....#...O#\n",
    ".....##...\n",
    "..O#......\n",
    ".....OOO#.\n",
    ".O#...O#.#\n",
    "....O#...O\n",
    ".......OOO\n",
    "#..OO###..\n",
    "#.OOO#...O\n",
    "```\n",
    "After 3 cycles:\n",
    "```\n",
    ".....#....\n",
    "....#...O#\n",
    ".....##...\n",
    "..O#......\n",
    ".....OOO#.\n",
    ".O#...O#.#\n",
    "....O#...O\n",
    ".......OOO\n",
    "#...O###.O\n",
    "#.OOO#...O\n",
    "```\n",
    "This process should work if you leave it running long enough, but you're still worried about the north support beams. To make sure they'll survive for a while, you need to calculate the total load on the north support beams after 1000000000 cycles.\n",
    "\n",
    "In the above example, after 1000000000 cycles, the total load on the north support beams is 64.\n",
    "\n",
    "Run the spin cycle for 1000000000 cycles. Afterward, what is the total load on the north support beams?"
   ]
  },
  {
   "cell_type": "code",
   "execution_count": 1,
   "metadata": {},
   "outputs": [],
   "source": [
    "from pathlib import Path\n",
    "import os\n",
    "\n",
    "yr = 2023\n",
    "d = 14\n",
    "\n",
    "inp_path = os.path.join(Path(os.path.abspath(\"\")).parents[1], \n",
    "             'Input', '{}'.format(yr), \n",
    "             '{}.txt'.format(d))\n",
    "\n",
    "\n",
    "with open(inp_path, 'r') as file:\n",
    "    inp = file.read()"
   ]
  },
  {
   "cell_type": "code",
   "execution_count": 2,
   "metadata": {
    "id": "DP-lFga1MkdT"
   },
   "outputs": [],
   "source": [
    "import numpy as np\n",
    "def format_input(inp):\n",
    "  formatted_input = []\n",
    "  for l in inp.split('\\n'):\n",
    "    formatted_input.append(list(l))\n",
    "  return np.array(formatted_input, dtype=str)"
   ]
  },
  {
   "cell_type": "code",
   "execution_count": 3,
   "metadata": {
    "id": "yKy1dE0wSuKt"
   },
   "outputs": [],
   "source": [
    "def roll_single(arr, rev=False):\n",
    "  '''\n",
    "  Roll the rocks in a single row/column\n",
    "  '''\n",
    "  roll_to_loc = 0\n",
    "\n",
    "  if rev:\n",
    "    arr = list(reversed(arr))\n",
    "  for i in range(len(arr)):\n",
    "    if arr[i]=='#':\n",
    "      roll_to_loc=i+1\n",
    "    elif arr[i]=='O':\n",
    "      arr[i] = '.'\n",
    "      arr[roll_to_loc] = 'O'\n",
    "      roll_to_loc += 1\n",
    "  if rev:\n",
    "    return list(reversed(arr))\n",
    "  else:\n",
    "    return arr"
   ]
  },
  {
   "cell_type": "code",
   "execution_count": 4,
   "metadata": {
    "id": "ctiwDBnXSyFY"
   },
   "outputs": [],
   "source": [
    "def roll(arr, dir='up', cp=True):\n",
    "  '''\n",
    "  Roll all the rocks\n",
    "  '''\n",
    "  if cp:\n",
    "    import copy\n",
    "    arr = copy.deepcopy(arr)\n",
    "  if dir == 'up':\n",
    "    for i in range(arr.shape[1]):\n",
    "      arr[:,i] = roll_single(arr[:,i])\n",
    "  elif dir == 'down':\n",
    "    for i in range(arr.shape[1]):\n",
    "      arr[:,i] = roll_single(arr[:,i], rev=True)\n",
    "  elif dir == 'left':\n",
    "    for i in range(arr.T.shape[0]):\n",
    "      arr.T[:,i] = roll_single(arr.T[:,i])\n",
    "  elif dir == 'right':\n",
    "    for i in range(arr.T.shape[0]):\n",
    "      arr.T[:,i] = roll_single(arr.T[:,i], rev=True)\n",
    "  return arr"
   ]
  },
  {
   "cell_type": "code",
   "execution_count": 5,
   "metadata": {
    "id": "yFIaRWOeUlxw"
   },
   "outputs": [],
   "source": [
    "def calculate_load(arr):\n",
    "  '''\n",
    "  Calculate the load of the current rock configuration\n",
    "  '''\n",
    "  s = 0\n",
    "  for i in range(arr.shape[0]):\n",
    "    s += (sum([x=='O' for x in arr[arr.shape[0]-1-i]])) * (i+1)\n",
    "  return s"
   ]
  },
  {
   "cell_type": "code",
   "execution_count": 6,
   "metadata": {
    "id": "EeJMNd8rWHEU"
   },
   "outputs": [],
   "source": [
    "def roll_north_and_calculate_load(arr):\n",
    "  return calculate_load(roll(arr))"
   ]
  },
  {
   "cell_type": "code",
   "execution_count": 7,
   "metadata": {
    "id": "Vglz83VsXnTJ"
   },
   "outputs": [],
   "source": [
    "def spin_cycle(arr, cp=True):\n",
    "  '''\n",
    "  Do a full spin cycle\n",
    "  '''\n",
    "  return roll(roll(roll(roll(arr, dir='up', cp=cp), dir='left', cp=False), dir='down', cp=False), dir='right', cp=False)"
   ]
  },
  {
   "cell_type": "code",
   "execution_count": 8,
   "metadata": {
    "id": "oFwWUmZqdWpE"
   },
   "outputs": [],
   "source": [
    "def arr_to_str(arr):\n",
    "  '''\n",
    "  Convert the array that represents the platform to a string\n",
    "  '''\n",
    "  return ''.join([''.join(x) for x in arr])\n",
    "\n",
    "def arr_to_hash(arr):\n",
    "  '''\n",
    "  Hash the platform array with arr_to_str() as an intermediate step\n",
    "  '''\n",
    "  return hash(arr_to_str(arr))"
   ]
  },
  {
   "cell_type": "code",
   "execution_count": 9,
   "metadata": {
    "id": "1a9PROfBc50-"
   },
   "outputs": [],
   "source": [
    "def find_spin_cycle_loop(arr, cp=True):\n",
    "  '''\n",
    "  Run the spin cycle until you get back\n",
    "  to a configuration you've seen before\n",
    "\n",
    "  return the hashes of the array after each cycle,\n",
    "  as well as the arrays themselves\n",
    "  '''\n",
    "  if cp:\n",
    "    import copy\n",
    "    arr = copy.deepcopy(arr)\n",
    "  hashes = [arr_to_hash(arr)]\n",
    "  hash_2_arr = {arr_to_hash(arr): arr}\n",
    "  while(len(set(hashes))==len(hashes)):\n",
    "    arr = spin_cycle(arr, cp=True)\n",
    "    hashes.append(arr_to_hash(arr))\n",
    "    hash_2_arr[arr_to_hash(arr)] = arr\n",
    "  return hashes, hash_2_arr\n"
   ]
  },
  {
   "cell_type": "code",
   "execution_count": 10,
   "metadata": {
    "id": "qTUqyoOrfV7y"
   },
   "outputs": [],
   "source": [
    "def spin_cycle_and_calculate_load(arr, n, cp=True):\n",
    "  '''\n",
    "  Figure out how long it takes to get into a cycle\n",
    "  and use some modular arithmetic to determine what the\n",
    "  configuration will be like after n spin cycles\n",
    "\n",
    "  return the load of that configuration\n",
    "  '''\n",
    "  if cp:\n",
    "    import copy\n",
    "    arr = copy.deepcopy(arr)\n",
    "  hashes, hash_2_arr = find_spin_cycle_loop(arr, cp=False)\n",
    "  n_before_loop = hashes.index(hashes[-1]) - 1\n",
    "  loop_size = len(hashes) - n_before_loop - 2\n",
    "  n_hash = hashes[(n_before_loop + (n-n_before_loop)%loop_size)]\n",
    "  n_arr = hash_2_arr[n_hash]\n",
    "  return calculate_load(hash_2_arr[n_hash])"
   ]
  },
  {
   "cell_type": "code",
   "execution_count": 11,
   "metadata": {
    "colab": {
     "base_uri": "https://localhost:8080/"
    },
    "id": "HgOmHwcVif0m",
    "outputId": "a65a5fc5-e201-402c-e12c-7af6fabf9708"
   },
   "outputs": [
    {
     "name": "stdout",
     "output_type": "stream",
     "text": [
      "112048\n",
      "105606\n",
      "\n",
      "RUNTIME:  3.393922805786133\n"
     ]
    }
   ],
   "source": [
    "import time\n",
    "\n",
    "t = time.time()\n",
    "\n",
    "formatted_input = format_input(inp)\n",
    "\n",
    "print(roll_north_and_calculate_load(formatted_input))\n",
    "print(spin_cycle_and_calculate_load(formatted_input, 1000000000))\n",
    "\n",
    "print('\\nRUNTIME: ', time.time()-t)"
   ]
  }
 ],
 "metadata": {
  "colab": {
   "provenance": []
  },
  "kernelspec": {
   "display_name": "Python 3 (ipykernel)",
   "language": "python",
   "name": "python3"
  },
  "language_info": {
   "codemirror_mode": {
    "name": "ipython",
    "version": 3
   },
   "file_extension": ".py",
   "mimetype": "text/x-python",
   "name": "python",
   "nbconvert_exporter": "python",
   "pygments_lexer": "ipython3",
   "version": "3.9.18"
  }
 },
 "nbformat": 4,
 "nbformat_minor": 4
}
