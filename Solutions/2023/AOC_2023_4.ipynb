{
 "cells": [
  {
   "cell_type": "code",
   "execution_count": 1,
   "metadata": {
    "cellView": "form",
    "id": "WI-26S4RSZLu"
   },
   "outputs": [],
   "source": [
    "from pathlib import Path\n",
    "import os\n",
    "\n",
    "yr = 2023\n",
    "d = 4\n",
    "\n",
    "inp_path = os.path.join(Path(os.path.abspath(\"\")).parents[1], \n",
    "             'Input', '{}'.format(yr), \n",
    "             '{}.txt'.format(d))\n",
    "\n",
    "\n",
    "with open(inp_path, 'r') as file:\n",
    "    inp = file.read()"
   ]
  },
  {
   "cell_type": "code",
   "execution_count": 2,
   "metadata": {
    "id": "CmB3_klsTaEp"
   },
   "outputs": [],
   "source": [
    "import re\n",
    "\n",
    "\n",
    "def format_input(inp):\n",
    "\n",
    "  def extract_numbers(l):\n",
    "    l = l.split(':')[1]\n",
    "    target_nums = [n.strip() for n in l.split('|')[0].split(' ')]\n",
    "    scratched_nums = [n.strip() for n in l.split('|')[1].split(' ')]\n",
    "    target_nums = [int(x) for x in target_nums if x != '']\n",
    "    scratched_nums = [int(x) for x in scratched_nums if x != '']\n",
    "    return target_nums, scratched_nums\n",
    "\n",
    "  formatted_input = {}\n",
    "  for l in inp.split('\\n'):\n",
    "    id_extraction_re = re.compile(r'Card\\s+(?P<id>\\d+):')\n",
    "    id_results = id_extraction_re.match(l)\n",
    "    cur_id = int(id_results['id'])\n",
    "    formatted_input[cur_id] = {}\n",
    "    t, s = extract_numbers(l)\n",
    "    formatted_input[cur_id]['target'] = t\n",
    "    formatted_input[cur_id]['scratched'] = s\n",
    "  return formatted_input\n",
    "\n"
   ]
  },
  {
   "cell_type": "code",
   "execution_count": 3,
   "metadata": {
    "id": "HRqf6hgJVA0z"
   },
   "outputs": [],
   "source": [
    "def get_scratchard_values(formatted_input):\n",
    "  card_values = []\n",
    "  for id in formatted_input.keys():\n",
    "    winners = len(\n",
    "                  set(formatted_input[id]['target'])\n",
    "                  .intersection(set(formatted_input[id]['scratched']))\n",
    "                  )\n",
    "    card_values.append(2**(winners-1) if winners > 0 else 0)\n",
    "  return card_values"
   ]
  },
  {
   "cell_type": "code",
   "execution_count": 4,
   "metadata": {
    "id": "dt71skQnZ5aE"
   },
   "outputs": [],
   "source": [
    "def get_recursive_card_counts(formatted_input):\n",
    "  # Get the number of winners each card has\n",
    "  cards_2_winners = {}\n",
    "  for id in formatted_input.keys():\n",
    "      winners = len(\n",
    "                set(formatted_input[id]['target'])\n",
    "                .intersection(set(formatted_input[id]['scratched']))\n",
    "                )\n",
    "      cards_2_winners[id] = winners\n",
    "\n",
    "  def calculate_cards_to_extra_cards(c2w):\n",
    "    '''\n",
    "    Starting at the last card, figure out how\n",
    "    many \"EXTRA\" cards you get from owning a\n",
    "    copy of each card\n",
    "    '''\n",
    "    c2ec = {}\n",
    "    for id in reversed(sorted(list(c2w.keys()))):\n",
    "      if id == max(c2w.keys()):\n",
    "        c2ec[id] = c2w[id]\n",
    "      else:\n",
    "        cur_extras = c2w[id]\n",
    "        for i in range(1,cur_extras+1):\n",
    "          cur_extras += c2ec[id+i]\n",
    "        c2ec[id] = cur_extras\n",
    "    return c2ec\n",
    "\n",
    "  # This is the number of extra cards received for having each card\n",
    "  extra_counts = calculate_cards_to_extra_cards(cards_2_winners)\n",
    "\n",
    "  # The total number of cards we end up with is the original number\n",
    "  # of cards plus the number of extra cards that each card yields\n",
    "  return len(extra_counts) + sum(extra_counts.values())\n",
    "\n",
    "\n"
   ]
  },
  {
   "cell_type": "code",
   "execution_count": 5,
   "metadata": {
    "colab": {
     "base_uri": "https://localhost:8080/"
    },
    "id": "APm5d7CNVZTO",
    "outputId": "d19a6222-9983-4be2-c9fa-58bfbcaeec90"
   },
   "outputs": [
    {
     "name": "stdout",
     "output_type": "stream",
     "text": [
      "21213\n",
      "8549735\n",
      "\n",
      "RUNTIME:  0.003989219665527344\n"
     ]
    }
   ],
   "source": [
    "import time\n",
    "\n",
    "\n",
    "t = time.time()\n",
    "\n",
    "formatted_input = format_input(inp)\n",
    "\n",
    "print(sum(get_scratchard_values(formatted_input)))\n",
    "print(get_recursive_card_counts(formatted_input))\n",
    "\n",
    "print(\"\\nRUNTIME: \", time.time()-t)"
   ]
  }
 ],
 "metadata": {
  "colab": {
   "provenance": []
  },
  "kernelspec": {
   "display_name": "Python 3 (ipykernel)",
   "language": "python",
   "name": "python3"
  },
  "language_info": {
   "codemirror_mode": {
    "name": "ipython",
    "version": 3
   },
   "file_extension": ".py",
   "mimetype": "text/x-python",
   "name": "python",
   "nbconvert_exporter": "python",
   "pygments_lexer": "ipython3",
   "version": "3.8.18"
  }
 },
 "nbformat": 4,
 "nbformat_minor": 4
}
