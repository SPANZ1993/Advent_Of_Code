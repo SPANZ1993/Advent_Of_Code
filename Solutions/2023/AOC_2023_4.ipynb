{
 "cells": [
  {
   "cell_type": "markdown",
   "metadata": {},
   "source": [
    "# --- Day 4: Scratchcards ---\n",
    "The gondola takes you up. Strangely, though, the ground doesn't seem to be coming with you; you're not climbing a mountain. As the circle of Snow Island recedes below you, an entire new landmass suddenly appears above you! The gondola carries you to the surface of the new island and lurches into the station.\n",
    "\n",
    "As you exit the gondola, the first thing you notice is that the air here is much warmer than it was on Snow Island. It's also quite humid. Is this where the water source is?\n",
    "\n",
    "The next thing you notice is an Elf sitting on the floor across the station in what seems to be a pile of colorful square cards.\n",
    "\n",
    "\"Oh! Hello!\" The Elf excitedly runs over to you. \"How may I be of service?\" You ask about water sources.\n",
    "\n",
    "\"I'm not sure; I just operate the gondola lift. That does sound like something we'd have, though - this is Island Island, after all! I bet the gardener would know. He's on a different island, though - er, the small kind surrounded by water, not the floating kind. We really need to come up with a better naming scheme. Tell you what: if you can help me with something quick, I'll let you borrow my boat and you can go visit the gardener. I got all these scratchcards as a gift, but I can't figure out what I've won.\"\n",
    "\n",
    "The Elf leads you over to the pile of colorful cards. There, you discover dozens of scratchcards, all with their opaque covering already scratched off. Picking one up, it looks like each card has two lists of numbers separated by a vertical bar (|): a list of winning numbers and then a list of numbers you have. You organize the information into a table (your puzzle input).\n",
    "\n",
    "As far as the Elf has been able to figure out, you have to figure out which of the numbers you have appear in the list of winning numbers. The first match makes the card worth one point and each match after the first doubles the point value of that card.\n",
    "\n",
    "For example:\n",
    "```\n",
    "Card 1: 41 48 83 86 17 | 83 86  6 31 17  9 48 53\n",
    "Card 2: 13 32 20 16 61 | 61 30 68 82 17 32 24 19\n",
    "Card 3:  1 21 53 59 44 | 69 82 63 72 16 21 14  1\n",
    "Card 4: 41 92 73 84 69 | 59 84 76 51 58  5 54 83\n",
    "Card 5: 87 83 26 28 32 | 88 30 70 12 93 22 82 36\n",
    "Card 6: 31 18 13 56 72 | 74 77 10 23 35 67 36 11\n",
    "```\n",
    "In the above example, card 1 has five winning numbers (41, 48, 83, 86, and 17) and eight numbers you have (83, 86, 6, 31, 17, 9, 48, and 53). Of the numbers you have, four of them (48, 83, 17, and 86) are winning numbers! That means card 1 is worth 8 points (1 for the first match, then doubled three times for each of the three matches after the first).\n",
    "\n",
    "Card 2 has two winning numbers (32 and 61), so it is worth 2 points.\n",
    "Card 3 has two winning numbers (1 and 21), so it is worth 2 points.\n",
    "Card 4 has one winning number (84), so it is worth 1 point.\n",
    "Card 5 has no winning numbers, so it is worth no points.\n",
    "Card 6 has no winning numbers, so it is worth no points.\n",
    "So, in this example, the Elf's pile of scratchcards is worth 13 points.\n",
    "\n",
    "Take a seat in the large pile of colorful cards. How many points are they worth in total?\n",
    "\n",
    "\n",
    "## --- Part Two ---\n",
    "Just as you're about to report your findings to the Elf, one of you realizes that the rules have actually been printed on the back of every card this whole time.\n",
    "\n",
    "There's no such thing as \"points\". Instead, scratchcards only cause you to win more scratchcards equal to the number of winning numbers you have.\n",
    "\n",
    "Specifically, you win copies of the scratchcards below the winning card equal to the number of matches. So, if card 10 were to have 5 matching numbers, you would win one copy each of cards 11, 12, 13, 14, and 15.\n",
    "\n",
    "Copies of scratchcards are scored like normal scratchcards and have the same card number as the card they copied. So, if you win a copy of card 10 and it has 5 matching numbers, it would then win a copy of the same cards that the original card 10 won: cards 11, 12, 13, 14, and 15. This process repeats until none of the copies cause you to win any more cards. (Cards will never make you copy a card past the end of the table.)\n",
    "\n",
    "This time, the above example goes differently:\n",
    "```\n",
    "Card 1: 41 48 83 86 17 | 83 86  6 31 17  9 48 53\n",
    "Card 2: 13 32 20 16 61 | 61 30 68 82 17 32 24 19\n",
    "Card 3:  1 21 53 59 44 | 69 82 63 72 16 21 14  1\n",
    "Card 4: 41 92 73 84 69 | 59 84 76 51 58  5 54 83\n",
    "Card 5: 87 83 26 28 32 | 88 30 70 12 93 22 82 36\n",
    "Card 6: 31 18 13 56 72 | 74 77 10 23 35 67 36 11\n",
    "```\n",
    "Card 1 has four matching numbers, so you win one copy each of the next four cards: cards 2, 3, 4, and 5.\n",
    "Your original card 2 has two matching numbers, so you win one copy each of cards 3 and 4.\n",
    "Your copy of card 2 also wins one copy each of cards 3 and 4.\n",
    "Your four instances of card 3 (one original and three copies) have two matching numbers, so you win four copies each of cards 4 and 5.\n",
    "Your eight instances of card 4 (one original and seven copies) have one matching number, so you win eight copies of card 5.\n",
    "Your fourteen instances of card 5 (one original and thirteen copies) have no matching numbers and win no more cards.\n",
    "Your one instance of card 6 (one original) has no matching numbers and wins no more cards.\n",
    "Once all of the originals and copies have been processed, you end up with 1 instance of card 1, 2 instances of card 2, 4 instances of card 3, 8 instances of card 4, 14 instances of card 5, and 1 instance of card 6. In total, this example pile of scratchcards causes you to ultimately have 30 scratchcards!\n",
    "\n",
    "Process all of the original and copied scratchcards until no more scratchcards are won. Including the original set of scratchcards, how many total scratchcards do you end up with?"
   ]
  },
  {
   "cell_type": "code",
   "execution_count": 1,
   "metadata": {
    "cellView": "form",
    "id": "WI-26S4RSZLu"
   },
   "outputs": [],
   "source": [
    "from pathlib import Path\n",
    "import os\n",
    "\n",
    "yr = 2023\n",
    "d = 4\n",
    "\n",
    "inp_path = os.path.join(Path(os.path.abspath(\"\")).parents[1], \n",
    "             'Input', '{}'.format(yr), \n",
    "             '{}.txt'.format(d))\n",
    "\n",
    "\n",
    "with open(inp_path, 'r') as file:\n",
    "    inp = file.read()"
   ]
  },
  {
   "cell_type": "code",
   "execution_count": 2,
   "metadata": {
    "id": "CmB3_klsTaEp"
   },
   "outputs": [],
   "source": [
    "import re\n",
    "\n",
    "\n",
    "def format_input(inp):\n",
    "\n",
    "  def extract_numbers(l):\n",
    "    l = l.split(':')[1]\n",
    "    target_nums = [n.strip() for n in l.split('|')[0].split(' ')]\n",
    "    scratched_nums = [n.strip() for n in l.split('|')[1].split(' ')]\n",
    "    target_nums = [int(x) for x in target_nums if x != '']\n",
    "    scratched_nums = [int(x) for x in scratched_nums if x != '']\n",
    "    return target_nums, scratched_nums\n",
    "\n",
    "  formatted_input = {}\n",
    "  for l in inp.split('\\n'):\n",
    "    id_extraction_re = re.compile(r'Card\\s+(?P<id>\\d+):')\n",
    "    id_results = id_extraction_re.match(l)\n",
    "    cur_id = int(id_results['id'])\n",
    "    formatted_input[cur_id] = {}\n",
    "    t, s = extract_numbers(l)\n",
    "    formatted_input[cur_id]['target'] = t\n",
    "    formatted_input[cur_id]['scratched'] = s\n",
    "  return formatted_input\n",
    "\n"
   ]
  },
  {
   "cell_type": "code",
   "execution_count": 3,
   "metadata": {
    "id": "HRqf6hgJVA0z"
   },
   "outputs": [],
   "source": [
    "def get_scratchard_values(formatted_input):\n",
    "  card_values = []\n",
    "  for id in formatted_input.keys():\n",
    "    winners = len(\n",
    "                  set(formatted_input[id]['target'])\n",
    "                  .intersection(set(formatted_input[id]['scratched']))\n",
    "                  )\n",
    "    card_values.append(2**(winners-1) if winners > 0 else 0)\n",
    "  return card_values"
   ]
  },
  {
   "cell_type": "code",
   "execution_count": 4,
   "metadata": {
    "id": "dt71skQnZ5aE"
   },
   "outputs": [],
   "source": [
    "def get_recursive_card_counts(formatted_input):\n",
    "  # Get the number of winners each card has\n",
    "  cards_2_winners = {}\n",
    "  for id in formatted_input.keys():\n",
    "      winners = len(\n",
    "                set(formatted_input[id]['target'])\n",
    "                .intersection(set(formatted_input[id]['scratched']))\n",
    "                )\n",
    "      cards_2_winners[id] = winners\n",
    "\n",
    "  def calculate_cards_to_extra_cards(c2w):\n",
    "    '''\n",
    "    Starting at the last card, figure out how\n",
    "    many \"EXTRA\" cards you get from owning a\n",
    "    copy of each card\n",
    "    '''\n",
    "    c2ec = {}\n",
    "    for id in reversed(sorted(list(c2w.keys()))):\n",
    "      if id == max(c2w.keys()):\n",
    "        c2ec[id] = c2w[id]\n",
    "      else:\n",
    "        cur_extras = c2w[id]\n",
    "        for i in range(1,cur_extras+1):\n",
    "          cur_extras += c2ec[id+i]\n",
    "        c2ec[id] = cur_extras\n",
    "    return c2ec\n",
    "\n",
    "  # This is the number of extra cards received for having each card\n",
    "  extra_counts = calculate_cards_to_extra_cards(cards_2_winners)\n",
    "\n",
    "  # The total number of cards we end up with is the original number\n",
    "  # of cards plus the number of extra cards that each card yields\n",
    "  return len(extra_counts) + sum(extra_counts.values())\n",
    "\n",
    "\n"
   ]
  },
  {
   "cell_type": "code",
   "execution_count": 5,
   "metadata": {
    "colab": {
     "base_uri": "https://localhost:8080/"
    },
    "id": "APm5d7CNVZTO",
    "outputId": "d19a6222-9983-4be2-c9fa-58bfbcaeec90"
   },
   "outputs": [
    {
     "name": "stdout",
     "output_type": "stream",
     "text": [
      "21213\n",
      "8549735\n",
      "\n",
      "RUNTIME:  0.003989219665527344\n"
     ]
    }
   ],
   "source": [
    "import time\n",
    "\n",
    "\n",
    "t = time.time()\n",
    "\n",
    "formatted_input = format_input(inp)\n",
    "\n",
    "print(sum(get_scratchard_values(formatted_input)))\n",
    "print(get_recursive_card_counts(formatted_input))\n",
    "\n",
    "print(\"\\nRUNTIME: \", time.time()-t)"
   ]
  }
 ],
 "metadata": {
  "colab": {
   "provenance": []
  },
  "kernelspec": {
   "display_name": "Python 3 (ipykernel)",
   "language": "python",
   "name": "python3"
  },
  "language_info": {
   "codemirror_mode": {
    "name": "ipython",
    "version": 3
   },
   "file_extension": ".py",
   "mimetype": "text/x-python",
   "name": "python",
   "nbconvert_exporter": "python",
   "pygments_lexer": "ipython3",
   "version": "3.9.18"
  }
 },
 "nbformat": 4,
 "nbformat_minor": 4
}
