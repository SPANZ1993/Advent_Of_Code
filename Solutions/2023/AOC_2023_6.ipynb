{
 "cells": [
  {
   "cell_type": "code",
   "execution_count": 1,
   "metadata": {
    "id": "RhF19-xwiC5E"
   },
   "outputs": [],
   "source": [
    "from pathlib import Path\n",
    "import os\n",
    "\n",
    "yr = 2023\n",
    "d = 6\n",
    "\n",
    "inp_path = os.path.join(Path(os.path.abspath(\"\")).parents[1], \n",
    "             'Input', '{}'.format(yr), \n",
    "             '{}.txt'.format(d))\n",
    "\n",
    "\n",
    "with open(inp_path, 'r') as file:\n",
    "    inp = file.read()"
   ]
  },
  {
   "cell_type": "code",
   "execution_count": 2,
   "metadata": {
    "id": "tcSjUUA8iHa-"
   },
   "outputs": [],
   "source": [
    "def format_input(inp):\n",
    "  for i, l in enumerate(inp.split('\\n')):\n",
    "    vals = [int(x) for x in l.split(' ') if x.isnumeric()]\n",
    "    if i == 0:\n",
    "      rtimes = vals\n",
    "    elif i == 1:\n",
    "      distances = vals\n",
    "  return {rtimes[i]: distances[i] for i in range(len(rtimes))}\n",
    "\n",
    "def format_kern_input(inp):\n",
    "  for i, l in enumerate(inp.split('\\n')):\n",
    "    vals = [str(x) for x in l.split(' ') if x.isnumeric()]\n",
    "    if i == 0:\n",
    "      rtimes = vals\n",
    "    elif i == 1:\n",
    "      distances = vals\n",
    "  return {int(''.join(rtimes)): int(''.join(distances))}"
   ]
  },
  {
   "cell_type": "code",
   "execution_count": 3,
   "metadata": {
    "id": "lROwiSfLjO0v"
   },
   "outputs": [],
   "source": [
    "def get_distance(rtime, htime):\n",
    "  mtime = rtime - htime\n",
    "  return htime * mtime\n",
    "\n",
    "def get_all_possible_distances(rtime):\n",
    "  dists = []\n",
    "  for htime in range(rtime+1):\n",
    "    dists.append(get_distance(rtime, htime))\n",
    "  return dists\n",
    "\n",
    "def get_winning_distances(rtime, distance):\n",
    "  possible_dists = get_all_possible_distances(rtime)\n",
    "  return [d for d in possible_dists if d > distance]\n",
    "\n",
    "def get_winning_distances_multi_race(formatted_input):\n",
    "  output = []\n",
    "  for t, d in formatted_input.items():\n",
    "    output.append(get_winning_distances(t, d))\n",
    "  return output\n",
    "\n",
    "def get_winning_distances_multi_race_product(formatted_input):\n",
    "  winners = get_winning_distances_multi_race(formatted_input)\n",
    "  prod = 1\n",
    "  for w in winners:\n",
    "    prod = prod*len(w)\n",
    "  return prod"
   ]
  },
  {
   "cell_type": "code",
   "execution_count": 4,
   "metadata": {
    "id": "wc_eqMF97o9y"
   },
   "outputs": [],
   "source": [
    "def get_hold_times(rtime, d):\n",
    "  from scipy.optimize import fsolve\n",
    "  hts = fsolve(lambda x: d+1-get_distance(rtime, x), [0,rtime])\n",
    "  return (int(hts[0]+1), int(hts[1]))\n",
    "\n",
    "\n",
    "def get_possible_winning_hold_times(formatted_input_kern):\n",
    "  rtime = list(formatted_input_kern.keys())[0]\n",
    "  d = list(formatted_input_kern.values())[0]\n",
    "  min_ht, max_ht = get_hold_times(rtime, d)\n",
    "  return max_ht - min_ht + 1"
   ]
  },
  {
   "cell_type": "code",
   "execution_count": 5,
   "metadata": {
    "colab": {
     "base_uri": "https://localhost:8080/"
    },
    "id": "vi3V7RUbkA1j",
    "outputId": "6e8ca5f9-13cd-420e-8a0b-602c93c62019"
   },
   "outputs": [
    {
     "name": "stdout",
     "output_type": "stream",
     "text": [
      "633080\n",
      "20048741\n",
      "\n",
      "RUNTIME:  0.29919958114624023\n"
     ]
    }
   ],
   "source": [
    "import time\n",
    "\n",
    "t = time.time()\n",
    "\n",
    "formatted_input = format_input(inp)\n",
    "formatted_input_kern = format_kern_input(inp)\n",
    "\n",
    "print(get_winning_distances_multi_race_product(formatted_input))\n",
    "print(get_possible_winning_hold_times(formatted_input_kern))\n",
    "\n",
    "print(\"\\nRUNTIME: \", time.time()-t)"
   ]
  }
 ],
 "metadata": {
  "colab": {
   "provenance": []
  },
  "kernelspec": {
   "display_name": "Python 3 (ipykernel)",
   "language": "python",
   "name": "python3"
  },
  "language_info": {
   "codemirror_mode": {
    "name": "ipython",
    "version": 3
   },
   "file_extension": ".py",
   "mimetype": "text/x-python",
   "name": "python",
   "nbconvert_exporter": "python",
   "pygments_lexer": "ipython3",
   "version": "3.8.18"
  }
 },
 "nbformat": 4,
 "nbformat_minor": 4
}
