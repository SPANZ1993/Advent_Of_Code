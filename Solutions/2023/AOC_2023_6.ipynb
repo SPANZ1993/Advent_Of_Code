{
 "cells": [
  {
   "cell_type": "markdown",
   "metadata": {},
   "source": [
    "# --- Day 6: Wait For It ---\n",
    "The ferry quickly brings you across Island Island. After asking around, you discover that there is indeed normally a large pile of sand somewhere near here, but you don't see anything besides lots of water and the small island where the ferry has docked.\n",
    "\n",
    "As you try to figure out what to do next, you notice a poster on a wall near the ferry dock. \"Boat races! Open to the public! Grand prize is an all-expenses-paid trip to Desert Island!\" That must be where the sand comes from! Best of all, the boat races are starting in just a few minutes.\n",
    "\n",
    "You manage to sign up as a competitor in the boat races just in time. The organizer explains that it's not really a traditional race - instead, you will get a fixed amount of time during which your boat has to travel as far as it can, and you win if your boat goes the farthest.\n",
    "\n",
    "As part of signing up, you get a sheet of paper (your puzzle input) that lists the time allowed for each race and also the best distance ever recorded in that race. To guarantee you win the grand prize, you need to make sure you go farther in each race than the current record holder.\n",
    "\n",
    "The organizer brings you over to the area where the boat races are held. The boats are much smaller than you expected - they're actually toy boats, each with a big button on top. Holding down the button charges the boat, and releasing the button allows the boat to move. Boats move faster if their button was held longer, but time spent holding the button counts against the total race time. You can only hold the button at the start of the race, and boats don't move until the button is released.\n",
    "\n",
    "For example:\n",
    "```\n",
    "Time:      7  15   30\n",
    "Distance:  9  40  200\n",
    "```\n",
    "This document describes three races:\n",
    "\n",
    "The first race lasts 7 milliseconds. The record distance in this race is 9 millimeters.\n",
    "The second race lasts 15 milliseconds. The record distance in this race is 40 millimeters.\n",
    "The third race lasts 30 milliseconds. The record distance in this race is 200 millimeters.\n",
    "Your toy boat has a starting speed of zero millimeters per millisecond. For each whole millisecond you spend at the beginning of the race holding down the button, the boat's speed increases by one millimeter per millisecond.\n",
    "\n",
    "So, because the first race lasts 7 milliseconds, you only have a few options:\n",
    "\n",
    "Don't hold the button at all (that is, hold it for 0 milliseconds) at the start of the race. The boat won't move; it will have traveled 0 millimeters by the end of the race.\n",
    "Hold the button for 1 millisecond at the start of the race. Then, the boat will travel at a speed of 1 millimeter per millisecond for 6 milliseconds, reaching a total distance traveled of 6 millimeters.\n",
    "Hold the button for 2 milliseconds, giving the boat a speed of 2 millimeters per millisecond. It will then get 5 milliseconds to move, reaching a total distance of 10 millimeters.\n",
    "Hold the button for 3 milliseconds. After its remaining 4 milliseconds of travel time, the boat will have gone 12 millimeters.\n",
    "Hold the button for 4 milliseconds. After its remaining 3 milliseconds of travel time, the boat will have gone 12 millimeters.\n",
    "Hold the button for 5 milliseconds, causing the boat to travel a total of 10 millimeters.\n",
    "Hold the button for 6 milliseconds, causing the boat to travel a total of 6 millimeters.\n",
    "Hold the button for 7 milliseconds. That's the entire duration of the race. You never let go of the button. The boat can't move until you let go of the button. Please make sure you let go of the button so the boat gets to move. 0 millimeters.\n",
    "Since the current record for this race is 9 millimeters, there are actually 4 different ways you could win: you could hold the button for 2, 3, 4, or 5 milliseconds at the start of the race.\n",
    "\n",
    "In the second race, you could hold the button for at least 4 milliseconds and at most 11 milliseconds and beat the record, a total of 8 different ways to win.\n",
    "\n",
    "In the third race, you could hold the button for at least 11 milliseconds and no more than 19 milliseconds and still beat the record, a total of 9 ways you could win.\n",
    "\n",
    "To see how much margin of error you have, determine the number of ways you can beat the record in each race; in this example, if you multiply these values together, you get 288 (4 * 8 * 9).\n",
    "\n",
    "Determine the number of ways you could beat the record in each race. What do you get if you multiply these numbers together?\n",
    "\n",
    "## --- Part Two ---\n",
    "As the race is about to start, you realize the piece of paper with race times and record distances you got earlier actually just has very bad kerning. There's really only one race - ignore the spaces between the numbers on each line.\n",
    "\n",
    "So, the example from before:\n",
    "```\n",
    "Time:      7  15   30\n",
    "Distance:  9  40  200\n",
    "```\n",
    "...now instead means this:\n",
    "```\n",
    "Time:      71530\n",
    "Distance:  940200\n",
    "```\n",
    "Now, you have to figure out how many ways there are to win this single race. In this example, the race lasts for 71530 milliseconds and the record distance you need to beat is 940200 millimeters. You could hold the button anywhere from 14 to 71516 milliseconds and beat the record, a total of 71503 ways!\n",
    "\n",
    "How many ways can you beat the record in this one much longer race?"
   ]
  },
  {
   "cell_type": "code",
   "execution_count": 1,
   "metadata": {
    "id": "RhF19-xwiC5E"
   },
   "outputs": [],
   "source": [
    "from pathlib import Path\n",
    "import os\n",
    "\n",
    "yr = 2023\n",
    "d = 6\n",
    "\n",
    "inp_path = os.path.join(Path(os.path.abspath(\"\")).parents[1], \n",
    "             'Input', '{}'.format(yr), \n",
    "             '{}.txt'.format(d))\n",
    "\n",
    "\n",
    "with open(inp_path, 'r') as file:\n",
    "    inp = file.read()"
   ]
  },
  {
   "cell_type": "code",
   "execution_count": 2,
   "metadata": {
    "id": "tcSjUUA8iHa-"
   },
   "outputs": [],
   "source": [
    "def format_input(inp):\n",
    "  for i, l in enumerate(inp.split('\\n')):\n",
    "    vals = [int(x) for x in l.split(' ') if x.isnumeric()]\n",
    "    if i == 0:\n",
    "      rtimes = vals\n",
    "    elif i == 1:\n",
    "      distances = vals\n",
    "  return {rtimes[i]: distances[i] for i in range(len(rtimes))}\n",
    "\n",
    "def format_kern_input(inp):\n",
    "  for i, l in enumerate(inp.split('\\n')):\n",
    "    vals = [str(x) for x in l.split(' ') if x.isnumeric()]\n",
    "    if i == 0:\n",
    "      rtimes = vals\n",
    "    elif i == 1:\n",
    "      distances = vals\n",
    "  return {int(''.join(rtimes)): int(''.join(distances))}"
   ]
  },
  {
   "cell_type": "code",
   "execution_count": 3,
   "metadata": {
    "id": "lROwiSfLjO0v"
   },
   "outputs": [],
   "source": [
    "def get_distance(rtime, htime):\n",
    "  mtime = rtime - htime\n",
    "  return htime * mtime\n",
    "\n",
    "def get_all_possible_distances(rtime):\n",
    "  dists = []\n",
    "  for htime in range(rtime+1):\n",
    "    dists.append(get_distance(rtime, htime))\n",
    "  return dists\n",
    "\n",
    "def get_winning_distances(rtime, distance):\n",
    "  possible_dists = get_all_possible_distances(rtime)\n",
    "  return [d for d in possible_dists if d > distance]\n",
    "\n",
    "def get_winning_distances_multi_race(formatted_input):\n",
    "  output = []\n",
    "  for t, d in formatted_input.items():\n",
    "    output.append(get_winning_distances(t, d))\n",
    "  return output\n",
    "\n",
    "def get_winning_distances_multi_race_product(formatted_input):\n",
    "  winners = get_winning_distances_multi_race(formatted_input)\n",
    "  prod = 1\n",
    "  for w in winners:\n",
    "    prod = prod*len(w)\n",
    "  return prod"
   ]
  },
  {
   "cell_type": "code",
   "execution_count": 4,
   "metadata": {
    "id": "wc_eqMF97o9y"
   },
   "outputs": [],
   "source": [
    "def get_hold_times(rtime, d):\n",
    "  from scipy.optimize import fsolve\n",
    "  hts = fsolve(lambda x: d+1-get_distance(rtime, x), [0,rtime])\n",
    "  return (int(hts[0]+1), int(hts[1]))\n",
    "\n",
    "\n",
    "def get_possible_winning_hold_times(formatted_input_kern):\n",
    "  rtime = list(formatted_input_kern.keys())[0]\n",
    "  d = list(formatted_input_kern.values())[0]\n",
    "  min_ht, max_ht = get_hold_times(rtime, d)\n",
    "  return max_ht - min_ht + 1"
   ]
  },
  {
   "cell_type": "code",
   "execution_count": 5,
   "metadata": {
    "colab": {
     "base_uri": "https://localhost:8080/"
    },
    "id": "vi3V7RUbkA1j",
    "outputId": "6e8ca5f9-13cd-420e-8a0b-602c93c62019"
   },
   "outputs": [
    {
     "name": "stdout",
     "output_type": "stream",
     "text": [
      "633080\n",
      "20048741\n",
      "\n",
      "RUNTIME:  0.29919958114624023\n"
     ]
    }
   ],
   "source": [
    "import time\n",
    "\n",
    "t = time.time()\n",
    "\n",
    "formatted_input = format_input(inp)\n",
    "formatted_input_kern = format_kern_input(inp)\n",
    "\n",
    "print(get_winning_distances_multi_race_product(formatted_input))\n",
    "print(get_possible_winning_hold_times(formatted_input_kern))\n",
    "\n",
    "print(\"\\nRUNTIME: \", time.time()-t)"
   ]
  }
 ],
 "metadata": {
  "colab": {
   "provenance": []
  },
  "kernelspec": {
   "display_name": "Python 3 (ipykernel)",
   "language": "python",
   "name": "python3"
  },
  "language_info": {
   "codemirror_mode": {
    "name": "ipython",
    "version": 3
   },
   "file_extension": ".py",
   "mimetype": "text/x-python",
   "name": "python",
   "nbconvert_exporter": "python",
   "pygments_lexer": "ipython3",
   "version": "3.9.18"
  }
 },
 "nbformat": 4,
 "nbformat_minor": 4
}
