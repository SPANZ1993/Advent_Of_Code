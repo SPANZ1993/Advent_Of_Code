{
 "cells": [
  {
   "cell_type": "code",
   "execution_count": 1,
   "metadata": {
    "cellView": "form",
    "id": "T6DYB_yuq_Qu"
   },
   "outputs": [],
   "source": [
    "from pathlib import Path\n",
    "import os\n",
    "\n",
    "yr = 2023\n",
    "d = 2\n",
    "\n",
    "inp_path = os.path.join(Path(os.path.abspath(\"\")).parents[1], \n",
    "             'Input', '{}'.format(yr), \n",
    "             '{}.txt'.format(d))\n",
    "\n",
    "\n",
    "with open(inp_path, 'r') as file:\n",
    "    inp = file.read()"
   ]
  },
  {
   "cell_type": "code",
   "execution_count": 2,
   "metadata": {
    "id": "IhV9i_6wrOKs"
   },
   "outputs": [],
   "source": [
    "import re\n",
    "\n",
    "id_extraction_re = re.compile(r'Game (?P<id>\\d+):')\n",
    "red_extraction_re = re.compile(r'.*?((?P<reds>\\d+) red).*')\n",
    "green_extraction_re = re.compile(r'.*?((?P<greens>\\d+) green).*')\n",
    "blue_extraction_re = re.compile(r'.*?((?P<blues>\\d+) blue).*')\n",
    "\n",
    "\n",
    "def format_input(inp):\n",
    "  formatted_inp = {}\n",
    "  for l in inp.split('\\n'):\n",
    "    id_results = id_extraction_re.match(l)\n",
    "    cur_id = int(id_results['id'])\n",
    "    cur_pulls = []\n",
    "    for pull in l.split(';'):\n",
    "      red_results = red_extraction_re.match(pull)\n",
    "      green_results = green_extraction_re.match(pull)\n",
    "      blue_results = blue_extraction_re.match(pull)\n",
    "      cur_pulls.append((\n",
    "                      int(red_results['reds'] if red_results is not None else 0),\n",
    "                      int(green_results['greens'] if green_results is not None else 0),\n",
    "                      int(blue_results['blues'] if blue_results is not None else 0)\n",
    "                      ))\n",
    "    formatted_inp[cur_id] = tuple(cur_pulls)\n",
    "\n",
    "  return formatted_inp"
   ]
  },
  {
   "cell_type": "code",
   "execution_count": 3,
   "metadata": {
    "id": "9FkwT5ootRid"
   },
   "outputs": [],
   "source": [
    "def filter_possible_games(formatted_inp, red, green, blue):\n",
    "  possible_game_ids = []\n",
    "  for id, pulls in formatted_inp.items():\n",
    "    red_possible = True\n",
    "    green_possible = True\n",
    "    blue_possible = True\n",
    "    for pull in pulls:\n",
    "      if pull[0] > red:\n",
    "        red_possible = False\n",
    "      if pull[1] > green:\n",
    "        green_possible = False\n",
    "      if pull[2] > blue:\n",
    "        blue_possible = False\n",
    "    if all([red_possible, green_possible, blue_possible]):\n",
    "      possible_game_ids.append(id)\n",
    "  return possible_game_ids\n",
    "\n",
    "\n",
    "def calculate_powers(formatted_inp):\n",
    "  powers = []\n",
    "  for id, pulls in formatted_inp.items():\n",
    "    min_red = None\n",
    "    min_green = None\n",
    "    min_blue = None\n",
    "    for pull in pulls:\n",
    "      if min_red is None or min_red < pull[0]:\n",
    "        min_red = pull[0]\n",
    "      if min_green is None or min_green < pull[1]:\n",
    "        min_green = pull[1]\n",
    "      if min_blue is None or min_blue < pull[2]:\n",
    "        min_blue = pull[2]\n",
    "    powers.append(min_red * min_green * min_blue)\n",
    "  return powers"
   ]
  },
  {
   "cell_type": "code",
   "execution_count": 4,
   "metadata": {
    "colab": {
     "base_uri": "https://localhost:8080/"
    },
    "id": "vhOTIKrox6dU",
    "outputId": "efa76b1e-418d-4c1d-f5b0-3d350455601a"
   },
   "outputs": [
    {
     "name": "stdout",
     "output_type": "stream",
     "text": [
      "2331\n",
      "71585\n",
      "\n",
      "RUNTIME:  0.0019948482513427734\n"
     ]
    }
   ],
   "source": [
    "import time\n",
    "\n",
    "t = time.time()\n",
    "\n",
    "formatted_inp = format_input(inp)\n",
    "\n",
    "print(sum(filter_possible_games(formatted_inp, red=12, green=13, blue=14)))\n",
    "print(sum(calculate_powers(formatted_inp)))\n",
    "\n",
    "\n",
    "print(\"\\nRUNTIME: \", time.time()-t)"
   ]
  }
 ],
 "metadata": {
  "colab": {
   "provenance": []
  },
  "kernelspec": {
   "display_name": "Python 3 (ipykernel)",
   "language": "python",
   "name": "python3"
  },
  "language_info": {
   "codemirror_mode": {
    "name": "ipython",
    "version": 3
   },
   "file_extension": ".py",
   "mimetype": "text/x-python",
   "name": "python",
   "nbconvert_exporter": "python",
   "pygments_lexer": "ipython3",
   "version": "3.8.18"
  }
 },
 "nbformat": 4,
 "nbformat_minor": 4
}
