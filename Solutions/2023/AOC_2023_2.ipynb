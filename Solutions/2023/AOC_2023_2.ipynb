{
 "cells": [
  {
   "cell_type": "markdown",
   "metadata": {},
   "source": [
    "# --- Day 2: Cube Conundrum ---\n",
    "You're launched high into the atmosphere! The apex of your trajectory just barely reaches the surface of a large island floating in the sky. You gently land in a fluffy pile of leaves. It's quite cold, but you don't see much snow. An Elf runs over to greet you.\n",
    "\n",
    "The Elf explains that you've arrived at Snow Island and apologizes for the lack of snow. He'll be happy to explain the situation, but it's a bit of a walk, so you have some time. They don't get many visitors up here; would you like to play a game in the meantime?\n",
    "\n",
    "As you walk, the Elf shows you a small bag and some cubes which are either red, green, or blue. Each time you play this game, he will hide a secret number of cubes of each color in the bag, and your goal is to figure out information about the number of cubes.\n",
    "\n",
    "To get information, once a bag has been loaded with cubes, the Elf will reach into the bag, grab a handful of random cubes, show them to you, and then put them back in the bag. He'll do this a few times per game.\n",
    "\n",
    "You play several games and record the information from each game (your puzzle input). Each game is listed with its ID number (like the 11 in Game 11: ...) followed by a semicolon-separated list of subsets of cubes that were revealed from the bag (like 3 red, 5 green, 4 blue).\n",
    "\n",
    "For example, the record of a few games might look like this:\n",
    "```\n",
    "Game 1: 3 blue, 4 red; 1 red, 2 green, 6 blue; 2 green\n",
    "Game 2: 1 blue, 2 green; 3 green, 4 blue, 1 red; 1 green, 1 blue\n",
    "Game 3: 8 green, 6 blue, 20 red; 5 blue, 4 red, 13 green; 5 green, 1 red\n",
    "Game 4: 1 green, 3 red, 6 blue; 3 green, 6 red; 3 green, 15 blue, 14 red\n",
    "Game 5: 6 red, 1 blue, 3 green; 2 blue, 1 red, 2 green\n",
    "```\n",
    "In game 1, three sets of cubes are revealed from the bag (and then put back again). The first set is 3 blue cubes and 4 red cubes; the second set is 1 red cube, 2 green cubes, and 6 blue cubes; the third set is only 2 green cubes.\n",
    "\n",
    "The Elf would first like to know which games would have been possible if the bag contained only 12 red cubes, 13 green cubes, and 14 blue cubes?\n",
    "\n",
    "In the example above, games 1, 2, and 5 would have been possible if the bag had been loaded with that configuration. However, game 3 would have been impossible because at one point the Elf showed you 20 red cubes at once; similarly, game 4 would also have been impossible because the Elf showed you 15 blue cubes at once. If you add up the IDs of the games that would have been possible, you get 8.\n",
    "\n",
    "Determine which games would have been possible if the bag had been loaded with only 12 red cubes, 13 green cubes, and 14 blue cubes. What is the sum of the IDs of those games?\n",
    "\n",
    "\n",
    "## --- Part Two ---\n",
    "The Elf says they've stopped producing snow because they aren't getting any water! He isn't sure why the water stopped; however, he can show you how to get to the water source to check it out for yourself. It's just up ahead!\n",
    "\n",
    "As you continue your walk, the Elf poses a second question: in each game you played, what is the fewest number of cubes of each color that could have been in the bag to make the game possible?\n",
    "\n",
    "Again consider the example games from earlier:\n",
    "```\n",
    "Game 1: 3 blue, 4 red; 1 red, 2 green, 6 blue; 2 green\n",
    "Game 2: 1 blue, 2 green; 3 green, 4 blue, 1 red; 1 green, 1 blue\n",
    "Game 3: 8 green, 6 blue, 20 red; 5 blue, 4 red, 13 green; 5 green, 1 red\n",
    "Game 4: 1 green, 3 red, 6 blue; 3 green, 6 red; 3 green, 15 blue, 14 red\n",
    "Game 5: 6 red, 1 blue, 3 green; 2 blue, 1 red, 2 green\n",
    "```\n",
    "In game 1, the game could have been played with as few as 4 red, 2 green, and 6 blue cubes. If any color had even one fewer cube, the game would have been impossible.\n",
    "Game 2 could have been played with a minimum of 1 red, 3 green, and 4 blue cubes.\n",
    "Game 3 must have been played with at least 20 red, 13 green, and 6 blue cubes.\n",
    "Game 4 required at least 14 red, 3 green, and 15 blue cubes.\n",
    "Game 5 needed no fewer than 6 red, 3 green, and 2 blue cubes in the bag.\n",
    "The power of a set of cubes is equal to the numbers of red, green, and blue cubes multiplied together. The power of the minimum set of cubes in game 1 is 48. In games 2-5 it was 12, 1560, 630, and 36, respectively. Adding up these five powers produces the sum 2286.\n",
    "\n",
    "For each game, find the minimum set of cubes that must have been present. What is the sum of the power of these sets?\n"
   ]
  },
  {
   "cell_type": "code",
   "execution_count": 1,
   "metadata": {
    "cellView": "form",
    "id": "T6DYB_yuq_Qu"
   },
   "outputs": [],
   "source": [
    "from pathlib import Path\n",
    "import os\n",
    "\n",
    "yr = 2023\n",
    "d = 2\n",
    "\n",
    "inp_path = os.path.join(Path(os.path.abspath(\"\")).parents[1], \n",
    "             'Input', '{}'.format(yr), \n",
    "             '{}.txt'.format(d))\n",
    "\n",
    "\n",
    "with open(inp_path, 'r') as file:\n",
    "    inp = file.read()"
   ]
  },
  {
   "cell_type": "code",
   "execution_count": 2,
   "metadata": {
    "id": "IhV9i_6wrOKs"
   },
   "outputs": [],
   "source": [
    "import re\n",
    "\n",
    "id_extraction_re = re.compile(r'Game (?P<id>\\d+):')\n",
    "red_extraction_re = re.compile(r'.*?((?P<reds>\\d+) red).*')\n",
    "green_extraction_re = re.compile(r'.*?((?P<greens>\\d+) green).*')\n",
    "blue_extraction_re = re.compile(r'.*?((?P<blues>\\d+) blue).*')\n",
    "\n",
    "\n",
    "def format_input(inp):\n",
    "  formatted_inp = {}\n",
    "  for l in inp.split('\\n'):\n",
    "    id_results = id_extraction_re.match(l)\n",
    "    cur_id = int(id_results['id'])\n",
    "    cur_pulls = []\n",
    "    for pull in l.split(';'):\n",
    "      red_results = red_extraction_re.match(pull)\n",
    "      green_results = green_extraction_re.match(pull)\n",
    "      blue_results = blue_extraction_re.match(pull)\n",
    "      cur_pulls.append((\n",
    "                      int(red_results['reds'] if red_results is not None else 0),\n",
    "                      int(green_results['greens'] if green_results is not None else 0),\n",
    "                      int(blue_results['blues'] if blue_results is not None else 0)\n",
    "                      ))\n",
    "    formatted_inp[cur_id] = tuple(cur_pulls)\n",
    "\n",
    "  return formatted_inp"
   ]
  },
  {
   "cell_type": "code",
   "execution_count": 3,
   "metadata": {
    "id": "9FkwT5ootRid"
   },
   "outputs": [],
   "source": [
    "def filter_possible_games(formatted_inp, red, green, blue):\n",
    "  possible_game_ids = []\n",
    "  for id, pulls in formatted_inp.items():\n",
    "    red_possible = True\n",
    "    green_possible = True\n",
    "    blue_possible = True\n",
    "    for pull in pulls:\n",
    "      if pull[0] > red:\n",
    "        red_possible = False\n",
    "      if pull[1] > green:\n",
    "        green_possible = False\n",
    "      if pull[2] > blue:\n",
    "        blue_possible = False\n",
    "    if all([red_possible, green_possible, blue_possible]):\n",
    "      possible_game_ids.append(id)\n",
    "  return possible_game_ids\n",
    "\n",
    "\n",
    "def calculate_powers(formatted_inp):\n",
    "  powers = []\n",
    "  for id, pulls in formatted_inp.items():\n",
    "    min_red = None\n",
    "    min_green = None\n",
    "    min_blue = None\n",
    "    for pull in pulls:\n",
    "      if min_red is None or min_red < pull[0]:\n",
    "        min_red = pull[0]\n",
    "      if min_green is None or min_green < pull[1]:\n",
    "        min_green = pull[1]\n",
    "      if min_blue is None or min_blue < pull[2]:\n",
    "        min_blue = pull[2]\n",
    "    powers.append(min_red * min_green * min_blue)\n",
    "  return powers"
   ]
  },
  {
   "cell_type": "code",
   "execution_count": 4,
   "metadata": {
    "colab": {
     "base_uri": "https://localhost:8080/"
    },
    "id": "vhOTIKrox6dU",
    "outputId": "efa76b1e-418d-4c1d-f5b0-3d350455601a"
   },
   "outputs": [
    {
     "name": "stdout",
     "output_type": "stream",
     "text": [
      "2331\n",
      "71585\n",
      "\n",
      "RUNTIME:  0.0019948482513427734\n"
     ]
    }
   ],
   "source": [
    "import time\n",
    "\n",
    "t = time.time()\n",
    "\n",
    "formatted_inp = format_input(inp)\n",
    "\n",
    "print(sum(filter_possible_games(formatted_inp, red=12, green=13, blue=14)))\n",
    "print(sum(calculate_powers(formatted_inp)))\n",
    "\n",
    "\n",
    "print(\"\\nRUNTIME: \", time.time()-t)"
   ]
  }
 ],
 "metadata": {
  "colab": {
   "provenance": []
  },
  "kernelspec": {
   "display_name": "Python 3 (ipykernel)",
   "language": "python",
   "name": "python3"
  },
  "language_info": {
   "codemirror_mode": {
    "name": "ipython",
    "version": 3
   },
   "file_extension": ".py",
   "mimetype": "text/x-python",
   "name": "python",
   "nbconvert_exporter": "python",
   "pygments_lexer": "ipython3",
   "version": "3.9.18"
  }
 },
 "nbformat": 4,
 "nbformat_minor": 4
}
