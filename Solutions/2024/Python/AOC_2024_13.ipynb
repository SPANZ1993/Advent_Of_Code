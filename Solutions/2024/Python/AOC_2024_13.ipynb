{
 "cells": [
  {
   "cell_type": "code",
   "execution_count": 1,
   "metadata": {},
   "outputs": [],
   "source": [
    "from pathlib import Path\n",
    "import os\n",
    "\n",
    "yr = 2024\n",
    "d = 13\n",
    "\n",
    "inp_path = os.path.join(Path(os.path.abspath(\"\")).parents[2], \n",
    "             'Input', '{}'.format(yr), \n",
    "             '{}.txt'.format(d))\n",
    "\n",
    "with open(inp_path, 'r') as file:\n",
    "    inp = file.readlines()"
   ]
  },
  {
   "cell_type": "code",
   "execution_count": 2,
   "metadata": {},
   "outputs": [],
   "source": [
    "def format_input(inp):\n",
    "  import re\n",
    "  a_lines = [l for l in inp if l.startswith('Button A')]\n",
    "  b_lines = [l for l in inp if l.startswith('Button B')]\n",
    "  prize_lines = [l for l in inp if l.startswith('Prize')]\n",
    "  m = lambda x: (int(re.match('.+?(\\d+), Y.(\\d+)', x).group(1)), int(re.match('.+?(\\d+), Y.(\\d+)', x).group(2)))\n",
    "  return list(zip(map(m, a_lines), map(m, b_lines), map(m, prize_lines)))"
   ]
  },
  {
   "cell_type": "code",
   "execution_count": 3,
   "metadata": {},
   "outputs": [],
   "source": [
    "def solve_machine(machine, part_2=False):\n",
    "  '''\n",
    "  https://unacademy.com/content/jee/study-material/mathematics/cross-multiplication-solving-linear-equation-two-variables/\n",
    "  '''\n",
    "  a1, a2 = machine[0]\n",
    "  b1, b2 = machine[1]\n",
    "  c1, c2 = machine[2]\n",
    "\n",
    "  if part_2:\n",
    "    c1, c2 = c1 + 10000000000000, c2 + 10000000000000\n",
    "\n",
    "  if ((a1/a2) == (b1/b2)) or ((a1*b2 - a2*b1)==0):\n",
    "    return (0,0)\n",
    "\n",
    "\n",
    "  x_ = (b1*c2 - b2*c1)\n",
    "  y_ = (c1*a2 - c2*a1)\n",
    "  z_ = (b2*a1 - b1*a2)\n",
    "\n",
    "\n",
    "  res = (-x_/z_, -y_/z_)\n",
    "  if res[0] == int(res[0]) and res[1]==int(res[1]) and (res[0]>=0 and res[1]>=0):\n",
    "    return res\n",
    "  else: # If it found a non-natural number solution\n",
    "    return (0,0)\n",
    "\n",
    "def get_n_tokens(machines, part_2=False):\n",
    "  return int(sum(map(lambda x: 3*x[0] + x[1], map(lambda m: solve_machine(m, part_2=part_2), machines))))\n"
   ]
  },
  {
   "cell_type": "code",
   "execution_count": 4,
   "metadata": {},
   "outputs": [
    {
     "name": "stdout",
     "output_type": "stream",
     "text": [
      "36250\n",
      "83232379451012\n",
      "\n",
      "RUNTIME:  0.004987239837646484\n"
     ]
    }
   ],
   "source": [
    "import time\n",
    "\n",
    "t = time.time()\n",
    "\n",
    "formatted_input = format_input(inp)\n",
    "\n",
    "print(get_n_tokens(formatted_input))\n",
    "print(get_n_tokens(formatted_input, part_2=True))\n",
    "\n",
    "print('\\nRUNTIME: ', time.time()-t)"
   ]
  }
 ],
 "metadata": {
  "kernelspec": {
   "display_name": "Advent_Of_Code",
   "language": "python",
   "name": "python3"
  },
  "language_info": {
   "codemirror_mode": {
    "name": "ipython",
    "version": 3
   },
   "file_extension": ".py",
   "mimetype": "text/x-python",
   "name": "python",
   "nbconvert_exporter": "python",
   "pygments_lexer": "ipython3",
   "version": "3.9.18"
  }
 },
 "nbformat": 4,
 "nbformat_minor": 2
}
