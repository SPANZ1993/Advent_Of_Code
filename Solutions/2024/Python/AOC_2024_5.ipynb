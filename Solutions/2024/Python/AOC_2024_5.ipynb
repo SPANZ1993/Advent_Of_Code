{
 "cells": [
  {
   "cell_type": "code",
   "execution_count": 11,
   "metadata": {},
   "outputs": [],
   "source": [
    "from pathlib import Path\n",
    "import os\n",
    "\n",
    "yr = 2024\n",
    "d = 5\n",
    "\n",
    "inp_path = os.path.join(Path(os.path.abspath(\"\")).parents[2], \n",
    "             'Input', '{}'.format(yr), \n",
    "             '{}.txt'.format(d))\n",
    "\n",
    "\n",
    "with open(inp_path, 'r') as file:\n",
    "    inp = file.readlines()"
   ]
  },
  {
   "cell_type": "code",
   "execution_count": 12,
   "metadata": {},
   "outputs": [],
   "source": [
    "def format_input(inp):\n",
    "  pairs = set((n1,n2) for n1, n2 in \n",
    "                      [map(int, l.strip().split('|')) for l in inp if '|' in l])\n",
    "  updates = [list(map(int, l.strip().split(','))) for l in inp if ',' in l]\n",
    "  return pairs, updates"
   ]
  },
  {
   "cell_type": "code",
   "execution_count": 13,
   "metadata": {},
   "outputs": [],
   "source": [
    "pairs, updates = format_input(inp)"
   ]
  },
  {
   "cell_type": "code",
   "execution_count": 14,
   "metadata": {},
   "outputs": [],
   "source": [
    "def findCorrect(updates):\n",
    "  return [u for u in updates if u == correctUpdate(u)]\n",
    "\n",
    "def findIncorrect(updates):\n",
    "  return [u for u in updates if u != correctUpdate(u)]\n",
    "\n",
    "def correctUpdate(u):\n",
    "  return sorted(u, key=lambda x: sum([(e,x) in pairs for e in u]))"
   ]
  },
  {
   "cell_type": "code",
   "execution_count": 16,
   "metadata": {},
   "outputs": [
    {
     "name": "stdout",
     "output_type": "stream",
     "text": [
      "P1:  5588\n",
      "P2:  5331\n",
      "\n",
      "RUNTIME:  0.014960765838623047\n"
     ]
    }
   ],
   "source": [
    "import time\n",
    "\n",
    "t = time.time()\n",
    "\n",
    "formatted_input = format_input(inp)\n",
    "\n",
    "print(\"P1: \", sum([u[len(u)//2] for u in findCorrect(updates)]))\n",
    "print(\"P2: \", sum([u[len(u)//2] for u in map(correctUpdate, findIncorrect(updates))]))\n",
    "\n",
    "print('\\nRUNTIME: ', time.time()-t)"
   ]
  }
 ],
 "metadata": {
  "kernelspec": {
   "display_name": "Advent_Of_Code",
   "language": "python",
   "name": "python3"
  },
  "language_info": {
   "codemirror_mode": {
    "name": "ipython",
    "version": 3
   },
   "file_extension": ".py",
   "mimetype": "text/x-python",
   "name": "python",
   "nbconvert_exporter": "python",
   "pygments_lexer": "ipython3",
   "version": "3.9.18"
  }
 },
 "nbformat": 4,
 "nbformat_minor": 2
}
