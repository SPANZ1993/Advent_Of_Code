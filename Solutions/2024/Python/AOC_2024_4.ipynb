{
 "cells": [
  {
   "cell_type": "code",
   "execution_count": null,
   "metadata": {},
   "outputs": [],
   "source": [
    "from pathlib import Path\n",
    "import os\n",
    "\n",
    "yr = 2024\n",
    "d = 4\n",
    "\n",
    "inp_path = os.path.join(Path(os.path.abspath(\"\")).parents[2], \n",
    "             'Input', '{}'.format(yr), \n",
    "             '{}.txt'.format(d))\n",
    "\n",
    "\n",
    "with open(inp_path, 'r') as file:\n",
    "    inp = file.readlines()"
   ]
  },
  {
   "cell_type": "code",
   "execution_count": 73,
   "metadata": {},
   "outputs": [],
   "source": [
    "def format_input(inp):\n",
    "  formatted_input = {}\n",
    "  for i, l in enumerate(map(lambda x: x.strip(), inp)):\n",
    "    for j, c in enumerate(l):\n",
    "      formatted_input[(i,j)] = c\n",
    "  return formatted_input"
   ]
  },
  {
   "cell_type": "code",
   "execution_count": 74,
   "metadata": {},
   "outputs": [],
   "source": [
    "import numpy as np\n",
    "from itertools import product\n",
    "xmas_pats = [list(zip(list(zip(list(np.array(o[0]) * np.array(range(4))), list(np.array(o[1]) * np.array(range(4))))), \"XMAS\")) \n",
    "             for o in product([0, -1, 1], repeat=2)]\n",
    "\n",
    "\n",
    "mas_pats = [\n",
    "              [((-1,-1),'M'),((1,-1),'M'),((-1,1),'S'),((1,1),'S'), ((0,0), 'A')],\n",
    "              [((-1,-1),'M'),((1,-1),'S'),((-1,1),'M'),((1,1),'S'), ((0,0), 'A')],\n",
    "              [((-1,-1),'S'),((1,-1),'M'),((-1,1),'S'),((1,1),'M'), ((0,0), 'A')],\n",
    "              [((-1,-1),'S'),((1,-1),'S'),((-1,1),'M'),((1,1),'M'), ((0,0), 'A')]\n",
    "            ]\n",
    "\n",
    "\n",
    "def countPats(doc, pats):\n",
    "  maxi = max(map(lambda x: x[0], doc.keys()))\n",
    "  maxj = max(map(lambda x: x[1], doc.keys()))\n",
    "  count = 0\n",
    "  for i in range(maxi+1):\n",
    "    for j in range(maxj+1):\n",
    "      for pat in pats:\n",
    "        if \"\".join([doc.get((i+o[0], j+o[1]), \"_\") for o in map(lambda x: x[0], pat)]) == \"\".join(map(lambda x: x[1], pat)):\n",
    "          count += 1\n",
    "  return count"
   ]
  },
  {
   "cell_type": "code",
   "execution_count": 75,
   "metadata": {},
   "outputs": [
    {
     "name": "stdout",
     "output_type": "stream",
     "text": [
      "P1:  2358\n",
      "P2:  1737\n",
      "\n",
      "RUNTIME:  0.6332545280456543\n"
     ]
    }
   ],
   "source": [
    "import time\n",
    "\n",
    "t = time.time()\n",
    "\n",
    "formatted_input = format_input(inp)\n",
    "\n",
    "print(\"P1: \", countPats(formatted_input, xmas_pats))\n",
    "print(\"P2: \", countPats(formatted_input, mas_pats))\n",
    "\n",
    "\n",
    "print('\\nRUNTIME: ', time.time()-t)"
   ]
  }
 ],
 "metadata": {
  "kernelspec": {
   "display_name": "Advent_Of_Code",
   "language": "python",
   "name": "python3"
  },
  "language_info": {
   "codemirror_mode": {
    "name": "ipython",
    "version": 3
   },
   "file_extension": ".py",
   "mimetype": "text/x-python",
   "name": "python",
   "nbconvert_exporter": "python",
   "pygments_lexer": "ipython3",
   "version": "3.9.18"
  }
 },
 "nbformat": 4,
 "nbformat_minor": 2
}
