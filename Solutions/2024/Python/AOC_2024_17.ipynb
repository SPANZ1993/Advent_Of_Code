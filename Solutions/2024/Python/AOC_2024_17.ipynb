{
 "cells": [
  {
   "cell_type": "code",
   "execution_count": 9,
   "metadata": {},
   "outputs": [],
   "source": [
    "from pathlib import Path\n",
    "import os\n",
    "\n",
    "yr = 2024\n",
    "d = 17\n",
    "\n",
    "inp_path = os.path.join(Path(os.path.abspath(\"\")).parents[2], \n",
    "             'Input', '{}'.format(yr), \n",
    "             '{}.txt'.format(d))\n",
    "\n",
    "# inp_path = 'C:\\\\Users\\\\riggi\\\\Projects\\\\Advent_Of_Code\\\\Input\\\\2024\\\\17_ex1.txt'\n",
    "\n",
    "with open(inp_path, 'r') as file:\n",
    "    inp = file.readlines()"
   ]
  },
  {
   "cell_type": "code",
   "execution_count": 10,
   "metadata": {},
   "outputs": [],
   "source": [
    "import copy\n",
    "\n",
    "def format_input(inp):\n",
    "  import re\n",
    "\n",
    "  registers = {'A': int(re.sub('[^0-9]','', inp[0])),\n",
    "               'B': int(re.sub('[^0-9]','', inp[1])),\n",
    "               'C': int(re.sub('[^0-9]','', inp[2]))}\n",
    "  \n",
    "  program = [int(x) for x in re.sub('[^0-9,]','', inp[4]).split(',')]\n",
    "  return registers, program"
   ]
  },
  {
   "cell_type": "code",
   "execution_count": 11,
   "metadata": {},
   "outputs": [],
   "source": [
    "formatted_input = format_input(inp)"
   ]
  },
  {
   "cell_type": "code",
   "execution_count": 12,
   "metadata": {},
   "outputs": [
    {
     "data": {
      "text/plain": [
       "({'A': 28422061, 'B': 0, 'C': 0},\n",
       " [2, 4, 1, 1, 7, 5, 1, 5, 4, 2, 5, 5, 0, 3, 3, 0])"
      ]
     },
     "execution_count": 12,
     "metadata": {},
     "output_type": "execute_result"
    }
   ],
   "source": [
    "formatted_input"
   ]
  },
  {
   "cell_type": "code",
   "execution_count": 13,
   "metadata": {},
   "outputs": [],
   "source": [
    "def adv(opcode, operand, combo, pointer, registers, out):\n",
    "  '''0'''\n",
    "  assert(opcode==0)\n",
    "  registers['A'] = int(registers['A']/(2**combo))\n",
    "  pointer += 2\n",
    "  return pointer, registers, out\n",
    "\n",
    "def bxl(opcode, operand, combo, pointer, registers, out):\n",
    "  '''1'''\n",
    "  assert(opcode==1)\n",
    "  registers['B'] = registers['B'] ^ operand\n",
    "  pointer += 2\n",
    "  return pointer, registers, out\n",
    "\n",
    "def bst(opcode, operand, combo, pointer, registers, out):\n",
    "  '''2'''\n",
    "  assert(opcode==2)\n",
    "  registers['B'] = combo%8\n",
    "  pointer += 2\n",
    "  return pointer, registers, out\n",
    "\n",
    "def jnz(opcode, operand, combo, pointer, registers, out):\n",
    "  '''3'''\n",
    "  assert(opcode==3)\n",
    "  if registers['A']!=0:\n",
    "    pointer = operand-2\n",
    "  pointer += 2\n",
    "  return pointer, registers, out\n",
    "\n",
    "def bxc(opcode, operand, combo, pointer, registers, out):\n",
    "  '''4'''\n",
    "  assert(opcode==4)\n",
    "  registers['B'] = registers['B'] ^ registers['C']\n",
    "  pointer += 2\n",
    "  return pointer, registers, out\n",
    "\n",
    "def out(opcode, operand, combo, pointer, registers, out):\n",
    "  '''5'''\n",
    "  assert(opcode==5)\n",
    "  out.append(combo%8)\n",
    "  pointer += 2\n",
    "  return pointer, registers, out\n",
    "\n",
    "\n",
    "def bdv(opcode, operand, combo, pointer, registers, out):\n",
    "  '''6'''\n",
    "  assert(opcode==6)\n",
    "  registers['B'] = int(registers['A']/(2**combo))\n",
    "  pointer += 2\n",
    "  return pointer, registers, out\n",
    "\n",
    "\n",
    "def cdv(opcode, operand, combo, pointer, registers, out):\n",
    "  '''7'''\n",
    "  assert(opcode==7)\n",
    "  registers['C'] = int(registers['A']/(2**combo))\n",
    "  pointer += 2\n",
    "  return pointer, registers, out\n",
    "\n",
    "  \n",
    "opcode2func = {0:adv,\n",
    "               1:bxl,\n",
    "               2:bst,\n",
    "               3:jnz,\n",
    "               4:bxc,\n",
    "               5:out,\n",
    "               6:bdv,\n",
    "               7:cdv}\n",
    "\n",
    "\n",
    "def execute(registers, program):\n",
    "  pointer = 0\n",
    "  out = []\n",
    "  history = [(copy.deepcopy(pointer), copy.deepcopy(registers), copy.deepcopy(out))]\n",
    "  while pointer < len(program):\n",
    "    operand_to_combo = {\n",
    "                      0:0,\n",
    "                      1:1,\n",
    "                      2:2,\n",
    "                      3:3,\n",
    "                      4: registers['A'],\n",
    "                      5: registers['B'],\n",
    "                      6: registers['C']\n",
    "                      }\n",
    "    # print('============================================')\n",
    "    # print(\"-----------------BEFORE---------------------\")\n",
    "    opcode = program[pointer]\n",
    "    operand = program[pointer+1]\n",
    "    combo = operand_to_combo[operand]\n",
    "    # print(\"REGISTERS: \", registers)\n",
    "    # print(\"PROGRAM: \", program)\n",
    "    # print(\"OPCODE: \", opcode)\n",
    "    # print(\"OPERAND: \", operand)\n",
    "    # print(\"COMBO: \", combo)\n",
    "    # print(\"POINTER: \", pointer)\n",
    "    # print(\"CALLING \",opcode2func[opcode])\n",
    "    pointer, registers, out = opcode2func[opcode](opcode, operand, combo, pointer, registers, out)\n",
    "    # print(\"-----------------AFTER---------------------\")\n",
    "    # print(\"REGISTERS: \", registers)\n",
    "    # print(\"PROGRAM: \", program)\n",
    "    # print(\"OPCODE: \", opcode)\n",
    "    # print(\"OPERAND: \", operand)\n",
    "    # print(\"POINTER: \", pointer)\n",
    "    # print('============================================')\n",
    "  #   if return_history:\n",
    "  #     history.append((copy.deepcopy(pointer), copy.deepcopy(registers), copy.deepcopy(out)))\n",
    "  # if return_history:\n",
    "  #   return out, history\n",
    "  else:\n",
    "    return out \n",
    "\n",
    "\n",
    "def get_output(registers, program):\n",
    "  return ','.join(map(str,execute(registers, program)))\n",
    "\n",
    "\n",
    "def calculate_A_register(registers, program):\n",
    "  def calculate_A_register_(registers, program, cur_num=\"\", num_to_check=1):\n",
    "    # TODO: BASICALLY NEED TO DO THIS BUT MAKE IT BE A DFS (We may see two binary_0_to_8s that satisfy the current sequence so we need to check them all)\n",
    "    out = []\n",
    "    binary_0_to_8 = [\"{:b}\".format(i).zfill(3) for i in range(0,8)]\n",
    "    # print(binary_0_to_8)\n",
    "    # print(program[-num_to_check:])\n",
    "    # print(\"CUR NUM: \", cur_num)\n",
    "    potential_solutions = []\n",
    "    for b in binary_0_to_8:\n",
    "      cur_registers = copy.deepcopy(registers)\n",
    "      cur_program = copy.deepcopy(program)\n",
    "      cur_registers['A'] = int(cur_num+b, 2)\n",
    "      out = execute(cur_registers, cur_program)\n",
    "      if out == program[-num_to_check:]:\n",
    "          if out == program:\n",
    "            potential_solutions.append(cur_num+b)\n",
    "          else:\n",
    "            potential_solutions.append(calculate_A_register_(registers, program, cur_num + b, num_to_check+1))\n",
    "    # print(\"FLOOP\", potential_solutions, num_to_check)\n",
    "    out_num = b if len(potential_solutions) == 0 else max(potential_solutions, key=len)\n",
    "    # print(\"OUT NUM: \", out_num)\n",
    "    return out_num\n",
    "  return int(calculate_A_register_(registers, program), 2)"
   ]
  },
  {
   "cell_type": "code",
   "execution_count": 39,
   "metadata": {},
   "outputs": [
    {
     "name": "stdout",
     "output_type": "stream",
     "text": [
      "3,6,7,0,5,7,3,1,4\n"
     ]
    }
   ],
   "source": []
  },
  {
   "cell_type": "code",
   "execution_count": 17,
   "metadata": {},
   "outputs": [],
   "source": [
    "# def diff(a):\n",
    "#   return [a[i]-a[i-1] for i in range(1, len(a))]\n",
    "\n",
    "\n",
    "\n",
    "# def calculate_A_register(registers, program, start_num=0, n_to_increase=1, n_to_check=1, n_sols=10):\n",
    "#   cur_registers = copy.deepcopy(registers)\n",
    "#   cur_program = copy.deepcopy(program)\n",
    "#   out = [-1] * len(program)\n",
    "#   cnt = int(start_num / 2) if start_num/2 ==int(start_num/2) else start_num\n",
    "#   sols = []\n",
    "#   outs = []\n",
    "#   first = True\n",
    "#   loopcnt = 0\n",
    "#   while len(sols) < n_sols:\n",
    "#     cur_registers, cur_program = copy.deepcopy(formatted_input)\n",
    "#     cur_registers['A'] = cnt\n",
    "#     out = execute(cur_registers, cur_program, return_history=False)\n",
    "#     if first:\n",
    "#       print(\"PROGRAM: \", cur_program[:n_to_check])\n",
    "#       first = False\n",
    "#     if out[:n_to_check] == cur_program[:n_to_check]:\n",
    "#       print(\"DOOT\")\n",
    "#       sols.append(cnt)\n",
    "#       outs.append(out)\n",
    "#     cnt += n_to_increase\n",
    "#     loopcnt += 1\n",
    "#     if loopcnt%10000==0:\n",
    "#       print(cnt)\n",
    "#       print(cur_program[:n_to_check])\n",
    "#       print(out)\n",
    "#   # print(\"SD:\", sols, diff(sols))\n",
    "#   min_diff = min(diff(sols))\n",
    "#   print(diff(sols))\n",
    "#   min_sol = min(sols)\n",
    "#   # print(n_to_check, ':', sols, min_sol, min_diff)\n",
    "#   print(n_to_check, min_sol, min_diff)\n",
    "#   # assert len(set([sol%i for sol in sols])) == 1\n",
    "#   if n_to_check == len(program):\n",
    "#     return min_sol\n",
    "#   else:\n",
    "#     return calculate_A_register(registers, program, min_sol, min_diff, n_to_check+1, n_sols)"
   ]
  },
  {
   "cell_type": "code",
   "execution_count": 18,
   "metadata": {},
   "outputs": [],
   "source": [
    "# calculate_A_register(*formatted_input, n_to_check=4, n_sols=15)"
   ]
  },
  {
   "cell_type": "code",
   "execution_count": 222,
   "metadata": {},
   "outputs": [
    {
     "name": "stdout",
     "output_type": "stream",
     "text": [
      "[31157, 1079733]\n",
      "16384 14773\n",
      "[1079733, 5405109]\n",
      "1 0\n",
      "[5405109, 13793717]\n",
      "4194304 1210805\n",
      "[13793717, 1892841909]\n",
      "1 0\n",
      "[1892841909, 1892841909]\n"
     ]
    },
    {
     "ename": "KeyboardInterrupt",
     "evalue": "",
     "output_type": "error",
     "traceback": [
      "\u001b[1;31m---------------------------------------------------------------------------\u001b[0m",
      "\u001b[1;31mKeyboardInterrupt\u001b[0m                         Traceback (most recent call last)",
      "Cell \u001b[1;32mIn[222], line 9\u001b[0m\n\u001b[0;32m      7\u001b[0m   \u001b[38;5;28;01mif\u001b[39;00m \u001b[38;5;28mlen\u001b[39m(\u001b[38;5;28mset\u001b[39m(\u001b[38;5;28mmap\u001b[39m(\u001b[38;5;28;01mlambda\u001b[39;00m x: x\u001b[38;5;241m%\u001b[39mi, s)))\u001b[38;5;241m==\u001b[39m\u001b[38;5;241m1\u001b[39m:\n\u001b[0;32m      8\u001b[0m     maxi \u001b[38;5;241m=\u001b[39m i\n\u001b[1;32m----> 9\u001b[0m     maxrem \u001b[38;5;241m=\u001b[39m s[\u001b[38;5;241m0\u001b[39m]\u001b[38;5;241m%\u001b[39mi\n\u001b[0;32m     10\u001b[0m \u001b[38;5;28mprint\u001b[39m(maxi, maxrem)\n\u001b[0;32m     11\u001b[0m prev_maxi \u001b[38;5;241m=\u001b[39m maxi\n",
      "\u001b[1;31mKeyboardInterrupt\u001b[0m: "
     ]
    }
   ],
   "source": [
    "# sss = [31157, 1079733, 5405109, 13793717, 1892841909, 1892841909, 1892841909, 12630260149]\n",
    "# prev_maxi = 1\n",
    "# for poo in range(len(sss)-1):\n",
    "#   s = [sss[poo], sss[poo+1]]\n",
    "#   print(s)\n",
    "#   for i in range(1, s[0]+1, prev_maxi):\n",
    "#     if len(set(map(lambda x: x%i, s)))==1:\n",
    "#       maxi = i\n",
    "#       maxrem = s[0]%i\n",
    "#   print(maxi, maxrem)\n",
    "#   prev_maxi = maxi"
   ]
  },
  {
   "cell_type": "code",
   "execution_count": 19,
   "metadata": {},
   "outputs": [],
   "source": [
    "# calculate_A_register(*formatted_input, n_to_check=13, n_sols=12, start_num=12630260149, n_to_increase=4294967296)"
   ]
  },
  {
   "cell_type": "code",
   "execution_count": 20,
   "metadata": {},
   "outputs": [],
   "source": [
    "\n",
    "# out = [-1] * len(formatted_input[1])\n",
    "# cnt = 31157\n",
    "# sols = []\n",
    "# outs = []\n",
    "# histories = []\n",
    "# first = True\n",
    "# while len(sols) < 12:\n",
    "#   cur_registers, cur_program = copy.deepcopy(formatted_input)\n",
    "#   cur_registers['A'] = cnt\n",
    "#   out, history = execute(cur_registers, cur_program, return_history=True)\n",
    "#   if first:\n",
    "#     print(\"PROGRAM: \", cur_program[:4])\n",
    "#     first = False\n",
    "#   if out[:4] == cur_program[:4]:\n",
    "#     print(\"DOO\")\n",
    "#     sols.append(cnt)\n",
    "#     outs.append(out)\n",
    "#     histories.append(history)\n",
    "#   cnt += 128\n",
    "#   # print(\"SET A TO: \", cnt)\n",
    "# for i in range(len(sols)):\n",
    "#   print(\"\\n\\n\")\n",
    "#   print(sols[i], ':', outs[i])\n",
    "#   print(histories[i][:6])"
   ]
  },
  {
   "cell_type": "code",
   "execution_count": 21,
   "metadata": {},
   "outputs": [],
   "source": [
    "# print(sols, outs)\n",
    "# i = 0\n",
    "# min_diff = np.inf\n",
    "# max_same_mod = 1\n",
    "# for i in range(1, sols[0]+1):\n",
    "#   if len(set([sol%i for sol in sols])) == 1 and i > max_same_mod:\n",
    "#     max_same_mod = i\n",
    "#   diffs = np.diff(sols)[1:]\n",
    "#   if min(diffs) < min_diff:\n",
    "#     min_diff = min(diffs)\n",
    "# print('\\n')\n",
    "# print(max_same_mod, sols[0]%i, diffs)\n",
    "# print(\"MIN SOL\", min(sols))\n",
    "# print(\"MIN DIFF: \", min_diff)"
   ]
  },
  {
   "cell_type": "code",
   "execution_count": 23,
   "metadata": {},
   "outputs": [],
   "source": [
    "# 3968/128"
   ]
  },
  {
   "cell_type": "code",
   "execution_count": 24,
   "metadata": {},
   "outputs": [],
   "source": [
    "# [14+(64*i) for i in range(20)]"
   ]
  },
  {
   "cell_type": "code",
   "execution_count": 25,
   "metadata": {},
   "outputs": [
    {
     "data": {
      "text/plain": [
       "6"
      ]
     },
     "execution_count": 25,
     "metadata": {},
     "output_type": "execute_result"
    }
   ],
   "source": [
    "# 7^1"
   ]
  },
  {
   "cell_type": "code",
   "execution_count": null,
   "metadata": {},
   "outputs": [],
   "source": [
    "# 52699261352180149"
   ]
  },
  {
   "cell_type": "code",
   "execution_count": null,
   "metadata": {},
   "outputs": [],
   "source": [
    "# 281474976710656"
   ]
  },
  {
   "cell_type": "code",
   "execution_count": 26,
   "metadata": {},
   "outputs": [],
   "source": [
    "# n = 281474976710655\n",
    "# n = 281474976710655 - 246_290_604_621_823\n",
    "# print(n)\n",
    "# print('----')\n",
    "# for i in range(16):\n",
    "#   n = int(n/8)\n",
    "#   print(n)"
   ]
  },
  {
   "cell_type": "code",
   "execution_count": 27,
   "metadata": {},
   "outputs": [],
   "source": [
    "# n1 = 281474976710655\n",
    "# n2 = 281474976710655 - 246_290_604_621_823\n",
    "\n",
    "# from tqdm import tqdm\n",
    "# for i in tqdm(range(n2, n1+1)):\n",
    "#   10000 - 10000"
   ]
  },
  {
   "cell_type": "code",
   "execution_count": 28,
   "metadata": {},
   "outputs": [],
   "source": [
    "# n2"
   ]
  },
  {
   "cell_type": "code",
   "execution_count": 495,
   "metadata": {},
   "outputs": [
    {
     "data": {
      "text/plain": [
       "4194303.999999985"
      ]
     },
     "execution_count": 495,
     "metadata": {},
     "output_type": "execute_result"
    }
   ],
   "source": [
    "# 281474976710655\n",
    "# 35184372088832\n",
    "\n",
    "# 35195454519733\n",
    "\n"
   ]
  },
  {
   "cell_type": "code",
   "execution_count": 29,
   "metadata": {},
   "outputs": [],
   "source": [
    "# lowest = 1079733\n",
    "# difference = 131072\n",
    "# cnt = 268430000\n",
    "# start_cnt = cnt\n",
    "# while lowest + (difference*cnt) <= n1:\n",
    "#   if cnt % 100000 == 0:\n",
    "#     print(lowest + (difference*cnt))\n",
    "#   if lowest + (difference*cnt) >= n2:\n",
    "#     cur_registers = copy.deepcopy(formatted_input[0])\n",
    "#     cur_program = copy.deepcopy(formatted_input[1])\n",
    "#     cur_registers['A'] = lowest + (difference*cnt)\n",
    "#     out = execute(cur_registers, cur_program, return_history = False)\n",
    "#     assert(len(out) == len(cur_program))\n",
    "#     # print(out)\n",
    "#     if out == cur_program:\n",
    "#       print(\"HOWOWOWOW, \", lowest + (difference*cnt))\n",
    "#       break\n",
    "#   elif cnt == start_cnt:\n",
    "#     print(\"LOWER!!\")\n",
    "#   cnt += 1"
   ]
  },
  {
   "cell_type": "code",
   "execution_count": 30,
   "metadata": {},
   "outputs": [],
   "source": [
    "# for i in tqdm(range(int((n1 - n2) / 128))):\n",
    "#   1000 - 1000"
   ]
  },
  {
   "cell_type": "code",
   "execution_count": null,
   "metadata": {},
   "outputs": [],
   "source": [
    "# cur_registers = copy.deepcopy(formatted_input[0])\n",
    "# # cur_registers['A'] = 14 + 64 + 254\n",
    "\n",
    "# cur_registers['A'] = 164278496489149\n",
    "# # print(int(cur_registers['A']/8))\n",
    "# # print(cur_registers['A']%8)\n",
    "# cur_program = copy.deepcopy(formatted_input[1])\n",
    "# out, history = execute(cur_registers, cur_program, return_history = True)\n",
    "# print(out)\n",
    "# if out == [3,0]:\n",
    "#   print(out)\n",
    "#   for h in history:\n",
    "#     print(h)"
   ]
  },
  {
   "cell_type": "code",
   "execution_count": 33,
   "metadata": {},
   "outputs": [],
   "source": [
    "# n = 298\n",
    "# print(\"{0:b}\".format(n))\n",
    "# print(int(n/8))\n",
    "# print(n%8)"
   ]
  },
  {
   "cell_type": "code",
   "execution_count": 34,
   "metadata": {},
   "outputs": [
    {
     "data": {
      "text/plain": [
       "[0, 4, 7, 2, 5, 4, 0, 4, 4, 2, 4, 4, 7, 7, 3, 0]"
      ]
     },
     "execution_count": 34,
     "metadata": {},
     "output_type": "execute_result"
    }
   ],
   "source": [
    "# def calculate_A_register(registers, program):\n",
    "#   mod_to_num = {}\n",
    "#   for i in range(8):\n",
    "#     cur_registers = copy.deepcopy(registers)\n",
    "#     cur_program = copy.deepcopy(program)\n",
    "#     cur_registers['A'] = i\n",
    "#     mod_to_num[i] = execute(cur_registers, cur_program)[0]\n",
    "\n",
    "#   a_register = mod_to_num[program[-1]]\n",
    "#   for i, num in enumerate(reversed(program[:-1])):\n",
    "#     a_register = (a_register*8)+mod_to_num[num]\n",
    "#   return a_register\n",
    "\n",
    "# a_register = calculate_A_register(*formatted_input)\n",
    "\n",
    "# registers = copy.deepcopy(formatted_input[0])\n",
    "# program = copy.deepcopy(formatted_input[1])\n",
    "# registers['A'] = a_register\n",
    "# execute(registers, program)"
   ]
  },
  {
   "cell_type": "code",
   "execution_count": 361,
   "metadata": {},
   "outputs": [
    {
     "data": {
      "text/plain": [
       "1"
      ]
     },
     "execution_count": 361,
     "metadata": {},
     "output_type": "execute_result"
    }
   ],
   "source": [
    "# len(\"{0:b}\".format(1892841909))%3/"
   ]
  },
  {
   "cell_type": "code",
   "execution_count": 244,
   "metadata": {},
   "outputs": [
    {
     "data": {
      "text/plain": [
       "39"
      ]
     },
     "execution_count": 244,
     "metadata": {},
     "output_type": "execute_result"
    }
   ],
   "source": [
    "# 4, 2, 5, 5, 0, 3, 3, 0]"
   ]
  },
  {
   "cell_type": "code",
   "execution_count": 357,
   "metadata": {},
   "outputs": [
    {
     "data": {
      "text/plain": [
       "37"
      ]
     },
     "execution_count": 357,
     "metadata": {},
     "output_type": "execute_result"
    }
   ],
   "source": [
    "# int(\"100101\", 2)"
   ]
  },
  {
   "cell_type": "code",
   "execution_count": 346,
   "metadata": {},
   "outputs": [
    {
     "name": "stdout",
     "output_type": "stream",
     "text": [
      "100\n",
      "100111\n",
      "100101010\n",
      "100101010110\n"
     ]
    }
   ],
   "source": [
    "# print(\"{0:b}\".format(4))\n",
    "# print(\"{0:b}\".format(39))\n",
    "# print(\"{0:b}\".format(298))\n",
    "# print(\"{0:b}\".format(2390))"
   ]
  },
  {
   "cell_type": "code",
   "execution_count": 40,
   "metadata": {},
   "outputs": [],
   "source": [
    "\n",
    "          \n"
   ]
  },
  {
   "cell_type": "code",
   "execution_count": 41,
   "metadata": {},
   "outputs": [
    {
     "name": "stdout",
     "output_type": "stream",
     "text": [
      "3,6,7,0,5,7,3,1,4\n",
      "164278496489149\n"
     ]
    }
   ],
   "source": [
    "print(get_output(*copy.deepcopy(formatted_input)))\n",
    "print(calculate_A_register(*formatted_input))"
   ]
  },
  {
   "cell_type": "code",
   "execution_count": null,
   "metadata": {},
   "outputs": [],
   "source": []
  }
 ],
 "metadata": {
  "kernelspec": {
   "display_name": "Advent_Of_Code",
   "language": "python",
   "name": "python3"
  },
  "language_info": {
   "codemirror_mode": {
    "name": "ipython",
    "version": 3
   },
   "file_extension": ".py",
   "mimetype": "text/x-python",
   "name": "python",
   "nbconvert_exporter": "python",
   "pygments_lexer": "ipython3",
   "version": "3.9.18"
  }
 },
 "nbformat": 4,
 "nbformat_minor": 2
}
