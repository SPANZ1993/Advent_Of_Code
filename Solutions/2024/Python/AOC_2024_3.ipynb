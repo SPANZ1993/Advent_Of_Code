{
 "cells": [
  {
   "cell_type": "code",
   "execution_count": 1,
   "id": "6648cb35-6228-4b33-93cd-97de1a5c5215",
   "metadata": {},
   "outputs": [],
   "source": [
    "from pathlib import Path\n",
    "import os\n",
    "\n",
    "yr = 2024\n",
    "d = 3\n",
    "\n",
    "inp_path = os.path.join(Path(os.path.abspath(\"\")).parents[2], \n",
    "             'Input', '{}'.format(yr), \n",
    "             '{}.txt'.format(d))\n",
    "\n",
    "with open(inp_path, 'r') as file:\n",
    "    inp = file.read()"
   ]
  },
  {
   "cell_type": "code",
   "execution_count": 2,
   "id": "71e1e398-58d0-4ed6-aee0-feb335d945a4",
   "metadata": {},
   "outputs": [],
   "source": [
    "import re\n",
    "from math import prod\n",
    "\n",
    "def extract_sum(data):\n",
    "    return sum(map(prod, [map(int,m) for m in re.findall(\"mul\\((\\d+),(\\d+)\\)\", data, re.DOTALL)]))"
   ]
  },
  {
   "cell_type": "code",
   "execution_count": 3,
   "id": "535cd7c7-1217-482f-ba52-56af0d9511d4",
   "metadata": {},
   "outputs": [
    {
     "name": "stdout",
     "output_type": "stream",
     "text": [
      "184511516\n",
      "90044227\n",
      "\n",
      "RUNTIME:  0.0009975433349609375\n"
     ]
    }
   ],
   "source": [
    "import time\n",
    "\n",
    "t = time.time()\n",
    "\n",
    "formatted_input = inp\n",
    "\n",
    "print(extract_sum(formatted_input))\n",
    "print(extract_sum(\"\".join([s.split(\"don't()\")[0] for s in formatted_input.split(\"do()\")])))\n",
    "\n",
    "print('\\nRUNTIME: ', time.time()-t)"
   ]
  }
 ],
 "metadata": {
  "kernelspec": {
   "display_name": "Python 3 (ipykernel)",
   "language": "python",
   "name": "python3"
  },
  "language_info": {
   "codemirror_mode": {
    "name": "ipython",
    "version": 3
   },
   "file_extension": ".py",
   "mimetype": "text/x-python",
   "name": "python",
   "nbconvert_exporter": "python",
   "pygments_lexer": "ipython3",
   "version": "3.9.18"
  }
 },
 "nbformat": 4,
 "nbformat_minor": 5
}
