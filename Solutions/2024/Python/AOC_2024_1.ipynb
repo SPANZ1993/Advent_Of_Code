{
 "cells": [
  {
   "cell_type": "code",
   "execution_count": 20,
   "id": "9a99c713-13ab-4548-b0eb-67d383385d54",
   "metadata": {},
   "outputs": [],
   "source": [
    "from pathlib import Path\n",
    "import os\n",
    "\n",
    "yr = 2024\n",
    "d = 1\n",
    "\n",
    "inp_path = os.path.join(Path(os.path.abspath(\"\")).parents[2], \n",
    "             'Input', '{}'.format(yr), \n",
    "             '{}.txt'.format(d))\n",
    "\n",
    "with open(inp_path, 'r') as file:\n",
    "    inp = file.readlines()"
   ]
  },
  {
   "cell_type": "code",
   "execution_count": 32,
   "id": "cac333a6-5240-4c3f-ae2d-997f0be89678",
   "metadata": {},
   "outputs": [],
   "source": [
    "import numpy as np\n",
    "def format_input(inp):\n",
    "    return np.array([list(map(int, line.strip().split())) for line in inp])"
   ]
  },
  {
   "cell_type": "code",
   "execution_count": 33,
   "id": "b0ddbdba-9300-4bc3-a53f-781a10993871",
   "metadata": {},
   "outputs": [],
   "source": [
    "formatted_input = format_input(inp)"
   ]
  },
  {
   "cell_type": "code",
   "execution_count": 46,
   "id": "b15c421c-beb4-465b-bbf6-a7b6aa6fb97e",
   "metadata": {},
   "outputs": [],
   "source": [
    "def list_dist(formatted_input):\n",
    "    return np.sum(np.abs(np.sort(formatted_input[:,0]) - np.sort(formatted_input[:,1])))"
   ]
  },
  {
   "cell_type": "code",
   "execution_count": 50,
   "id": "55a7f286-91d6-4609-ae10-aa1d86fad146",
   "metadata": {},
   "outputs": [],
   "source": [
    "def sim_score(formatted_input):\n",
    "    return np.sum(formatted_input[:,0] * np.array([len(np.extract(formatted_input[:,1]==x, formatted_input[:,1])) for x in formatted_input[:,0]]))"
   ]
  },
  {
   "cell_type": "code",
   "execution_count": 51,
   "id": "e58cbf83-9616-478d-832f-7ace617ef425",
   "metadata": {},
   "outputs": [
    {
     "name": "stdout",
     "output_type": "stream",
     "text": [
      "1151792\n",
      "21790168\n",
      "\n",
      "RUNTIME:  0.00897526741027832\n"
     ]
    }
   ],
   "source": [
    "import time\n",
    "\n",
    "t = time.time()\n",
    "\n",
    "formatted_input = format_input(inp)\n",
    "\n",
    "print(list_dist(formatted_input))\n",
    "print(sim_score(formatted_input))\n",
    "\n",
    "print('\\nRUNTIME: ', time.time()-t)"
   ]
  }
 ],
 "metadata": {
  "kernelspec": {
   "display_name": "Python 3 (ipykernel)",
   "language": "python",
   "name": "python3"
  },
  "language_info": {
   "codemirror_mode": {
    "name": "ipython",
    "version": 3
   },
   "file_extension": ".py",
   "mimetype": "text/x-python",
   "name": "python",
   "nbconvert_exporter": "python",
   "pygments_lexer": "ipython3",
   "version": "3.9.18"
  }
 },
 "nbformat": 4,
 "nbformat_minor": 5
}
