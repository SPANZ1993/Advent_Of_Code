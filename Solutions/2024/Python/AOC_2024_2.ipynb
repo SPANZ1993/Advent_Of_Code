{
 "cells": [
  {
   "cell_type": "code",
   "execution_count": 1,
   "id": "e385c3bb-43aa-43f1-9cb6-953ef7f7b980",
   "metadata": {},
   "outputs": [],
   "source": [
    "from pathlib import Path\n",
    "import os\n",
    "\n",
    "yr = 2024\n",
    "d = 2\n",
    "\n",
    "inp_path = os.path.join(Path(os.path.abspath(\"\")).parents[2], \n",
    "             'Input', '{}'.format(yr), \n",
    "             '{}.txt'.format(d))\n",
    "\n",
    "with open(inp_path, 'r') as file:\n",
    "    inp = file.readlines()"
   ]
  },
  {
   "cell_type": "code",
   "execution_count": 2,
   "id": "268edf73-42fd-4797-8dff-08909d336ef0",
   "metadata": {},
   "outputs": [],
   "source": [
    "import numpy as np\n",
    "def format_input(inp):\n",
    "    return [np.array(list(map(int, line.strip().split()))) for line in inp]"
   ]
  },
  {
   "cell_type": "code",
   "execution_count": 3,
   "id": "7544b5be-ef02-4752-94de-324d2d308ddc",
   "metadata": {},
   "outputs": [],
   "source": [
    "formatted_input = format_input(inp)"
   ]
  },
  {
   "cell_type": "code",
   "execution_count": 4,
   "id": "c8075604-e8d0-4e7f-9bae-a3c30ebc59aa",
   "metadata": {},
   "outputs": [],
   "source": [
    "def is_safe(report):\n",
    "    d = np.diff(report)\n",
    "    return (np.all(d >= 0) or np.all(d <= 0)) and np.all((np.abs(d) <= 3) * (np.abs(d) >= 1))\n",
    "\n",
    "def count_safe(formatted_input, dampen=False):\n",
    "    return sum(\n",
    "                [any(\n",
    "                        [is_safe(candidate) for candidate in (\n",
    "                                                                [candidate_report] \n",
    "                                                                + ([np.delete(candidate_report, i) for i in range(len(candidate_report))] if dampen else [])\n",
    "                                                             )\n",
    "                        ]\n",
    "                    )\n",
    "                      for candidate_report in formatted_input\n",
    "                ]\n",
    "            )"
   ]
  },
  {
   "cell_type": "code",
   "execution_count": 5,
   "id": "7dc06b03-8e59-410c-89b8-9fb4ea36a4d8",
   "metadata": {},
   "outputs": [
    {
     "name": "stdout",
     "output_type": "stream",
     "text": [
      "390\n",
      "390\n",
      "\n",
      "RUNTIME:  0.029452800750732422\n"
     ]
    }
   ],
   "source": [
    "import time\n",
    "\n",
    "t = time.time()\n",
    "\n",
    "formatted_input = format_input(inp)\n",
    "\n",
    "print(count_safe(formatted_input))\n",
    "print(count_safe(formatted_input, dampen=True))\n",
    "\n",
    "print('\\nRUNTIME: ', time.time()-t)"
   ]
  }
 ],
 "metadata": {
  "kernelspec": {
   "display_name": "Python 3 (ipykernel)",
   "language": "python",
   "name": "python3"
  },
  "language_info": {
   "codemirror_mode": {
    "name": "ipython",
    "version": 3
   },
   "file_extension": ".py",
   "mimetype": "text/x-python",
   "name": "python",
   "nbconvert_exporter": "python",
   "pygments_lexer": "ipython3",
   "version": "3.9.18"
  }
 },
 "nbformat": 4,
 "nbformat_minor": 5
}
