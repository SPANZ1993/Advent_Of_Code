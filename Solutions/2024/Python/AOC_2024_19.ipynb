{
 "cells": [
  {
   "cell_type": "code",
   "execution_count": 1,
   "metadata": {},
   "outputs": [],
   "source": [
    "from pathlib import Path\n",
    "import os\n",
    "\n",
    "yr = 2024\n",
    "d = 19\n",
    "\n",
    "inp_path = os.path.join(Path(os.path.abspath(\"\")).parents[2], \n",
    "             'Input', '{}'.format(yr), \n",
    "             '{}.txt'.format(d))\n",
    "\n",
    "with open(inp_path, 'r') as file:\n",
    "    inp = file.readlines()"
   ]
  },
  {
   "cell_type": "code",
   "execution_count": 2,
   "metadata": {},
   "outputs": [],
   "source": [
    "from functools import cache\n",
    "\n",
    "def format_input(inp):\n",
    "  available_towels = tuple([t for t in inp[0].strip().split(', ')])\n",
    "  designs = tuple([p.strip() for p in inp[2:]])\n",
    "  return available_towels, designs"
   ]
  },
  {
   "cell_type": "code",
   "execution_count": 3,
   "metadata": {},
   "outputs": [],
   "source": [
    "@cache\n",
    "def design_is_possible(design, available_towels):\n",
    "  possible_solutions = []\n",
    "  for t in available_towels:\n",
    "    if design[:len(t)] == t:\n",
    "      if len(design) == len(t):\n",
    "        return True\n",
    "      else:\n",
    "        possible_solutions.append(design_is_possible(design[len(t):], available_towels))\n",
    "  return any(possible_solutions)\n",
    "\n",
    "\n",
    "def count_possible_designs(available_towels, designs):\n",
    "  return sum([design_is_possible(design, available_towels) for design in designs])\n",
    "\n",
    "\n",
    "@cache\n",
    "def num_possible_solutions(design, available_towels):\n",
    "  possible_solutions = 0\n",
    "  for t in available_towels:\n",
    "    if design[:len(t)] == t:\n",
    "      if design_is_possible(design[len(t):], available_towels):\n",
    "        possible_solutions += num_possible_solutions(design[len(t):], available_towels)\n",
    "      elif design == t:\n",
    "        possible_solutions += 1\n",
    "  return possible_solutions\n",
    "\n",
    "\n",
    "def count_possible_solutions(available_towels, designs):\n",
    "  return sum([num_possible_solutions(design, available_towels) for design in designs])"
   ]
  },
  {
   "cell_type": "code",
   "execution_count": 4,
   "metadata": {},
   "outputs": [
    {
     "name": "stdout",
     "output_type": "stream",
     "text": [
      "240\n",
      "848076019766013\n",
      "\n",
      "RUNTIME:  1.1278326511383057\n"
     ]
    }
   ],
   "source": [
    "import time\n",
    "\n",
    "t = time.time()\n",
    "\n",
    "formatted_input = format_input(inp)\n",
    "\n",
    "print(count_possible_designs(*formatted_input))\n",
    "print(count_possible_solutions(*formatted_input))\n",
    "\n",
    "print('\\nRUNTIME: ', time.time()-t)"
   ]
  }
 ],
 "metadata": {
  "kernelspec": {
   "display_name": "Advent_Of_Code",
   "language": "python",
   "name": "python3"
  },
  "language_info": {
   "codemirror_mode": {
    "name": "ipython",
    "version": 3
   },
   "file_extension": ".py",
   "mimetype": "text/x-python",
   "name": "python",
   "nbconvert_exporter": "python",
   "pygments_lexer": "ipython3",
   "version": "3.9.18"
  }
 },
 "nbformat": 4,
 "nbformat_minor": 2
}
