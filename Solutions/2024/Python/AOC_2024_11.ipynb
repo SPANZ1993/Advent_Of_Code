{
 "cells": [
  {
   "cell_type": "code",
   "execution_count": 12,
   "metadata": {},
   "outputs": [],
   "source": [
    "from pathlib import Path\n",
    "import os\n",
    "\n",
    "yr = 2024\n",
    "d = 11\n",
    "\n",
    "inp_path = os.path.join(Path(os.path.abspath(\"\")).parents[2], \n",
    "             'Input', '{}'.format(yr), \n",
    "             '{}.txt'.format(d))\n",
    "\n",
    "with open(inp_path, 'r') as file:\n",
    "    inp = file.readline()"
   ]
  },
  {
   "cell_type": "code",
   "execution_count": 13,
   "metadata": {},
   "outputs": [],
   "source": [
    "def format_input(inp):\n",
    "  return [int(n) for n in inp.split()]"
   ]
  },
  {
   "cell_type": "code",
   "execution_count": 14,
   "metadata": {},
   "outputs": [],
   "source": [
    "from functools import cache, reduce\n",
    "from collections import Counter\n",
    "\n",
    "@cache\n",
    "def applyRulesStone(stone):\n",
    "  assert(isinstance(stone, int))\n",
    "  n = stone\n",
    "  if n==0:\n",
    "    return ((1,),)\n",
    "  s = str(n)\n",
    "  l = len(s)\n",
    "  if (l%2 == 0):\n",
    "    return ((int(s[:l//2]),), (int(s[l//2:]),))\n",
    "  else:\n",
    "    return ((n*2024,),)\n",
    "\n",
    "@cache\n",
    "def applyRulesSingle(*stones):\n",
    "  new_stones = []\n",
    "  for stone in stones:\n",
    "    if(isinstance(stone, int)):\n",
    "      new_stones.append(applyRulesStone(stone))\n",
    "    else:\n",
    "      new_stones.append(applyRulesSingle(*stone))\n",
    "  return tuple(new_stones)\n",
    "\n",
    "@cache\n",
    "def applyRulesMultiple(n, *stones):\n",
    "  if n == 0:\n",
    "    return stones\n",
    "  else:\n",
    "    return tuple((applyRulesMultiple(n-1, applyRulesSingle(stone)) for stone in stones))\n",
    "  \n",
    "\n",
    "\n",
    "def count_stones_(stones):\n",
    "  from collections import Counter\n",
    "  def traverse(a):\n",
    "    if not isinstance(a, tuple):\n",
    "        yield a\n",
    "    else:\n",
    "        for e in a:\n",
    "            yield from traverse(e)\n",
    "  cnt = Counter([e for e in traverse(stones)])\n",
    "\n",
    "  return cnt\n",
    "\n",
    "def scale_dict(d, n):\n",
    "  for k, v in d.items():\n",
    "    d[k] = v*n\n",
    "  return d\n",
    "\n",
    "def count_stones(stones, multiplier=1):\n",
    "  return scale_dict(count_stones_(stones), multiplier)\n",
    "\n",
    "\n",
    "def applyRulesRepeat(stones, blinks, repeat=3):\n",
    "  if isinstance(stones, list):\n",
    "     stones = Counter(stones)\n",
    "  for _ in range(repeat):\n",
    "     stones = reduce(lambda a, b: a+b,  [count_stones(applyRulesMultiple(blinks, stone), n) for stone, n in stones.items()])\n",
    "  return sum(stones.values())\n",
    "\n",
    "  "
   ]
  },
  {
   "cell_type": "code",
   "execution_count": 15,
   "metadata": {},
   "outputs": [
    {
     "name": "stdout",
     "output_type": "stream",
     "text": [
      "209412\n",
      "248967696501656\n",
      "\n",
      "RUNTIME:  675.384494304657\n"
     ]
    }
   ],
   "source": [
    "import time\n",
    "\n",
    "t = time.time()\n",
    "\n",
    "formatted_input = format_input(inp)\n",
    "\n",
    "print(sum(count_stones(applyRulesMultiple(25, *formatted_input)).values()))\n",
    "print(applyRulesRepeat(formatted_input, 25, 3))\n",
    "\n",
    "print('\\nRUNTIME: ', time.time()-t)"
   ]
  }
 ],
 "metadata": {
  "kernelspec": {
   "display_name": "Advent_Of_Code",
   "language": "python",
   "name": "python3"
  },
  "language_info": {
   "codemirror_mode": {
    "name": "ipython",
    "version": 3
   },
   "file_extension": ".py",
   "mimetype": "text/x-python",
   "name": "python",
   "nbconvert_exporter": "python",
   "pygments_lexer": "ipython3",
   "version": "3.9.18"
  }
 },
 "nbformat": 4,
 "nbformat_minor": 2
}
